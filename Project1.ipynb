{
  "nbformat": 4,
  "nbformat_minor": 0,
  "metadata": {
    "colab": {
      "provenance": [],
      "authorship_tag": "ABX9TyNM+7KdresQoL9wfpTq2nPX",
      "include_colab_link": true
    },
    "kernelspec": {
      "name": "python3",
      "display_name": "Python 3"
    },
    "language_info": {
      "name": "python"
    }
  },
  "cells": [
    {
      "cell_type": "markdown",
      "metadata": {
        "id": "view-in-github",
        "colab_type": "text"
      },
      "source": [
        "<a href=\"https://colab.research.google.com/github/madhuryap23/madhuryap23/blob/main/Project1.ipynb\" target=\"_parent\"><img src=\"https://colab.research.google.com/assets/colab-badge.svg\" alt=\"Open In Colab\"/></a>"
      ]
    },
    {
      "cell_type": "markdown",
      "source": [
        "**MOVIE RECOMMENDATION SYSTEM**"
      ],
      "metadata": {
        "id": "3Ti6AttSxk61"
      }
    },
    {
      "cell_type": "markdown",
      "source": [
        "**Objective**: A recommender system is a system that seeks to predict or filter preferences according to the user's choices. It is utilized in various areas, including movies, music, news, books, research articles, search queries, social tags, and products in general. This project aims to **develop a basic recommendation system** by suggesting items that are most similar to a particular item, in this case, movies. This will help tell the movies/items most similar to the user's movie choices."
      ],
      "metadata": {
        "id": "gDqkkD21x-YM"
      }
    },
    {
      "cell_type": "markdown",
      "source": [
        "#Import Library"
      ],
      "metadata": {
        "id": "N3sUQUrE1vOd"
      }
    },
    {
      "cell_type": "code",
      "source": [
        "import pandas as pd"
      ],
      "metadata": {
        "id": "9WH09wdY0O_W"
      },
      "execution_count": 1,
      "outputs": []
    },
    {
      "cell_type": "code",
      "source": [
        "import numpy as np"
      ],
      "metadata": {
        "id": "xEAi_Oci1fPU"
      },
      "execution_count": 3,
      "outputs": []
    },
    {
      "cell_type": "markdown",
      "source": [
        "#Import Data"
      ],
      "metadata": {
        "id": "9OFv1mBI11XJ"
      }
    },
    {
      "cell_type": "code",
      "source": [
        "df= pd.read_csv('https://raw.githubusercontent.com/YBI-Foundation/Dataset/main/Movies%20Recommendation.csv')"
      ],
      "metadata": {
        "id": "9uk5HWb91iOh"
      },
      "execution_count": 4,
      "outputs": []
    },
    {
      "cell_type": "code",
      "source": [
        "df.head()"
      ],
      "metadata": {
        "colab": {
          "base_uri": "https://localhost:8080/",
          "height": 672
        },
        "id": "r4sT4EvI2o_y",
        "outputId": "a53fc775-7472-4f68-b660-6856f0e61ce7"
      },
      "execution_count": 5,
      "outputs": [
        {
          "output_type": "execute_result",
          "data": {
            "text/plain": [
              "   Movie_ID      Movie_Title                       Movie_Genre Movie_Language  \\\n",
              "0         1       Four Rooms                      Crime Comedy             en   \n",
              "1         2        Star Wars  Adventure Action Science Fiction             en   \n",
              "2         3     Finding Nemo                  Animation Family             en   \n",
              "3         4     Forrest Gump              Comedy Drama Romance             en   \n",
              "4         5  American Beauty                             Drama             en   \n",
              "\n",
              "   Movie_Budget  Movie_Popularity Movie_Release_Date  Movie_Revenue  \\\n",
              "0       4000000         22.876230         09-12-1995        4300000   \n",
              "1      11000000        126.393695         25-05-1977      775398007   \n",
              "2      94000000         85.688789         30-05-2003      940335536   \n",
              "3      55000000        138.133331         06-07-1994      677945399   \n",
              "4      15000000         80.878605         15-09-1999      356296601   \n",
              "\n",
              "   Movie_Runtime  Movie_Vote  ...  \\\n",
              "0           98.0         6.5  ...   \n",
              "1          121.0         8.1  ...   \n",
              "2          100.0         7.6  ...   \n",
              "3          142.0         8.2  ...   \n",
              "4          122.0         7.9  ...   \n",
              "\n",
              "                                      Movie_Homepage  \\\n",
              "0                                                NaN   \n",
              "1  http://www.starwars.com/films/star-wars-episod...   \n",
              "2              http://movies.disney.com/finding-nemo   \n",
              "3                                                NaN   \n",
              "4                      http://www.dreamworks.com/ab/   \n",
              "\n",
              "                                      Movie_Keywords  \\\n",
              "0          hotel new year's eve witch bet hotel room   \n",
              "1        android galaxy hermit death star lightsaber   \n",
              "2  father son relationship harbor underwater fish...   \n",
              "3  vietnam veteran hippie mentally disabled runni...   \n",
              "4  male nudity female nudity adultery midlife cri...   \n",
              "\n",
              "                                      Movie_Overview  \\\n",
              "0  It's Ted the Bellhop's first night on the job....   \n",
              "1  Princess Leia is captured and held hostage by ...   \n",
              "2  Nemo, an adventurous young clownfish, is unexp...   \n",
              "3  A man with a low IQ has accomplished great thi...   \n",
              "4  Lester Burnham, a depressed suburban father in...   \n",
              "\n",
              "                              Movie_Production_House  \\\n",
              "0  [{\"name\": \"Miramax Films\", \"id\": 14}, {\"name\":...   \n",
              "1  [{\"name\": \"Lucasfilm\", \"id\": 1}, {\"name\": \"Twe...   \n",
              "2     [{\"name\": \"Pixar Animation Studios\", \"id\": 3}]   \n",
              "3          [{\"name\": \"Paramount Pictures\", \"id\": 4}]   \n",
              "4  [{\"name\": \"DreamWorks SKG\", \"id\": 27}, {\"name\"...   \n",
              "\n",
              "                            Movie_Production_Country  \\\n",
              "0  [{\"iso_3166_1\": \"US\", \"name\": \"United States o...   \n",
              "1  [{\"iso_3166_1\": \"US\", \"name\": \"United States o...   \n",
              "2  [{\"iso_3166_1\": \"US\", \"name\": \"United States o...   \n",
              "3  [{\"iso_3166_1\": \"US\", \"name\": \"United States o...   \n",
              "4  [{\"iso_3166_1\": \"US\", \"name\": \"United States o...   \n",
              "\n",
              "                      Movie_Spoken_Language  \\\n",
              "0  [{\"iso_639_1\": \"en\", \"name\": \"English\"}]   \n",
              "1  [{\"iso_639_1\": \"en\", \"name\": \"English\"}]   \n",
              "2  [{\"iso_639_1\": \"en\", \"name\": \"English\"}]   \n",
              "3  [{\"iso_639_1\": \"en\", \"name\": \"English\"}]   \n",
              "4  [{\"iso_639_1\": \"en\", \"name\": \"English\"}]   \n",
              "\n",
              "                                       Movie_Tagline  \\\n",
              "0  Twelve outrageous guests. Four scandalous requ...   \n",
              "1       A long time ago in a galaxy far, far away...   \n",
              "2  There are 3.7 trillion fish in the ocean, they...   \n",
              "3  The world will never be the same, once you've ...   \n",
              "4                                       Look closer.   \n",
              "\n",
              "                                          Movie_Cast  \\\n",
              "0  Tim Roth Antonio Banderas Jennifer Beals Madon...   \n",
              "1  Mark Hamill Harrison Ford Carrie Fisher Peter ...   \n",
              "2  Albert Brooks Ellen DeGeneres Alexander Gould ...   \n",
              "3  Tom Hanks Robin Wright Gary Sinise Mykelti Wil...   \n",
              "4  Kevin Spacey Annette Bening Thora Birch Wes Be...   \n",
              "\n",
              "                                          Movie_Crew   Movie_Director  \n",
              "0  [{'name': 'Allison Anders', 'gender': 1, 'depa...   Allison Anders  \n",
              "1  [{'name': 'George Lucas', 'gender': 2, 'depart...     George Lucas  \n",
              "2  [{'name': 'Andrew Stanton', 'gender': 2, 'depa...   Andrew Stanton  \n",
              "3  [{'name': 'Alan Silvestri', 'gender': 2, 'depa...  Robert Zemeckis  \n",
              "4  [{'name': 'Thomas Newman', 'gender': 2, 'depar...       Sam Mendes  \n",
              "\n",
              "[5 rows x 21 columns]"
            ],
            "text/html": [
              "\n",
              "  <div id=\"df-3f0223d6-7af0-4053-abe7-d60d313131cb\" class=\"colab-df-container\">\n",
              "    <div>\n",
              "<style scoped>\n",
              "    .dataframe tbody tr th:only-of-type {\n",
              "        vertical-align: middle;\n",
              "    }\n",
              "\n",
              "    .dataframe tbody tr th {\n",
              "        vertical-align: top;\n",
              "    }\n",
              "\n",
              "    .dataframe thead th {\n",
              "        text-align: right;\n",
              "    }\n",
              "</style>\n",
              "<table border=\"1\" class=\"dataframe\">\n",
              "  <thead>\n",
              "    <tr style=\"text-align: right;\">\n",
              "      <th></th>\n",
              "      <th>Movie_ID</th>\n",
              "      <th>Movie_Title</th>\n",
              "      <th>Movie_Genre</th>\n",
              "      <th>Movie_Language</th>\n",
              "      <th>Movie_Budget</th>\n",
              "      <th>Movie_Popularity</th>\n",
              "      <th>Movie_Release_Date</th>\n",
              "      <th>Movie_Revenue</th>\n",
              "      <th>Movie_Runtime</th>\n",
              "      <th>Movie_Vote</th>\n",
              "      <th>...</th>\n",
              "      <th>Movie_Homepage</th>\n",
              "      <th>Movie_Keywords</th>\n",
              "      <th>Movie_Overview</th>\n",
              "      <th>Movie_Production_House</th>\n",
              "      <th>Movie_Production_Country</th>\n",
              "      <th>Movie_Spoken_Language</th>\n",
              "      <th>Movie_Tagline</th>\n",
              "      <th>Movie_Cast</th>\n",
              "      <th>Movie_Crew</th>\n",
              "      <th>Movie_Director</th>\n",
              "    </tr>\n",
              "  </thead>\n",
              "  <tbody>\n",
              "    <tr>\n",
              "      <th>0</th>\n",
              "      <td>1</td>\n",
              "      <td>Four Rooms</td>\n",
              "      <td>Crime Comedy</td>\n",
              "      <td>en</td>\n",
              "      <td>4000000</td>\n",
              "      <td>22.876230</td>\n",
              "      <td>09-12-1995</td>\n",
              "      <td>4300000</td>\n",
              "      <td>98.0</td>\n",
              "      <td>6.5</td>\n",
              "      <td>...</td>\n",
              "      <td>NaN</td>\n",
              "      <td>hotel new year's eve witch bet hotel room</td>\n",
              "      <td>It's Ted the Bellhop's first night on the job....</td>\n",
              "      <td>[{\"name\": \"Miramax Films\", \"id\": 14}, {\"name\":...</td>\n",
              "      <td>[{\"iso_3166_1\": \"US\", \"name\": \"United States o...</td>\n",
              "      <td>[{\"iso_639_1\": \"en\", \"name\": \"English\"}]</td>\n",
              "      <td>Twelve outrageous guests. Four scandalous requ...</td>\n",
              "      <td>Tim Roth Antonio Banderas Jennifer Beals Madon...</td>\n",
              "      <td>[{'name': 'Allison Anders', 'gender': 1, 'depa...</td>\n",
              "      <td>Allison Anders</td>\n",
              "    </tr>\n",
              "    <tr>\n",
              "      <th>1</th>\n",
              "      <td>2</td>\n",
              "      <td>Star Wars</td>\n",
              "      <td>Adventure Action Science Fiction</td>\n",
              "      <td>en</td>\n",
              "      <td>11000000</td>\n",
              "      <td>126.393695</td>\n",
              "      <td>25-05-1977</td>\n",
              "      <td>775398007</td>\n",
              "      <td>121.0</td>\n",
              "      <td>8.1</td>\n",
              "      <td>...</td>\n",
              "      <td>http://www.starwars.com/films/star-wars-episod...</td>\n",
              "      <td>android galaxy hermit death star lightsaber</td>\n",
              "      <td>Princess Leia is captured and held hostage by ...</td>\n",
              "      <td>[{\"name\": \"Lucasfilm\", \"id\": 1}, {\"name\": \"Twe...</td>\n",
              "      <td>[{\"iso_3166_1\": \"US\", \"name\": \"United States o...</td>\n",
              "      <td>[{\"iso_639_1\": \"en\", \"name\": \"English\"}]</td>\n",
              "      <td>A long time ago in a galaxy far, far away...</td>\n",
              "      <td>Mark Hamill Harrison Ford Carrie Fisher Peter ...</td>\n",
              "      <td>[{'name': 'George Lucas', 'gender': 2, 'depart...</td>\n",
              "      <td>George Lucas</td>\n",
              "    </tr>\n",
              "    <tr>\n",
              "      <th>2</th>\n",
              "      <td>3</td>\n",
              "      <td>Finding Nemo</td>\n",
              "      <td>Animation Family</td>\n",
              "      <td>en</td>\n",
              "      <td>94000000</td>\n",
              "      <td>85.688789</td>\n",
              "      <td>30-05-2003</td>\n",
              "      <td>940335536</td>\n",
              "      <td>100.0</td>\n",
              "      <td>7.6</td>\n",
              "      <td>...</td>\n",
              "      <td>http://movies.disney.com/finding-nemo</td>\n",
              "      <td>father son relationship harbor underwater fish...</td>\n",
              "      <td>Nemo, an adventurous young clownfish, is unexp...</td>\n",
              "      <td>[{\"name\": \"Pixar Animation Studios\", \"id\": 3}]</td>\n",
              "      <td>[{\"iso_3166_1\": \"US\", \"name\": \"United States o...</td>\n",
              "      <td>[{\"iso_639_1\": \"en\", \"name\": \"English\"}]</td>\n",
              "      <td>There are 3.7 trillion fish in the ocean, they...</td>\n",
              "      <td>Albert Brooks Ellen DeGeneres Alexander Gould ...</td>\n",
              "      <td>[{'name': 'Andrew Stanton', 'gender': 2, 'depa...</td>\n",
              "      <td>Andrew Stanton</td>\n",
              "    </tr>\n",
              "    <tr>\n",
              "      <th>3</th>\n",
              "      <td>4</td>\n",
              "      <td>Forrest Gump</td>\n",
              "      <td>Comedy Drama Romance</td>\n",
              "      <td>en</td>\n",
              "      <td>55000000</td>\n",
              "      <td>138.133331</td>\n",
              "      <td>06-07-1994</td>\n",
              "      <td>677945399</td>\n",
              "      <td>142.0</td>\n",
              "      <td>8.2</td>\n",
              "      <td>...</td>\n",
              "      <td>NaN</td>\n",
              "      <td>vietnam veteran hippie mentally disabled runni...</td>\n",
              "      <td>A man with a low IQ has accomplished great thi...</td>\n",
              "      <td>[{\"name\": \"Paramount Pictures\", \"id\": 4}]</td>\n",
              "      <td>[{\"iso_3166_1\": \"US\", \"name\": \"United States o...</td>\n",
              "      <td>[{\"iso_639_1\": \"en\", \"name\": \"English\"}]</td>\n",
              "      <td>The world will never be the same, once you've ...</td>\n",
              "      <td>Tom Hanks Robin Wright Gary Sinise Mykelti Wil...</td>\n",
              "      <td>[{'name': 'Alan Silvestri', 'gender': 2, 'depa...</td>\n",
              "      <td>Robert Zemeckis</td>\n",
              "    </tr>\n",
              "    <tr>\n",
              "      <th>4</th>\n",
              "      <td>5</td>\n",
              "      <td>American Beauty</td>\n",
              "      <td>Drama</td>\n",
              "      <td>en</td>\n",
              "      <td>15000000</td>\n",
              "      <td>80.878605</td>\n",
              "      <td>15-09-1999</td>\n",
              "      <td>356296601</td>\n",
              "      <td>122.0</td>\n",
              "      <td>7.9</td>\n",
              "      <td>...</td>\n",
              "      <td>http://www.dreamworks.com/ab/</td>\n",
              "      <td>male nudity female nudity adultery midlife cri...</td>\n",
              "      <td>Lester Burnham, a depressed suburban father in...</td>\n",
              "      <td>[{\"name\": \"DreamWorks SKG\", \"id\": 27}, {\"name\"...</td>\n",
              "      <td>[{\"iso_3166_1\": \"US\", \"name\": \"United States o...</td>\n",
              "      <td>[{\"iso_639_1\": \"en\", \"name\": \"English\"}]</td>\n",
              "      <td>Look closer.</td>\n",
              "      <td>Kevin Spacey Annette Bening Thora Birch Wes Be...</td>\n",
              "      <td>[{'name': 'Thomas Newman', 'gender': 2, 'depar...</td>\n",
              "      <td>Sam Mendes</td>\n",
              "    </tr>\n",
              "  </tbody>\n",
              "</table>\n",
              "<p>5 rows × 21 columns</p>\n",
              "</div>\n",
              "    <div class=\"colab-df-buttons\">\n",
              "\n",
              "  <div class=\"colab-df-container\">\n",
              "    <button class=\"colab-df-convert\" onclick=\"convertToInteractive('df-3f0223d6-7af0-4053-abe7-d60d313131cb')\"\n",
              "            title=\"Convert this dataframe to an interactive table.\"\n",
              "            style=\"display:none;\">\n",
              "\n",
              "  <svg xmlns=\"http://www.w3.org/2000/svg\" height=\"24px\" viewBox=\"0 -960 960 960\">\n",
              "    <path d=\"M120-120v-720h720v720H120Zm60-500h600v-160H180v160Zm220 220h160v-160H400v160Zm0 220h160v-160H400v160ZM180-400h160v-160H180v160Zm440 0h160v-160H620v160ZM180-180h160v-160H180v160Zm440 0h160v-160H620v160Z\"/>\n",
              "  </svg>\n",
              "    </button>\n",
              "\n",
              "  <style>\n",
              "    .colab-df-container {\n",
              "      display:flex;\n",
              "      gap: 12px;\n",
              "    }\n",
              "\n",
              "    .colab-df-convert {\n",
              "      background-color: #E8F0FE;\n",
              "      border: none;\n",
              "      border-radius: 50%;\n",
              "      cursor: pointer;\n",
              "      display: none;\n",
              "      fill: #1967D2;\n",
              "      height: 32px;\n",
              "      padding: 0 0 0 0;\n",
              "      width: 32px;\n",
              "    }\n",
              "\n",
              "    .colab-df-convert:hover {\n",
              "      background-color: #E2EBFA;\n",
              "      box-shadow: 0px 1px 2px rgba(60, 64, 67, 0.3), 0px 1px 3px 1px rgba(60, 64, 67, 0.15);\n",
              "      fill: #174EA6;\n",
              "    }\n",
              "\n",
              "    .colab-df-buttons div {\n",
              "      margin-bottom: 4px;\n",
              "    }\n",
              "\n",
              "    [theme=dark] .colab-df-convert {\n",
              "      background-color: #3B4455;\n",
              "      fill: #D2E3FC;\n",
              "    }\n",
              "\n",
              "    [theme=dark] .colab-df-convert:hover {\n",
              "      background-color: #434B5C;\n",
              "      box-shadow: 0px 1px 3px 1px rgba(0, 0, 0, 0.15);\n",
              "      filter: drop-shadow(0px 1px 2px rgba(0, 0, 0, 0.3));\n",
              "      fill: #FFFFFF;\n",
              "    }\n",
              "  </style>\n",
              "\n",
              "    <script>\n",
              "      const buttonEl =\n",
              "        document.querySelector('#df-3f0223d6-7af0-4053-abe7-d60d313131cb button.colab-df-convert');\n",
              "      buttonEl.style.display =\n",
              "        google.colab.kernel.accessAllowed ? 'block' : 'none';\n",
              "\n",
              "      async function convertToInteractive(key) {\n",
              "        const element = document.querySelector('#df-3f0223d6-7af0-4053-abe7-d60d313131cb');\n",
              "        const dataTable =\n",
              "          await google.colab.kernel.invokeFunction('convertToInteractive',\n",
              "                                                    [key], {});\n",
              "        if (!dataTable) return;\n",
              "\n",
              "        const docLinkHtml = 'Like what you see? Visit the ' +\n",
              "          '<a target=\"_blank\" href=https://colab.research.google.com/notebooks/data_table.ipynb>data table notebook</a>'\n",
              "          + ' to learn more about interactive tables.';\n",
              "        element.innerHTML = '';\n",
              "        dataTable['output_type'] = 'display_data';\n",
              "        await google.colab.output.renderOutput(dataTable, element);\n",
              "        const docLink = document.createElement('div');\n",
              "        docLink.innerHTML = docLinkHtml;\n",
              "        element.appendChild(docLink);\n",
              "      }\n",
              "    </script>\n",
              "  </div>\n",
              "\n",
              "\n",
              "<div id=\"df-b6cfe3eb-7b3b-4b96-9092-02b20c172061\">\n",
              "  <button class=\"colab-df-quickchart\" onclick=\"quickchart('df-b6cfe3eb-7b3b-4b96-9092-02b20c172061')\"\n",
              "            title=\"Suggest charts\"\n",
              "            style=\"display:none;\">\n",
              "\n",
              "<svg xmlns=\"http://www.w3.org/2000/svg\" height=\"24px\"viewBox=\"0 0 24 24\"\n",
              "     width=\"24px\">\n",
              "    <g>\n",
              "        <path d=\"M19 3H5c-1.1 0-2 .9-2 2v14c0 1.1.9 2 2 2h14c1.1 0 2-.9 2-2V5c0-1.1-.9-2-2-2zM9 17H7v-7h2v7zm4 0h-2V7h2v10zm4 0h-2v-4h2v4z\"/>\n",
              "    </g>\n",
              "</svg>\n",
              "  </button>\n",
              "\n",
              "<style>\n",
              "  .colab-df-quickchart {\n",
              "      --bg-color: #E8F0FE;\n",
              "      --fill-color: #1967D2;\n",
              "      --hover-bg-color: #E2EBFA;\n",
              "      --hover-fill-color: #174EA6;\n",
              "      --disabled-fill-color: #AAA;\n",
              "      --disabled-bg-color: #DDD;\n",
              "  }\n",
              "\n",
              "  [theme=dark] .colab-df-quickchart {\n",
              "      --bg-color: #3B4455;\n",
              "      --fill-color: #D2E3FC;\n",
              "      --hover-bg-color: #434B5C;\n",
              "      --hover-fill-color: #FFFFFF;\n",
              "      --disabled-bg-color: #3B4455;\n",
              "      --disabled-fill-color: #666;\n",
              "  }\n",
              "\n",
              "  .colab-df-quickchart {\n",
              "    background-color: var(--bg-color);\n",
              "    border: none;\n",
              "    border-radius: 50%;\n",
              "    cursor: pointer;\n",
              "    display: none;\n",
              "    fill: var(--fill-color);\n",
              "    height: 32px;\n",
              "    padding: 0;\n",
              "    width: 32px;\n",
              "  }\n",
              "\n",
              "  .colab-df-quickchart:hover {\n",
              "    background-color: var(--hover-bg-color);\n",
              "    box-shadow: 0 1px 2px rgba(60, 64, 67, 0.3), 0 1px 3px 1px rgba(60, 64, 67, 0.15);\n",
              "    fill: var(--button-hover-fill-color);\n",
              "  }\n",
              "\n",
              "  .colab-df-quickchart-complete:disabled,\n",
              "  .colab-df-quickchart-complete:disabled:hover {\n",
              "    background-color: var(--disabled-bg-color);\n",
              "    fill: var(--disabled-fill-color);\n",
              "    box-shadow: none;\n",
              "  }\n",
              "\n",
              "  .colab-df-spinner {\n",
              "    border: 2px solid var(--fill-color);\n",
              "    border-color: transparent;\n",
              "    border-bottom-color: var(--fill-color);\n",
              "    animation:\n",
              "      spin 1s steps(1) infinite;\n",
              "  }\n",
              "\n",
              "  @keyframes spin {\n",
              "    0% {\n",
              "      border-color: transparent;\n",
              "      border-bottom-color: var(--fill-color);\n",
              "      border-left-color: var(--fill-color);\n",
              "    }\n",
              "    20% {\n",
              "      border-color: transparent;\n",
              "      border-left-color: var(--fill-color);\n",
              "      border-top-color: var(--fill-color);\n",
              "    }\n",
              "    30% {\n",
              "      border-color: transparent;\n",
              "      border-left-color: var(--fill-color);\n",
              "      border-top-color: var(--fill-color);\n",
              "      border-right-color: var(--fill-color);\n",
              "    }\n",
              "    40% {\n",
              "      border-color: transparent;\n",
              "      border-right-color: var(--fill-color);\n",
              "      border-top-color: var(--fill-color);\n",
              "    }\n",
              "    60% {\n",
              "      border-color: transparent;\n",
              "      border-right-color: var(--fill-color);\n",
              "    }\n",
              "    80% {\n",
              "      border-color: transparent;\n",
              "      border-right-color: var(--fill-color);\n",
              "      border-bottom-color: var(--fill-color);\n",
              "    }\n",
              "    90% {\n",
              "      border-color: transparent;\n",
              "      border-bottom-color: var(--fill-color);\n",
              "    }\n",
              "  }\n",
              "</style>\n",
              "\n",
              "  <script>\n",
              "    async function quickchart(key) {\n",
              "      const quickchartButtonEl =\n",
              "        document.querySelector('#' + key + ' button');\n",
              "      quickchartButtonEl.disabled = true;  // To prevent multiple clicks.\n",
              "      quickchartButtonEl.classList.add('colab-df-spinner');\n",
              "      try {\n",
              "        const charts = await google.colab.kernel.invokeFunction(\n",
              "            'suggestCharts', [key], {});\n",
              "      } catch (error) {\n",
              "        console.error('Error during call to suggestCharts:', error);\n",
              "      }\n",
              "      quickchartButtonEl.classList.remove('colab-df-spinner');\n",
              "      quickchartButtonEl.classList.add('colab-df-quickchart-complete');\n",
              "    }\n",
              "    (() => {\n",
              "      let quickchartButtonEl =\n",
              "        document.querySelector('#df-b6cfe3eb-7b3b-4b96-9092-02b20c172061 button');\n",
              "      quickchartButtonEl.style.display =\n",
              "        google.colab.kernel.accessAllowed ? 'block' : 'none';\n",
              "    })();\n",
              "  </script>\n",
              "</div>\n",
              "\n",
              "    </div>\n",
              "  </div>\n"
            ],
            "application/vnd.google.colaboratory.intrinsic+json": {
              "type": "dataframe",
              "variable_name": "df"
            }
          },
          "metadata": {},
          "execution_count": 5
        }
      ]
    },
    {
      "cell_type": "code",
      "source": [
        "df.info()"
      ],
      "metadata": {
        "colab": {
          "base_uri": "https://localhost:8080/"
        },
        "id": "dTIBUcc72y61",
        "outputId": "426b49b1-a1ff-4349-d4b4-f96ffcf8fb31"
      },
      "execution_count": 6,
      "outputs": [
        {
          "output_type": "stream",
          "name": "stdout",
          "text": [
            "<class 'pandas.core.frame.DataFrame'>\n",
            "RangeIndex: 4760 entries, 0 to 4759\n",
            "Data columns (total 21 columns):\n",
            " #   Column                    Non-Null Count  Dtype  \n",
            "---  ------                    --------------  -----  \n",
            " 0   Movie_ID                  4760 non-null   int64  \n",
            " 1   Movie_Title               4760 non-null   object \n",
            " 2   Movie_Genre               4760 non-null   object \n",
            " 3   Movie_Language            4760 non-null   object \n",
            " 4   Movie_Budget              4760 non-null   int64  \n",
            " 5   Movie_Popularity          4760 non-null   float64\n",
            " 6   Movie_Release_Date        4760 non-null   object \n",
            " 7   Movie_Revenue             4760 non-null   int64  \n",
            " 8   Movie_Runtime             4758 non-null   float64\n",
            " 9   Movie_Vote                4760 non-null   float64\n",
            " 10  Movie_Vote_Count          4760 non-null   int64  \n",
            " 11  Movie_Homepage            1699 non-null   object \n",
            " 12  Movie_Keywords            4373 non-null   object \n",
            " 13  Movie_Overview            4757 non-null   object \n",
            " 14  Movie_Production_House    4760 non-null   object \n",
            " 15  Movie_Production_Country  4760 non-null   object \n",
            " 16  Movie_Spoken_Language     4760 non-null   object \n",
            " 17  Movie_Tagline             3942 non-null   object \n",
            " 18  Movie_Cast                4733 non-null   object \n",
            " 19  Movie_Crew                4760 non-null   object \n",
            " 20  Movie_Director            4738 non-null   object \n",
            "dtypes: float64(3), int64(4), object(14)\n",
            "memory usage: 781.1+ KB\n"
          ]
        }
      ]
    },
    {
      "cell_type": "code",
      "source": [
        "df.shape"
      ],
      "metadata": {
        "colab": {
          "base_uri": "https://localhost:8080/"
        },
        "id": "6WstCFfI24qZ",
        "outputId": "3c700239-cb4d-40df-c9eb-fb7b1a8f76f1"
      },
      "execution_count": 10,
      "outputs": [
        {
          "output_type": "execute_result",
          "data": {
            "text/plain": [
              "(4760, 21)"
            ]
          },
          "metadata": {},
          "execution_count": 10
        }
      ]
    },
    {
      "cell_type": "code",
      "source": [
        "df.columns"
      ],
      "metadata": {
        "colab": {
          "base_uri": "https://localhost:8080/"
        },
        "id": "s6zLdP6D3VHM",
        "outputId": "a6391085-ee66-42dc-f428-a2b0cc94bc9f"
      },
      "execution_count": 11,
      "outputs": [
        {
          "output_type": "execute_result",
          "data": {
            "text/plain": [
              "Index(['Movie_ID', 'Movie_Title', 'Movie_Genre', 'Movie_Language',\n",
              "       'Movie_Budget', 'Movie_Popularity', 'Movie_Release_Date',\n",
              "       'Movie_Revenue', 'Movie_Runtime', 'Movie_Vote', 'Movie_Vote_Count',\n",
              "       'Movie_Homepage', 'Movie_Keywords', 'Movie_Overview',\n",
              "       'Movie_Production_House', 'Movie_Production_Country',\n",
              "       'Movie_Spoken_Language', 'Movie_Tagline', 'Movie_Cast', 'Movie_Crew',\n",
              "       'Movie_Director'],\n",
              "      dtype='object')"
            ]
          },
          "metadata": {},
          "execution_count": 11
        }
      ]
    },
    {
      "cell_type": "markdown",
      "source": [
        "#Feature Selection"
      ],
      "metadata": {
        "id": "e50ZeOcH3bNx"
      }
    },
    {
      "cell_type": "code",
      "source": [
        "df_features= df[['Movie_Genre','Movie_Keywords','Movie_Tagline','Movie_Cast','Movie_Director']].fillna('')"
      ],
      "metadata": {
        "id": "bIntWiAv3fX8"
      },
      "execution_count": 13,
      "outputs": []
    },
    {
      "cell_type": "code",
      "source": [
        "df_features.shape"
      ],
      "metadata": {
        "colab": {
          "base_uri": "https://localhost:8080/"
        },
        "id": "PBvl3UV64gVD",
        "outputId": "1e529495-0ca9-4526-b0db-616d81a56b32"
      },
      "execution_count": 14,
      "outputs": [
        {
          "output_type": "execute_result",
          "data": {
            "text/plain": [
              "(4760, 5)"
            ]
          },
          "metadata": {},
          "execution_count": 14
        }
      ]
    },
    {
      "cell_type": "code",
      "source": [
        "df_features"
      ],
      "metadata": {
        "colab": {
          "base_uri": "https://localhost:8080/",
          "height": 580
        },
        "id": "fi97BPSK4kXX",
        "outputId": "dcc51414-11d1-467f-c603-b0ed87c5b625"
      },
      "execution_count": 15,
      "outputs": [
        {
          "output_type": "execute_result",
          "data": {
            "text/plain": [
              "                           Movie_Genre  \\\n",
              "0                         Crime Comedy   \n",
              "1     Adventure Action Science Fiction   \n",
              "2                     Animation Family   \n",
              "3                 Comedy Drama Romance   \n",
              "4                                Drama   \n",
              "...                                ...   \n",
              "4755                            Horror   \n",
              "4756               Comedy Family Drama   \n",
              "4757                    Thriller Drama   \n",
              "4758                            Family   \n",
              "4759                       Documentary   \n",
              "\n",
              "                                         Movie_Keywords  \\\n",
              "0             hotel new year's eve witch bet hotel room   \n",
              "1           android galaxy hermit death star lightsaber   \n",
              "2     father son relationship harbor underwater fish...   \n",
              "3     vietnam veteran hippie mentally disabled runni...   \n",
              "4     male nudity female nudity adultery midlife cri...   \n",
              "...                                                 ...   \n",
              "4755                                                      \n",
              "4756                                                      \n",
              "4757                     christian film sex trafficking   \n",
              "4758                                                      \n",
              "4759  music actors legendary perfomer classic hollyw...   \n",
              "\n",
              "                                          Movie_Tagline  \\\n",
              "0     Twelve outrageous guests. Four scandalous requ...   \n",
              "1          A long time ago in a galaxy far, far away...   \n",
              "2     There are 3.7 trillion fish in the ocean, they...   \n",
              "3     The world will never be the same, once you've ...   \n",
              "4                                          Look closer.   \n",
              "...                                                 ...   \n",
              "4755                The hot spot where Satan's waitin'.   \n",
              "4756           It’s better to stand out than to fit in.   \n",
              "4757           She never knew it could happen to her...   \n",
              "4758                                                      \n",
              "4759                                                      \n",
              "\n",
              "                                             Movie_Cast     Movie_Director  \n",
              "0     Tim Roth Antonio Banderas Jennifer Beals Madon...     Allison Anders  \n",
              "1     Mark Hamill Harrison Ford Carrie Fisher Peter ...       George Lucas  \n",
              "2     Albert Brooks Ellen DeGeneres Alexander Gould ...     Andrew Stanton  \n",
              "3     Tom Hanks Robin Wright Gary Sinise Mykelti Wil...    Robert Zemeckis  \n",
              "4     Kevin Spacey Annette Bening Thora Birch Wes Be...         Sam Mendes  \n",
              "...                                                 ...                ...  \n",
              "4755  Lisa Hart Carroll Michael Des Barres Paul Drak...         Pece Dingo  \n",
              "4756  Roni Akurati Brighton Sharbino Jason Lee Anjul...       Frank Lotito  \n",
              "4757  Nicole Smolen Kim Baldwin Ariana Stephens Brys...       Jaco Booyens  \n",
              "4758                                                                        \n",
              "4759                                    Tony Oppedisano  Simon Napier-Bell  \n",
              "\n",
              "[4760 rows x 5 columns]"
            ],
            "text/html": [
              "\n",
              "  <div id=\"df-4896c8eb-95c6-4cf3-bff3-e55fff85fb98\" class=\"colab-df-container\">\n",
              "    <div>\n",
              "<style scoped>\n",
              "    .dataframe tbody tr th:only-of-type {\n",
              "        vertical-align: middle;\n",
              "    }\n",
              "\n",
              "    .dataframe tbody tr th {\n",
              "        vertical-align: top;\n",
              "    }\n",
              "\n",
              "    .dataframe thead th {\n",
              "        text-align: right;\n",
              "    }\n",
              "</style>\n",
              "<table border=\"1\" class=\"dataframe\">\n",
              "  <thead>\n",
              "    <tr style=\"text-align: right;\">\n",
              "      <th></th>\n",
              "      <th>Movie_Genre</th>\n",
              "      <th>Movie_Keywords</th>\n",
              "      <th>Movie_Tagline</th>\n",
              "      <th>Movie_Cast</th>\n",
              "      <th>Movie_Director</th>\n",
              "    </tr>\n",
              "  </thead>\n",
              "  <tbody>\n",
              "    <tr>\n",
              "      <th>0</th>\n",
              "      <td>Crime Comedy</td>\n",
              "      <td>hotel new year's eve witch bet hotel room</td>\n",
              "      <td>Twelve outrageous guests. Four scandalous requ...</td>\n",
              "      <td>Tim Roth Antonio Banderas Jennifer Beals Madon...</td>\n",
              "      <td>Allison Anders</td>\n",
              "    </tr>\n",
              "    <tr>\n",
              "      <th>1</th>\n",
              "      <td>Adventure Action Science Fiction</td>\n",
              "      <td>android galaxy hermit death star lightsaber</td>\n",
              "      <td>A long time ago in a galaxy far, far away...</td>\n",
              "      <td>Mark Hamill Harrison Ford Carrie Fisher Peter ...</td>\n",
              "      <td>George Lucas</td>\n",
              "    </tr>\n",
              "    <tr>\n",
              "      <th>2</th>\n",
              "      <td>Animation Family</td>\n",
              "      <td>father son relationship harbor underwater fish...</td>\n",
              "      <td>There are 3.7 trillion fish in the ocean, they...</td>\n",
              "      <td>Albert Brooks Ellen DeGeneres Alexander Gould ...</td>\n",
              "      <td>Andrew Stanton</td>\n",
              "    </tr>\n",
              "    <tr>\n",
              "      <th>3</th>\n",
              "      <td>Comedy Drama Romance</td>\n",
              "      <td>vietnam veteran hippie mentally disabled runni...</td>\n",
              "      <td>The world will never be the same, once you've ...</td>\n",
              "      <td>Tom Hanks Robin Wright Gary Sinise Mykelti Wil...</td>\n",
              "      <td>Robert Zemeckis</td>\n",
              "    </tr>\n",
              "    <tr>\n",
              "      <th>4</th>\n",
              "      <td>Drama</td>\n",
              "      <td>male nudity female nudity adultery midlife cri...</td>\n",
              "      <td>Look closer.</td>\n",
              "      <td>Kevin Spacey Annette Bening Thora Birch Wes Be...</td>\n",
              "      <td>Sam Mendes</td>\n",
              "    </tr>\n",
              "    <tr>\n",
              "      <th>...</th>\n",
              "      <td>...</td>\n",
              "      <td>...</td>\n",
              "      <td>...</td>\n",
              "      <td>...</td>\n",
              "      <td>...</td>\n",
              "    </tr>\n",
              "    <tr>\n",
              "      <th>4755</th>\n",
              "      <td>Horror</td>\n",
              "      <td></td>\n",
              "      <td>The hot spot where Satan's waitin'.</td>\n",
              "      <td>Lisa Hart Carroll Michael Des Barres Paul Drak...</td>\n",
              "      <td>Pece Dingo</td>\n",
              "    </tr>\n",
              "    <tr>\n",
              "      <th>4756</th>\n",
              "      <td>Comedy Family Drama</td>\n",
              "      <td></td>\n",
              "      <td>It’s better to stand out than to fit in.</td>\n",
              "      <td>Roni Akurati Brighton Sharbino Jason Lee Anjul...</td>\n",
              "      <td>Frank Lotito</td>\n",
              "    </tr>\n",
              "    <tr>\n",
              "      <th>4757</th>\n",
              "      <td>Thriller Drama</td>\n",
              "      <td>christian film sex trafficking</td>\n",
              "      <td>She never knew it could happen to her...</td>\n",
              "      <td>Nicole Smolen Kim Baldwin Ariana Stephens Brys...</td>\n",
              "      <td>Jaco Booyens</td>\n",
              "    </tr>\n",
              "    <tr>\n",
              "      <th>4758</th>\n",
              "      <td>Family</td>\n",
              "      <td></td>\n",
              "      <td></td>\n",
              "      <td></td>\n",
              "      <td></td>\n",
              "    </tr>\n",
              "    <tr>\n",
              "      <th>4759</th>\n",
              "      <td>Documentary</td>\n",
              "      <td>music actors legendary perfomer classic hollyw...</td>\n",
              "      <td></td>\n",
              "      <td>Tony Oppedisano</td>\n",
              "      <td>Simon Napier-Bell</td>\n",
              "    </tr>\n",
              "  </tbody>\n",
              "</table>\n",
              "<p>4760 rows × 5 columns</p>\n",
              "</div>\n",
              "    <div class=\"colab-df-buttons\">\n",
              "\n",
              "  <div class=\"colab-df-container\">\n",
              "    <button class=\"colab-df-convert\" onclick=\"convertToInteractive('df-4896c8eb-95c6-4cf3-bff3-e55fff85fb98')\"\n",
              "            title=\"Convert this dataframe to an interactive table.\"\n",
              "            style=\"display:none;\">\n",
              "\n",
              "  <svg xmlns=\"http://www.w3.org/2000/svg\" height=\"24px\" viewBox=\"0 -960 960 960\">\n",
              "    <path d=\"M120-120v-720h720v720H120Zm60-500h600v-160H180v160Zm220 220h160v-160H400v160Zm0 220h160v-160H400v160ZM180-400h160v-160H180v160Zm440 0h160v-160H620v160ZM180-180h160v-160H180v160Zm440 0h160v-160H620v160Z\"/>\n",
              "  </svg>\n",
              "    </button>\n",
              "\n",
              "  <style>\n",
              "    .colab-df-container {\n",
              "      display:flex;\n",
              "      gap: 12px;\n",
              "    }\n",
              "\n",
              "    .colab-df-convert {\n",
              "      background-color: #E8F0FE;\n",
              "      border: none;\n",
              "      border-radius: 50%;\n",
              "      cursor: pointer;\n",
              "      display: none;\n",
              "      fill: #1967D2;\n",
              "      height: 32px;\n",
              "      padding: 0 0 0 0;\n",
              "      width: 32px;\n",
              "    }\n",
              "\n",
              "    .colab-df-convert:hover {\n",
              "      background-color: #E2EBFA;\n",
              "      box-shadow: 0px 1px 2px rgba(60, 64, 67, 0.3), 0px 1px 3px 1px rgba(60, 64, 67, 0.15);\n",
              "      fill: #174EA6;\n",
              "    }\n",
              "\n",
              "    .colab-df-buttons div {\n",
              "      margin-bottom: 4px;\n",
              "    }\n",
              "\n",
              "    [theme=dark] .colab-df-convert {\n",
              "      background-color: #3B4455;\n",
              "      fill: #D2E3FC;\n",
              "    }\n",
              "\n",
              "    [theme=dark] .colab-df-convert:hover {\n",
              "      background-color: #434B5C;\n",
              "      box-shadow: 0px 1px 3px 1px rgba(0, 0, 0, 0.15);\n",
              "      filter: drop-shadow(0px 1px 2px rgba(0, 0, 0, 0.3));\n",
              "      fill: #FFFFFF;\n",
              "    }\n",
              "  </style>\n",
              "\n",
              "    <script>\n",
              "      const buttonEl =\n",
              "        document.querySelector('#df-4896c8eb-95c6-4cf3-bff3-e55fff85fb98 button.colab-df-convert');\n",
              "      buttonEl.style.display =\n",
              "        google.colab.kernel.accessAllowed ? 'block' : 'none';\n",
              "\n",
              "      async function convertToInteractive(key) {\n",
              "        const element = document.querySelector('#df-4896c8eb-95c6-4cf3-bff3-e55fff85fb98');\n",
              "        const dataTable =\n",
              "          await google.colab.kernel.invokeFunction('convertToInteractive',\n",
              "                                                    [key], {});\n",
              "        if (!dataTable) return;\n",
              "\n",
              "        const docLinkHtml = 'Like what you see? Visit the ' +\n",
              "          '<a target=\"_blank\" href=https://colab.research.google.com/notebooks/data_table.ipynb>data table notebook</a>'\n",
              "          + ' to learn more about interactive tables.';\n",
              "        element.innerHTML = '';\n",
              "        dataTable['output_type'] = 'display_data';\n",
              "        await google.colab.output.renderOutput(dataTable, element);\n",
              "        const docLink = document.createElement('div');\n",
              "        docLink.innerHTML = docLinkHtml;\n",
              "        element.appendChild(docLink);\n",
              "      }\n",
              "    </script>\n",
              "  </div>\n",
              "\n",
              "\n",
              "<div id=\"df-462c981f-6210-475c-a112-921804658016\">\n",
              "  <button class=\"colab-df-quickchart\" onclick=\"quickchart('df-462c981f-6210-475c-a112-921804658016')\"\n",
              "            title=\"Suggest charts\"\n",
              "            style=\"display:none;\">\n",
              "\n",
              "<svg xmlns=\"http://www.w3.org/2000/svg\" height=\"24px\"viewBox=\"0 0 24 24\"\n",
              "     width=\"24px\">\n",
              "    <g>\n",
              "        <path d=\"M19 3H5c-1.1 0-2 .9-2 2v14c0 1.1.9 2 2 2h14c1.1 0 2-.9 2-2V5c0-1.1-.9-2-2-2zM9 17H7v-7h2v7zm4 0h-2V7h2v10zm4 0h-2v-4h2v4z\"/>\n",
              "    </g>\n",
              "</svg>\n",
              "  </button>\n",
              "\n",
              "<style>\n",
              "  .colab-df-quickchart {\n",
              "      --bg-color: #E8F0FE;\n",
              "      --fill-color: #1967D2;\n",
              "      --hover-bg-color: #E2EBFA;\n",
              "      --hover-fill-color: #174EA6;\n",
              "      --disabled-fill-color: #AAA;\n",
              "      --disabled-bg-color: #DDD;\n",
              "  }\n",
              "\n",
              "  [theme=dark] .colab-df-quickchart {\n",
              "      --bg-color: #3B4455;\n",
              "      --fill-color: #D2E3FC;\n",
              "      --hover-bg-color: #434B5C;\n",
              "      --hover-fill-color: #FFFFFF;\n",
              "      --disabled-bg-color: #3B4455;\n",
              "      --disabled-fill-color: #666;\n",
              "  }\n",
              "\n",
              "  .colab-df-quickchart {\n",
              "    background-color: var(--bg-color);\n",
              "    border: none;\n",
              "    border-radius: 50%;\n",
              "    cursor: pointer;\n",
              "    display: none;\n",
              "    fill: var(--fill-color);\n",
              "    height: 32px;\n",
              "    padding: 0;\n",
              "    width: 32px;\n",
              "  }\n",
              "\n",
              "  .colab-df-quickchart:hover {\n",
              "    background-color: var(--hover-bg-color);\n",
              "    box-shadow: 0 1px 2px rgba(60, 64, 67, 0.3), 0 1px 3px 1px rgba(60, 64, 67, 0.15);\n",
              "    fill: var(--button-hover-fill-color);\n",
              "  }\n",
              "\n",
              "  .colab-df-quickchart-complete:disabled,\n",
              "  .colab-df-quickchart-complete:disabled:hover {\n",
              "    background-color: var(--disabled-bg-color);\n",
              "    fill: var(--disabled-fill-color);\n",
              "    box-shadow: none;\n",
              "  }\n",
              "\n",
              "  .colab-df-spinner {\n",
              "    border: 2px solid var(--fill-color);\n",
              "    border-color: transparent;\n",
              "    border-bottom-color: var(--fill-color);\n",
              "    animation:\n",
              "      spin 1s steps(1) infinite;\n",
              "  }\n",
              "\n",
              "  @keyframes spin {\n",
              "    0% {\n",
              "      border-color: transparent;\n",
              "      border-bottom-color: var(--fill-color);\n",
              "      border-left-color: var(--fill-color);\n",
              "    }\n",
              "    20% {\n",
              "      border-color: transparent;\n",
              "      border-left-color: var(--fill-color);\n",
              "      border-top-color: var(--fill-color);\n",
              "    }\n",
              "    30% {\n",
              "      border-color: transparent;\n",
              "      border-left-color: var(--fill-color);\n",
              "      border-top-color: var(--fill-color);\n",
              "      border-right-color: var(--fill-color);\n",
              "    }\n",
              "    40% {\n",
              "      border-color: transparent;\n",
              "      border-right-color: var(--fill-color);\n",
              "      border-top-color: var(--fill-color);\n",
              "    }\n",
              "    60% {\n",
              "      border-color: transparent;\n",
              "      border-right-color: var(--fill-color);\n",
              "    }\n",
              "    80% {\n",
              "      border-color: transparent;\n",
              "      border-right-color: var(--fill-color);\n",
              "      border-bottom-color: var(--fill-color);\n",
              "    }\n",
              "    90% {\n",
              "      border-color: transparent;\n",
              "      border-bottom-color: var(--fill-color);\n",
              "    }\n",
              "  }\n",
              "</style>\n",
              "\n",
              "  <script>\n",
              "    async function quickchart(key) {\n",
              "      const quickchartButtonEl =\n",
              "        document.querySelector('#' + key + ' button');\n",
              "      quickchartButtonEl.disabled = true;  // To prevent multiple clicks.\n",
              "      quickchartButtonEl.classList.add('colab-df-spinner');\n",
              "      try {\n",
              "        const charts = await google.colab.kernel.invokeFunction(\n",
              "            'suggestCharts', [key], {});\n",
              "      } catch (error) {\n",
              "        console.error('Error during call to suggestCharts:', error);\n",
              "      }\n",
              "      quickchartButtonEl.classList.remove('colab-df-spinner');\n",
              "      quickchartButtonEl.classList.add('colab-df-quickchart-complete');\n",
              "    }\n",
              "    (() => {\n",
              "      let quickchartButtonEl =\n",
              "        document.querySelector('#df-462c981f-6210-475c-a112-921804658016 button');\n",
              "      quickchartButtonEl.style.display =\n",
              "        google.colab.kernel.accessAllowed ? 'block' : 'none';\n",
              "    })();\n",
              "  </script>\n",
              "</div>\n",
              "\n",
              "  <div id=\"id_ae8da5f5-ef66-42be-8245-b6eb89e68b3c\">\n",
              "    <style>\n",
              "      .colab-df-generate {\n",
              "        background-color: #E8F0FE;\n",
              "        border: none;\n",
              "        border-radius: 50%;\n",
              "        cursor: pointer;\n",
              "        display: none;\n",
              "        fill: #1967D2;\n",
              "        height: 32px;\n",
              "        padding: 0 0 0 0;\n",
              "        width: 32px;\n",
              "      }\n",
              "\n",
              "      .colab-df-generate:hover {\n",
              "        background-color: #E2EBFA;\n",
              "        box-shadow: 0px 1px 2px rgba(60, 64, 67, 0.3), 0px 1px 3px 1px rgba(60, 64, 67, 0.15);\n",
              "        fill: #174EA6;\n",
              "      }\n",
              "\n",
              "      [theme=dark] .colab-df-generate {\n",
              "        background-color: #3B4455;\n",
              "        fill: #D2E3FC;\n",
              "      }\n",
              "\n",
              "      [theme=dark] .colab-df-generate:hover {\n",
              "        background-color: #434B5C;\n",
              "        box-shadow: 0px 1px 3px 1px rgba(0, 0, 0, 0.15);\n",
              "        filter: drop-shadow(0px 1px 2px rgba(0, 0, 0, 0.3));\n",
              "        fill: #FFFFFF;\n",
              "      }\n",
              "    </style>\n",
              "    <button class=\"colab-df-generate\" onclick=\"generateWithVariable('df_features')\"\n",
              "            title=\"Generate code using this dataframe.\"\n",
              "            style=\"display:none;\">\n",
              "\n",
              "  <svg xmlns=\"http://www.w3.org/2000/svg\" height=\"24px\"viewBox=\"0 0 24 24\"\n",
              "       width=\"24px\">\n",
              "    <path d=\"M7,19H8.4L18.45,9,17,7.55,7,17.6ZM5,21V16.75L18.45,3.32a2,2,0,0,1,2.83,0l1.4,1.43a1.91,1.91,0,0,1,.58,1.4,1.91,1.91,0,0,1-.58,1.4L9.25,21ZM18.45,9,17,7.55Zm-12,3A5.31,5.31,0,0,0,4.9,8.1,5.31,5.31,0,0,0,1,6.5,5.31,5.31,0,0,0,4.9,4.9,5.31,5.31,0,0,0,6.5,1,5.31,5.31,0,0,0,8.1,4.9,5.31,5.31,0,0,0,12,6.5,5.46,5.46,0,0,0,6.5,12Z\"/>\n",
              "  </svg>\n",
              "    </button>\n",
              "    <script>\n",
              "      (() => {\n",
              "      const buttonEl =\n",
              "        document.querySelector('#id_ae8da5f5-ef66-42be-8245-b6eb89e68b3c button.colab-df-generate');\n",
              "      buttonEl.style.display =\n",
              "        google.colab.kernel.accessAllowed ? 'block' : 'none';\n",
              "\n",
              "      buttonEl.onclick = () => {\n",
              "        google.colab.notebook.generateWithVariable('df_features');\n",
              "      }\n",
              "      })();\n",
              "    </script>\n",
              "  </div>\n",
              "\n",
              "    </div>\n",
              "  </div>\n"
            ],
            "application/vnd.google.colaboratory.intrinsic+json": {
              "type": "dataframe",
              "variable_name": "df_features",
              "summary": "{\n  \"name\": \"df_features\",\n  \"rows\": 4760,\n  \"fields\": [\n    {\n      \"column\": \"Movie_Genre\",\n      \"properties\": {\n        \"dtype\": \"category\",\n        \"num_unique_values\": 1164,\n        \"samples\": [\n          \"Family Animation Adventure\",\n          \"Adventure Science Fiction Action\",\n          \"Action Crime Drama Romance Thriller\"\n        ],\n        \"semantic_type\": \"\",\n        \"description\": \"\"\n      }\n    },\n    {\n      \"column\": \"Movie_Keywords\",\n      \"properties\": {\n        \"dtype\": \"string\",\n        \"num_unique_values\": 4203,\n        \"samples\": [\n          \"canada nazis sequel spin off ancient evil\",\n          \"sex professor wedding woman director columbia university\",\n          \"prophecy sea beach gold small town\"\n        ],\n        \"semantic_type\": \"\",\n        \"description\": \"\"\n      }\n    },\n    {\n      \"column\": \"Movie_Tagline\",\n      \"properties\": {\n        \"dtype\": \"string\",\n        \"num_unique_values\": 3928,\n        \"samples\": [\n          \"The messenger must be silenced.\",\n          \"It's not the house that's haunted.\",\n          \"The final hunt begins.\"\n        ],\n        \"semantic_type\": \"\",\n        \"description\": \"\"\n      }\n    },\n    {\n      \"column\": \"Movie_Cast\",\n      \"properties\": {\n        \"dtype\": \"string\",\n        \"num_unique_values\": 4715,\n        \"samples\": [\n          \"Robin Tunney Fairuza Balk Neve Campbell Rachel True Skeet Ulrich\",\n          \"Peter Sellers Christopher Plummer Herbert Lom Catherine Schell Peter Arne\",\n          \"John Wayne Laraine Day Cedric Hardwicke Judith Anderson Anthony Quinn\"\n        ],\n        \"semantic_type\": \"\",\n        \"description\": \"\"\n      }\n    },\n    {\n      \"column\": \"Movie_Director\",\n      \"properties\": {\n        \"dtype\": \"category\",\n        \"num_unique_values\": 2332,\n        \"samples\": [\n          \"Rob McKittrick\",\n          \"Terron R. Parsons\",\n          \"Cyrus Nowrasteh\"\n        ],\n        \"semantic_type\": \"\",\n        \"description\": \"\"\n      }\n    }\n  ]\n}"
            }
          },
          "metadata": {},
          "execution_count": 15
        }
      ]
    },
    {
      "cell_type": "code",
      "source": [
        "X= df_features['Movie_Genre']+' '+df_features['Movie_Keywords']+' '+df_features['Movie_Tagline']+' '+df_features['Movie_Cast']+' '+df_features['Movie_Director']"
      ],
      "metadata": {
        "id": "I1rKf2K84xKN"
      },
      "execution_count": 16,
      "outputs": []
    },
    {
      "cell_type": "code",
      "source": [
        "X"
      ],
      "metadata": {
        "colab": {
          "base_uri": "https://localhost:8080/"
        },
        "id": "pWyxTDvw42Aj",
        "outputId": "e8eeb2c4-8541-40dc-f757-d5a9ed9cd6a0"
      },
      "execution_count": 17,
      "outputs": [
        {
          "output_type": "execute_result",
          "data": {
            "text/plain": [
              "0       Crime Comedy hotel new year's eve witch bet ho...\n",
              "1       Adventure Action Science Fiction android galax...\n",
              "2       Animation Family father son relationship harbo...\n",
              "3       Comedy Drama Romance vietnam veteran hippie me...\n",
              "4       Drama male nudity female nudity adultery midli...\n",
              "                              ...                        \n",
              "4755    Horror  The hot spot where Satan's waitin'. Li...\n",
              "4756    Comedy Family Drama  It’s better to stand out ...\n",
              "4757    Thriller Drama christian film sex trafficking ...\n",
              "4758                                           Family    \n",
              "4759    Documentary music actors legendary perfomer cl...\n",
              "Length: 4760, dtype: object"
            ]
          },
          "metadata": {},
          "execution_count": 17
        }
      ]
    },
    {
      "cell_type": "code",
      "source": [
        "X.shape"
      ],
      "metadata": {
        "colab": {
          "base_uri": "https://localhost:8080/"
        },
        "id": "AixxFt5K478u",
        "outputId": "5b4d3353-c0ee-4888-b1d1-6a1b4ab46e86"
      },
      "execution_count": 18,
      "outputs": [
        {
          "output_type": "execute_result",
          "data": {
            "text/plain": [
              "(4760,)"
            ]
          },
          "metadata": {},
          "execution_count": 18
        }
      ]
    },
    {
      "cell_type": "code",
      "source": [
        "from sklearn.feature_extraction.text import TfidfVectorizer"
      ],
      "metadata": {
        "id": "-TNlPjbV5Y4u"
      },
      "execution_count": 19,
      "outputs": []
    },
    {
      "cell_type": "code",
      "source": [
        "tfidf= TfidfVectorizer()"
      ],
      "metadata": {
        "id": "dgX8jPlC5fE5"
      },
      "execution_count": 20,
      "outputs": []
    },
    {
      "cell_type": "code",
      "source": [
        "X= tfidf.fit_transform(X)"
      ],
      "metadata": {
        "id": "rUf5fBii5qJU"
      },
      "execution_count": 21,
      "outputs": []
    },
    {
      "cell_type": "code",
      "source": [
        "X.shape"
      ],
      "metadata": {
        "colab": {
          "base_uri": "https://localhost:8080/"
        },
        "id": "q08zmQC65tXH",
        "outputId": "3e9dbc5a-47c5-4d37-9181-904eea98b87b"
      },
      "execution_count": 22,
      "outputs": [
        {
          "output_type": "execute_result",
          "data": {
            "text/plain": [
              "(4760, 17258)"
            ]
          },
          "metadata": {},
          "execution_count": 22
        }
      ]
    },
    {
      "cell_type": "code",
      "source": [
        "print(X)"
      ],
      "metadata": {
        "colab": {
          "base_uri": "https://localhost:8080/"
        },
        "id": "mGdQOilU5xjj",
        "outputId": "26df8c2a-a54d-42ac-fb8f-89245136c348"
      },
      "execution_count": 24,
      "outputs": [
        {
          "output_type": "stream",
          "name": "stdout",
          "text": [
            "  (0, 617)\t0.1633382144407513\n",
            "  (0, 492)\t0.1432591540388685\n",
            "  (0, 15413)\t0.1465525095337543\n",
            "  (0, 9675)\t0.14226057295252661\n",
            "  (0, 9465)\t0.1659841367820977\n",
            "  (0, 1390)\t0.16898383612799558\n",
            "  (0, 7825)\t0.09799561597509843\n",
            "  (0, 1214)\t0.13865857545144072\n",
            "  (0, 729)\t0.13415063359531618\n",
            "  (0, 13093)\t0.1432591540388685\n",
            "  (0, 15355)\t0.10477815972666779\n",
            "  (0, 9048)\t0.0866842116160778\n",
            "  (0, 11161)\t0.06250380151644369\n",
            "  (0, 16773)\t0.17654247479915475\n",
            "  (0, 5612)\t0.08603537588547631\n",
            "  (0, 16735)\t0.10690083751525419\n",
            "  (0, 7904)\t0.13348000542112332\n",
            "  (0, 15219)\t0.09800472886453934\n",
            "  (0, 11242)\t0.07277788238484746\n",
            "  (0, 3878)\t0.11998399582562203\n",
            "  (0, 5499)\t0.11454057510303811\n",
            "  (0, 7071)\t0.19822417598406614\n",
            "  (0, 7454)\t0.14745635785412262\n",
            "  (0, 1495)\t0.19712637387361423\n",
            "  (0, 9206)\t0.15186283580984414\n",
            "  :\t:\n",
            "  (4757, 5455)\t0.12491480594769522\n",
            "  (4757, 2967)\t0.16273475835631626\n",
            "  (4757, 8464)\t0.23522565554066333\n",
            "  (4757, 6938)\t0.17088173678136628\n",
            "  (4757, 8379)\t0.17480603856721913\n",
            "  (4757, 15303)\t0.07654356007668191\n",
            "  (4757, 15384)\t0.09754322497537371\n",
            "  (4757, 7649)\t0.11479421494340192\n",
            "  (4757, 10896)\t0.14546473055066447\n",
            "  (4757, 4494)\t0.05675298448720501\n",
            "  (4758, 5238)\t1.0\n",
            "  (4759, 11264)\t0.33947721804318337\n",
            "  (4759, 11708)\t0.33947721804318337\n",
            "  (4759, 205)\t0.3237911628497312\n",
            "  (4759, 8902)\t0.3040290704566037\n",
            "  (4759, 14062)\t0.3237911628497312\n",
            "  (4759, 3058)\t0.2812896191863103\n",
            "  (4759, 7130)\t0.26419662449963793\n",
            "  (4759, 10761)\t0.3126617295732147\n",
            "  (4759, 4358)\t0.18306542312175342\n",
            "  (4759, 14051)\t0.20084315377640435\n",
            "  (4759, 5690)\t0.19534291014627303\n",
            "  (4759, 15431)\t0.19628653185946862\n",
            "  (4759, 1490)\t0.21197258705292082\n",
            "  (4759, 10666)\t0.15888268987343043\n"
          ]
        }
      ]
    },
    {
      "cell_type": "markdown",
      "source": [
        "#Get feature text conversion to tokens"
      ],
      "metadata": {
        "id": "oHYkGNTK-AgO"
      }
    },
    {
      "cell_type": "code",
      "source": [
        "from sklearn.metrics.pairwise import cosine_similarity"
      ],
      "metadata": {
        "id": "tPR9d48W5-en"
      },
      "execution_count": 25,
      "outputs": []
    },
    {
      "cell_type": "code",
      "source": [
        "similarity_score= cosine_similarity(X)"
      ],
      "metadata": {
        "id": "MUQH7QzK5-2i"
      },
      "execution_count": 26,
      "outputs": []
    },
    {
      "cell_type": "code",
      "source": [
        "similarity_score"
      ],
      "metadata": {
        "colab": {
          "base_uri": "https://localhost:8080/"
        },
        "id": "k7-wWoEl5_Fn",
        "outputId": "ffb170db-ed1b-442f-8b97-d38aeb79cc2e"
      },
      "execution_count": 27,
      "outputs": [
        {
          "output_type": "execute_result",
          "data": {
            "text/plain": [
              "array([[1.        , 0.01351235, 0.03570468, ..., 0.        , 0.        ,\n",
              "        0.        ],\n",
              "       [0.01351235, 1.        , 0.00806674, ..., 0.        , 0.        ,\n",
              "        0.        ],\n",
              "       [0.03570468, 0.00806674, 1.        , ..., 0.        , 0.08014876,\n",
              "        0.        ],\n",
              "       ...,\n",
              "       [0.        , 0.        , 0.        , ..., 1.        , 0.        ,\n",
              "        0.        ],\n",
              "       [0.        , 0.        , 0.08014876, ..., 0.        , 1.        ,\n",
              "        0.        ],\n",
              "       [0.        , 0.        , 0.        , ..., 0.        , 0.        ,\n",
              "        1.        ]])"
            ]
          },
          "metadata": {},
          "execution_count": 27
        }
      ]
    },
    {
      "cell_type": "code",
      "source": [
        "similarity_score.shape"
      ],
      "metadata": {
        "colab": {
          "base_uri": "https://localhost:8080/"
        },
        "id": "E9F7J-jR6WBD",
        "outputId": "f68ef34b-394c-4bc2-ceff-75134aa37d18"
      },
      "execution_count": 28,
      "outputs": [
        {
          "output_type": "execute_result",
          "data": {
            "text/plain": [
              "(4760, 4760)"
            ]
          },
          "metadata": {},
          "execution_count": 28
        }
      ]
    },
    {
      "cell_type": "markdown",
      "source": [
        "#Get movie name as input from user and validate for closest spelling"
      ],
      "metadata": {
        "id": "m1JkAzsM-iZ-"
      }
    },
    {
      "cell_type": "code",
      "source": [
        "faviourite_movie_name= \"Finding Nemo\""
      ],
      "metadata": {
        "id": "2YGe3Nx66WH2"
      },
      "execution_count": 29,
      "outputs": []
    },
    {
      "cell_type": "code",
      "source": [
        "all_movies_title_list= df['Movie_Title'].tolist()"
      ],
      "metadata": {
        "id": "hKysy2Kb6WNz"
      },
      "execution_count": 30,
      "outputs": []
    },
    {
      "cell_type": "code",
      "source": [
        "import difflib"
      ],
      "metadata": {
        "id": "1pLslIxb60FK"
      },
      "execution_count": 31,
      "outputs": []
    },
    {
      "cell_type": "code",
      "source": [
        "Movie_recommendation= difflib.get_close_matches(faviourite_movie_name, all_movies_title_list)\n",
        "print(Movie_recommendation)"
      ],
      "metadata": {
        "colab": {
          "base_uri": "https://localhost:8080/"
        },
        "id": "jI5C8cNn60W7",
        "outputId": "23dc579d-8649-4c40-8327-8ee1b5dd9d04"
      },
      "execution_count": 32,
      "outputs": [
        {
          "output_type": "stream",
          "name": "stdout",
          "text": [
            "['Finding Nemo', 'Finding Neverland', 'Finding Forrester']\n"
          ]
        }
      ]
    },
    {
      "cell_type": "code",
      "source": [
        "close_match= Movie_recommendation[0]\n",
        "print(close_match)"
      ],
      "metadata": {
        "colab": {
          "base_uri": "https://localhost:8080/"
        },
        "id": "p4Ayq8i060hN",
        "outputId": "780c29f1-42ae-4987-f660-8e89995193e8"
      },
      "execution_count": 33,
      "outputs": [
        {
          "output_type": "stream",
          "name": "stdout",
          "text": [
            "Finding Nemo\n"
          ]
        }
      ]
    },
    {
      "cell_type": "code",
      "source": [
        "index_of_close_match_movie= df[df.Movie_Title==close_match]['Movie_ID'].values[0]\n",
        "print(index_of_close_match_movie)"
      ],
      "metadata": {
        "colab": {
          "base_uri": "https://localhost:8080/"
        },
        "id": "46HcIt7U60p6",
        "outputId": "a4c8ec88-3bec-442a-963d-de5dbd720192"
      },
      "execution_count": 34,
      "outputs": [
        {
          "output_type": "stream",
          "name": "stdout",
          "text": [
            "3\n"
          ]
        }
      ]
    },
    {
      "cell_type": "code",
      "source": [
        "#getting close match of movie\n",
        "recommendation_score= list(enumerate(similarity_score[index_of_close_match_movie]))\n",
        "print(recommendation_score)"
      ],
      "metadata": {
        "colab": {
          "base_uri": "https://localhost:8080/"
        },
        "id": "rFCqI0rm7V8a",
        "outputId": "b0e27998-4f15-4d5d-e11c-f6fc260bb066"
      },
      "execution_count": 35,
      "outputs": [
        {
          "output_type": "stream",
          "name": "stdout",
          "text": [
            "[(0, 0.031389805561765814), (1, 0.0), (2, 0.010521591718659169), (3, 1.0), (4, 0.0027090731075112796), (5, 0.0519911011825567), (6, 0.03362337142952709), (7, 0.04871036100310376), (8, 0.009423750708816837), (9, 0.03142442817063111), (10, 0.01306760331485426), (11, 0.015356866206667215), (12, 0.12113761972627259), (13, 0.06497614809897558), (14, 0.014412946101960474), (15, 0.022629595606704064), (16, 0.0021400279730206234), (17, 0.0), (18, 0.02751282591387441), (19, 0.028909640014530315), (20, 0.002685576464944684), (21, 0.002745710121787687), (22, 0.03190460522891306), (23, 0.021014751189773567), (24, 0.0016769415048338069), (25, 0.04650444092238117), (26, 0.002512220809421148), (27, 0.014400126672840538), (28, 0.040270771980375104), (29, 0.03209160357055785), (30, 0.0), (31, 0.01229406482493402), (32, 0.019889425758452456), (33, 0.026641768971019893), (34, 0.05950856374455928), (35, 0.05245230431298357), (36, 0.023348407579821488), (37, 0.04582204427181403), (38, 0.02830376930311713), (39, 0.08023132979222702), (40, 0.011373128624278899), (41, 0.017837342766393566), (42, 0.0035683829065658195), (43, 0.09566139359553241), (44, 0.06262277271031223), (45, 0.06387456411129852), (46, 0.019527082746645084), (47, 0.0), (48, 0.043772704716197944), (49, 0.034068839411434605), (50, 0.07701597707581857), (51, 0.009129600006610623), (52, 0.022242877326562504), (53, 0.03681138313900987), (54, 0.0), (55, 0.03694613554763754), (56, 0.06774035995527501), (57, 0.05980193434790941), (58, 0.010281750778967707), (59, 0.0035942955282870603), (60, 0.02658524861981775), (61, 0.028277903348624227), (62, 0.024264428856520637), (63, 0.025623127490841384), (64, 0.021499897039921737), (65, 0.023552842694651098), (66, 0.017578356663525835), (67, 0.04541847409867375), (68, 0.0027230275148088295), (69, 0.0), (70, 0.010070020451863346), (71, 0.008889664217753803), (72, 0.011892313793560311), (73, 0.04765088993235881), (74, 0.05286513823166899), (75, 0.06509511924822968), (76, 0.02428414961666267), (77, 0.0), (78, 0.027214096506513), (79, 0.03286580868184337), (80, 0.011235534728400427), (81, 0.02054490326556206), (82, 0.05096327702173866), (83, 0.01916490439221156), (84, 0.044879369178725884), (85, 0.01474519328513782), (86, 0.04215368402795401), (87, 0.002478586304632202), (88, 0.07344961205056624), (89, 0.012953723418909357), (90, 0.020276870913285748), (91, 0.0845560607516397), (92, 0.002259551288043234), (93, 0.0), (94, 0.011260722059021715), (95, 0.0), (96, 0.05112307304797353), (97, 0.05993819619661575), (98, 0.03655681874736587), (99, 0.03958099753933132), (100, 0.031179005483521004), (101, 0.042058642060742044), (102, 0.02804512964150038), (103, 0.01053748093904321), (104, 0.057197486399854995), (105, 0.029628976436649676), (106, 0.028594437622485425), (107, 0.03140357886054654), (108, 0.09575331242074893), (109, 0.02982255143972254), (110, 0.02234212016286994), (111, 0.03660744748504929), (112, 0.022957183883449334), (113, 0.018341786724898786), (114, 0.012177546936732956), (115, 0.037089282525699145), (116, 0.020895996282477645), (117, 0.04516836325359904), (118, 0.0), (119, 0.07544369127178199), (120, 0.002647992825624751), (121, 0.016261691091139684), (122, 0.031072649752047626), (123, 0.0389226283856849), (124, 0.06916922781569051), (125, 0.0076131062338095), (126, 0.019795922433162073), (127, 0.05242989633924969), (128, 0.024398798332991606), (129, 0.02760968994912701), (130, 0.05764319004105656), (131, 0.04017941774311308), (132, 0.007693090523471573), (133, 0.0), (134, 0.0035637670768959265), (135, 0.05135117471580796), (136, 0.002371029075369922), (137, 0.01947129346522495), (138, 0.05438136753195494), (139, 0.003914149239360486), (140, 0.0024051062369709057), (141, 0.019058331128673785), (142, 0.017131589133699002), (143, 0.0), (144, 0.037647354617029546), (145, 0.02372964189959103), (146, 0.010353519576594954), (147, 0.00797476476621098), (148, 0.0193092568716752), (149, 0.017168416612986556), (150, 0.012003499844017933), (151, 0.0), (152, 0.022109463719952708), (153, 0.01851226468938194), (154, 0.035142969621951126), (155, 0.0049623996769662705), (156, 0.03257090765102276), (157, 0.0167096023372294), (158, 0.014737951234051465), (159, 0.026408313104601837), (160, 0.021145343267716703), (161, 0.03494218668840318), (162, 0.04040428506362984), (163, 0.0), (164, 0.14589758456473872), (165, 0.05398632418536522), (166, 0.030505349368519452), (167, 0.011190398838041102), (168, 0.014863756505600966), (169, 0.037173918346319675), (170, 0.022220648896413852), (171, 0.024367137562380056), (172, 0.03804656537788816), (173, 0.03140341230421844), (174, 0.018585569225251217), (175, 0.021083535298245207), (176, 0.002638272616218978), (177, 0.0265757982342303), (178, 0.023232982950562007), (179, 0.0586612132034986), (180, 0.0), (181, 0.0), (182, 0.04680790977513004), (183, 0.008453651242103054), (184, 0.03667268124751378), (185, 0.009585139492964228), (186, 0.01903919952177433), (187, 0.0), (188, 0.02531565461225309), (189, 0.06563788801251443), (190, 0.01988613716767594), (191, 0.043349303255539755), (192, 0.04256329599930791), (193, 0.016205576717940345), (194, 0.006962055309102449), (195, 0.05198235286187506), (196, 0.019573387966591402), (197, 0.10020116492102216), (198, 0.048803535474788946), (199, 0.008404799077386088), (200, 0.02745854218042393), (201, 0.03900331875974427), (202, 0.042745489232818484), (203, 0.04041460135838952), (204, 0.03166373750422274), (205, 0.014817406655384106), (206, 0.179104799704356), (207, 0.0), (208, 0.009786043005873556), (209, 0.02167449201371437), (210, 0.002767183106811638), (211, 0.029180089257160292), (212, 0.07827328834436108), (213, 0.010958683762208807), (214, 0.03631770141976023), (215, 0.028316578440947086), (216, 0.027285357403019378), (217, 0.028628859733557693), (218, 0.028444159245155698), (219, 0.012722888892989913), (220, 0.040103170727393445), (221, 0.0315678213035532), (222, 0.046344420616743015), (223, 0.011807937402167618), (224, 0.006639037752791262), (225, 0.02915348910713203), (226, 0.0025672064123432848), (227, 0.03382990074818328), (228, 0.06541056188344493), (229, 0.00239371757346028), (230, 0.006476190556561405), (231, 0.013946922841306442), (232, 0.020362463081715316), (233, 0.03489784834955272), (234, 0.010553498918422426), (235, 0.12400604704949818), (236, 0.002411747953056569), (237, 0.03526016493596603), (238, 0.006176871448531914), (239, 0.04719775980250934), (240, 0.0487974842599987), (241, 0.03117386965350651), (242, 0.051620573237574456), (243, 0.02375551584589699), (244, 0.019283148586834338), (245, 0.0035784128206092676), (246, 0.06063979725607677), (247, 0.0025386734428399227), (248, 0.040766356694718904), (249, 0.03451354799647002), (250, 0.10208695685084584), (251, 0.07058226439929305), (252, 0.014055397621234499), (253, 0.054301314183290705), (254, 0.05446547036386104), (255, 0.018527882435850157), (256, 0.029431364469359046), (257, 0.010030676426110167), (258, 0.0392788536003659), (259, 0.0510466142109485), (260, 0.02434804167829535), (261, 0.024766914661297233), (262, 0.03655005575019824), (263, 0.05714701743334861), (264, 0.07989967350866656), (265, 0.0), (266, 0.045713866386509205), (267, 0.0021758579021435953), (268, 0.002290009772016618), (269, 0.06848866872291443), (270, 0.012314111743431774), (271, 0.06642731475158625), (272, 0.06129566749249628), (273, 0.006453313371934726), (274, 0.05673839729402384), (275, 0.021120694314765508), (276, 0.0024209220267167823), (277, 0.0584840047887706), (278, 0.010478110496030433), (279, 0.02286870399317167), (280, 0.06491991768725482), (281, 0.0028985121875174133), (282, 0.041096512273039065), (283, 0.00674550058882685), (284, 0.01169426420191805), (285, 0.0430394442798996), (286, 0.0022032704605936633), (287, 0.043166806693521784), (288, 0.04761797990368622), (289, 0.0), (290, 0.0), (291, 0.02914434783426599), (292, 0.020840142495454544), (293, 0.02253785573464735), (294, 0.01709415949242077), (295, 0.0), (296, 0.011892541110747123), (297, 0.04061167948095922), (298, 0.012809269950070411), (299, 0.033002889166316524), (300, 0.006335563884437864), (301, 0.03592061870376013), (302, 0.03683466844179592), (303, 0.011399036368139529), (304, 0.016976408469756437), (305, 0.012250356481831651), (306, 0.02259582301757729), (307, 0.1228769129612349), (308, 0.01571815776350914), (309, 0.03169715499003829), (310, 0.053840820857785424), (311, 0.0032744513254385032), (312, 0.02123302451413608), (313, 0.006891828685235902), (314, 0.0), (315, 0.0), (316, 0.0), (317, 0.013894170958127002), (318, 0.019972362715184315), (319, 0.02295306431059221), (320, 0.0), (321, 0.006454634165240066), (322, 0.03267666008493493), (323, 0.0), (324, 0.04625797095690377), (325, 0.011496443473382682), (326, 0.010626742269998057), (327, 0.01696546581611679), (328, 0.06959695956707428), (329, 0.015392951493181694), (330, 0.055628134402843185), (331, 0.0318799557483237), (332, 0.03248936261422587), (333, 0.0), (334, 0.03931205401337802), (335, 0.019847800428124538), (336, 0.05151651443531151), (337, 0.011129457717533856), (338, 0.02555777915561256), (339, 0.01210087425825274), (340, 0.022039607303174752), (341, 0.048062656275203876), (342, 0.07443312090736336), (343, 0.040655598966936865), (344, 0.020235047425438746), (345, 0.03161368930270231), (346, 0.03376923938468815), (347, 0.018434265945250508), (348, 0.04122590225297962), (349, 0.03305484720628376), (350, 0.006593118643439805), (351, 0.0753540018109471), (352, 0.023744387322573), (353, 0.0750076812626193), (354, 0.048853784430139165), (355, 0.008001350373298065), (356, 0.042406064408814455), (357, 0.05554104245158507), (358, 0.021374719018545336), (359, 0.002356263089180655), (360, 0.0), (361, 0.05933458445590986), (362, 0.04188703169700994), (363, 0.011078819362217896), (364, 0.00996539590445927), (365, 0.02972336658239995), (366, 0.012214089754354316), (367, 0.017754923345125163), (368, 0.0487909237321838), (369, 0.0223160372374837), (370, 0.014033487728000185), (371, 0.08152444079477916), (372, 0.07848899524940633), (373, 0.02420969467911344), (374, 0.0392484543669373), (375, 0.009098917850533786), (376, 0.018250132818188484), (377, 0.015726116073156392), (378, 0.00257855474415651), (379, 0.012347817758613823), (380, 0.014086936499429128), (381, 0.0100152584038519), (382, 0.01233226176852341), (383, 0.0031091833139591384), (384, 0.030193485210942752), (385, 0.010625511059573618), (386, 0.021359501736530444), (387, 0.11477520957929307), (388, 0.11544228583648782), (389, 0.020916018544659028), (390, 0.010110472495720288), (391, 0.06032128006813801), (392, 0.06305561111929797), (393, 0.0030893927598550116), (394, 0.0), (395, 0.02707697321692232), (396, 0.04845689624900107), (397, 0.0305921727383797), (398, 0.009665162762812618), (399, 0.03158017602223937), (400, 0.013927199655767483), (401, 0.02712773314224609), (402, 0.028136244965485405), (403, 0.09693738427823906), (404, 0.0033855308556482904), (405, 0.010289958645934943), (406, 0.01563808624088793), (407, 0.05790868288386336), (408, 0.028502059964978316), (409, 0.024172498521579863), (410, 0.03195504398330047), (411, 0.02361223058208988), (412, 0.05871374808664351), (413, 0.014551613824223271), (414, 0.020280476108086583), (415, 0.02795426612126471), (416, 0.019983394156780365), (417, 0.0230052171334187), (418, 0.05864479944341056), (419, 0.017992722270555483), (420, 0.013185636858915668), (421, 0.012181537796565504), (422, 0.02069406341634443), (423, 0.0), (424, 0.029663060691212623), (425, 0.029637324686911222), (426, 0.02443561076389236), (427, 0.0383700455685176), (428, 0.042568833525135276), (429, 0.002690870328435228), (430, 0.002763533643331422), (431, 0.014347634321983313), (432, 0.04203820012929218), (433, 0.0436741141535183), (434, 0.015113715352309487), (435, 0.0), (436, 0.0157265385803649), (437, 0.01505631625576713), (438, 0.016114315328025673), (439, 0.012190092218942133), (440, 0.02915512914019763), (441, 0.027883338984642368), (442, 0.012296481902554635), (443, 0.013618668368616717), (444, 0.01786134569155555), (445, 0.028652339569785967), (446, 0.008991893032308044), (447, 0.012226180058517295), (448, 0.02416948437849041), (449, 0.02733765988948148), (450, 0.014344017653742701), (451, 0.028576092562018228), (452, 0.13980809021421697), (453, 0.0019633277883869754), (454, 0.027484024725623266), (455, 0.03124810971218499), (456, 0.030849506257636425), (457, 0.04967072208974952), (458, 0.0028648964399279617), (459, 0.003417757621793038), (460, 0.03775623137748366), (461, 0.004131274958824263), (462, 0.0), (463, 0.041312119429428265), (464, 0.07142954067353233), (465, 0.02006447681793566), (466, 0.002538405848396342), (467, 0.0734369492535448), (468, 0.07593550738111694), (469, 0.028948601955769346), (470, 0.04471016110779567), (471, 0.01136126518039714), (472, 0.028403691397072356), (473, 0.00547907149081869), (474, 0.010085533303733291), (475, 0.00535831952313296), (476, 0.017596662087215338), (477, 0.024867182861111104), (478, 0.0029058199348062723), (479, 0.04136602077373934), (480, 0.011470864026860761), (481, 0.03886958284572979), (482, 0.009621119195480962), (483, 0.0676274033937799), (484, 0.031662258130685385), (485, 0.02082791083792992), (486, 0.011775708374723706), (487, 0.0024578682311527664), (488, 0.021801822803165054), (489, 0.05103858457804876), (490, 0.00859258709863078), (491, 0.030010206016092576), (492, 0.011448526637770393), (493, 0.020366357615851684), (494, 0.020449857572949703), (495, 0.013116410412239016), (496, 0.057798581634056066), (497, 0.02336454039785022), (498, 0.015016037943613718), (499, 0.002794189681797705), (500, 0.07355480034151604), (501, 0.0), (502, 0.02819779739184668), (503, 0.0033936064071479186), (504, 0.024575862335183437), (505, 0.005753249812554399), (506, 0.05087077917604), (507, 0.01720049574956809), (508, 0.02106306946485937), (509, 0.018062184997129183), (510, 0.019526428299613017), (511, 0.03374388723939415), (512, 0.014574373495571585), (513, 0.0), (514, 0.03834505094312162), (515, 0.059571838138890346), (516, 0.0), (517, 0.00956777582335929), (518, 0.0164785646960802), (519, 0.008138701376925718), (520, 0.017565077876095216), (521, 0.021567667249644363), (522, 0.05720885663131978), (523, 0.032770761795441715), (524, 0.1274427335967744), (525, 0.015666546246772793), (526, 0.0032286621690680696), (527, 0.02317661060833741), (528, 0.027253758830433742), (529, 0.03355549532674688), (530, 0.035450612185074094), (531, 0.01571282255067242), (532, 0.013907678316794172), (533, 0.002887857744066844), (534, 0.013882848922158117), (535, 0.0034422352376151906), (536, 0.018465692908256018), (537, 0.02289428521038531), (538, 0.039119057459836175), (539, 0.0), (540, 0.022634507923468702), (541, 0.03810477039976225), (542, 0.0018004905652402468), (543, 0.029831215432673502), (544, 0.05209362407542986), (545, 0.02705320521056912), (546, 0.036604393815463154), (547, 0.023261144678622163), (548, 0.01149886228716483), (549, 0.01974205213322853), (550, 0.0), (551, 0.02921423322572109), (552, 0.0), (553, 0.06085655143775047), (554, 0.0), (555, 0.05128292210139844), (556, 0.0), (557, 0.0), (558, 0.0023675916681274774), (559, 0.0), (560, 0.021342608507999915), (561, 0.05011498778827138), (562, 0.021464213843008957), (563, 0.06795067215578927), (564, 0.009090826384045257), (565, 0.027966568689789514), (566, 0.05381365880225544), (567, 0.011203322101928528), (568, 0.028913528217961625), (569, 0.044517502789491445), (570, 0.0), (571, 0.001979627461439198), (572, 0.013745264042902631), (573, 0.019013155444413603), (574, 0.0), (575, 0.02930469697458723), (576, 0.009781856303288528), (577, 0.02616434526163851), (578, 0.012337516692718048), (579, 0.021472173234037516), (580, 0.0026829949230014203), (581, 0.002313781244132261), (582, 0.019142071095003273), (583, 0.02900919985120798), (584, 0.016586994949758693), (585, 0.015152159178229447), (586, 0.03024859214063402), (587, 0.009543201857072659), (588, 0.03574850073011193), (589, 0.011275075347442404), (590, 0.026025798888059927), (591, 0.03749647457739741), (592, 0.0), (593, 0.0026188278447565544), (594, 0.027333543841728005), (595, 0.0), (596, 0.0028768240358485967), (597, 0.0413543866978208), (598, 0.0023922517853804427), (599, 0.012900399854825526), (600, 0.019900347203923262), (601, 0.0), (602, 0.0), (603, 0.013042407300877292), (604, 0.023402618090685872), (605, 0.018806316320811187), (606, 0.07415195209163582), (607, 0.0435390202160343), (608, 0.06807186087298957), (609, 0.08782544300767502), (610, 0.012191798240697606), (611, 0.004125153089544757), (612, 0.00921298045967105), (613, 0.03437751056448945), (614, 0.01701504916203454), (615, 0.019590994263232155), (616, 0.03011981168584335), (617, 0.03755705066973159), (618, 0.03796122727501287), (619, 0.031367990296451674), (620, 0.03493446031911886), (621, 0.01139072343678193), (622, 0.01493596745741825), (623, 0.0336198606165508), (624, 0.011956836374723534), (625, 0.0), (626, 0.0021758895045688453), (627, 0.003476687206632144), (628, 0.002588670010958905), (629, 0.021746629377238265), (630, 0.017072587333956505), (631, 0.022085406021131612), (632, 0.018397903927153802), (633, 0.05363162195148252), (634, 0.061847115567599066), (635, 0.03403574948020352), (636, 0.0025930296894296585), (637, 0.0026588193348926863), (638, 0.0249687472660513), (639, 0.010354470935881417), (640, 0.028078591022309658), (641, 0.006600745592053667), (642, 0.04354949301526096), (643, 0.04068421253704911), (644, 0.0198917388344561), (645, 0.002097032048809993), (646, 0.0024690989901126853), (647, 0.010330860169068246), (648, 0.015690098161532873), (649, 0.009096717080010966), (650, 0.0), (651, 0.008899197098531254), (652, 0.002626218119552039), (653, 0.07499900365132167), (654, 0.0129240240267141), (655, 0.07581221034544651), (656, 0.0670974803734091), (657, 0.040852877469026966), (658, 0.011666271404767246), (659, 0.03691529434137027), (660, 0.020037175490469808), (661, 0.011503104396674842), (662, 0.003382445930866816), (663, 0.08750568841394551), (664, 0.02008002330225978), (665, 0.013116247677264027), (666, 0.013798493886822355), (667, 0.0036677757478249724), (668, 0.020352104031847208), (669, 0.058183535631742986), (670, 0.017322740766395762), (671, 0.016777963193859328), (672, 0.005400298183478752), (673, 0.0028018780424018475), (674, 0.0), (675, 0.016172448275752448), (676, 0.01267323248342889), (677, 0.05131138679098712), (678, 0.0038031775853366507), (679, 0.017261011232421276), (680, 0.01577125509000531), (681, 0.06249947518197277), (682, 0.0), (683, 0.029711668557797367), (684, 0.05365707759841962), (685, 0.09987862128515643), (686, 0.03780788523309721), (687, 0.02747795142152276), (688, 0.024680090800389458), (689, 0.036324735024200444), (690, 0.027129635457851062), (691, 0.03009070495270202), (692, 0.026944056978275985), (693, 0.008445609127716025), (694, 0.04625758129178476), (695, 0.0), (696, 0.02711143752194871), (697, 0.04923723692061154), (698, 0.00820986683972422), (699, 0.0341614575578441), (700, 0.07155505431083267), (701, 0.05602432108546514), (702, 0.02504209080361041), (703, 0.10785985844708129), (704, 0.013258912254099869), (705, 0.04480410137414491), (706, 0.06072907703257886), (707, 0.03350800883061194), (708, 0.022597281470730916), (709, 0.00803743779580528), (710, 0.019177758896517107), (711, 0.004097795798865603), (712, 0.005350591141527782), (713, 0.0), (714, 0.10113204323678006), (715, 0.01017160751128082), (716, 0.002692436382485364), (717, 0.015465021420365984), (718, 0.0), (719, 0.0630561006315162), (720, 0.003355253522139953), (721, 0.0029418768934066624), (722, 0.025372857913529244), (723, 0.05991426614472088), (724, 0.03511492516366535), (725, 0.07314188290183303), (726, 0.08548264154197946), (727, 0.06135674232356449), (728, 0.04090601002572548), (729, 0.042292106673581915), (730, 0.003592133855954383), (731, 0.04769377183298744), (732, 0.008228599338346257), (733, 0.044659158556454394), (734, 0.09138497286686671), (735, 0.016612659772709603), (736, 0.08289075312502787), (737, 0.05194586727049377), (738, 0.0202032654721896), (739, 0.06914547697619788), (740, 0.004062729635641237), (741, 0.026648118641946297), (742, 0.028845461823842906), (743, 0.002638401046272076), (744, 0.06138819191111469), (745, 0.003225501511874376), (746, 0.02546258534795988), (747, 0.047425709963461515), (748, 0.020068340979913116), (749, 0.027108358719600552), (750, 0.013317677132649655), (751, 0.11383198385280849), (752, 0.02876707779082014), (753, 0.0133177286751037), (754, 0.01028325161535737), (755, 0.005885560478849423), (756, 0.04362347374498182), (757, 0.04484630439946055), (758, 0.026960724701386198), (759, 0.005513968465809031), (760, 0.01101111475407908), (761, 0.0025679397218543146), (762, 0.05886730729353811), (763, 0.029430887363590785), (764, 0.014008339543024956), (765, 0.012959507726107725), (766, 0.06289736501386402), (767, 0.035864059924099925), (768, 0.038369358456965263), (769, 0.032808283590993886), (770, 0.0032222178283398007), (771, 0.0037584638124951654), (772, 0.025677701483784912), (773, 0.06495479206963753), (774, 0.00899101524159373), (775, 0.028937215425178207), (776, 0.0567535476912637), (777, 0.0030859183293524784), (778, 0.0266435223072837), (779, 0.010481881749439367), (780, 0.03984161925963165), (781, 0.016587740342178896), (782, 0.03163607635989986), (783, 0.02326513962012053), (784, 0.009952307888386693), (785, 0.03414315155736719), (786, 0.008039192129034317), (787, 0.04212066787275776), (788, 0.03699831176324056), (789, 0.019791538519181556), (790, 0.01188497370818766), (791, 0.012648897748357073), (792, 0.015774884414337345), (793, 0.003623053808968971), (794, 0.058845937728700656), (795, 0.011344738652705463), (796, 0.007204129695422064), (797, 0.01563095998631782), (798, 0.03445795325417551), (799, 0.002502977927671527), (800, 0.0297786607843498), (801, 0.0), (802, 0.06772203621600496), (803, 0.032878985573340576), (804, 0.014368799026953075), (805, 0.05492446540352855), (806, 0.0026496589741944894), (807, 0.04498312980511202), (808, 0.06368184817363122), (809, 0.07221122910329876), (810, 0.02987277450588699), (811, 0.0), (812, 0.006287906133017346), (813, 0.05286011578249003), (814, 0.017246154977753468), (815, 0.014272505344597603), (816, 0.01707683455751445), (817, 0.008920084967195896), (818, 0.01663884385524348), (819, 0.005790991209543668), (820, 0.019310378319763892), (821, 0.02051563790814594), (822, 0.0035033780648896454), (823, 0.018414289236343844), (824, 0.017943774696972517), (825, 0.0), (826, 0.002738278571358697), (827, 0.014272919294274924), (828, 0.030530342907792912), (829, 0.08616623234997911), (830, 0.018799746977805818), (831, 0.011316771681272389), (832, 0.015078712104653802), (833, 0.006223662986701521), (834, 0.006595953389109691), (835, 0.006287658751295124), (836, 0.003075482217329023), (837, 0.002681722921396708), (838, 0.014252384576461167), (839, 0.003941491090939392), (840, 0.03899318609647935), (841, 0.0038306157610582753), (842, 0.004265706615715706), (843, 0.06234166078862283), (844, 0.05295064670344735), (845, 0.012326695398924937), (846, 0.03699786481408427), (847, 0.03563853133538515), (848, 0.002589388322498215), (849, 0.003486316101361592), (850, 0.05216606718108499), (851, 0.00530542942744069), (852, 0.10296479032542376), (853, 0.01660777436179698), (854, 0.014152883716804336), (855, 0.0), (856, 0.05161212719304182), (857, 0.024890476359593138), (858, 0.0017336094808185721), (859, 0.009073009973942137), (860, 0.0029748737248781352), (861, 0.011256835827734048), (862, 0.04247793342909302), (863, 0.011949115251767072), (864, 0.0509150984201764), (865, 0.0594503254396198), (866, 0.04028866019423737), (867, 0.03831228410080911), (868, 0.002383878071192109), (869, 0.0293334767611117), (870, 0.02100345542188565), (871, 0.018375670808185602), (872, 0.02089621716839547), (873, 0.020137436977383176), (874, 0.029098428145820823), (875, 0.01010492777790639), (876, 0.059212706625418464), (877, 0.020089498524450654), (878, 0.01400695174343218), (879, 0.012692569270392482), (880, 0.008552753781218333), (881, 0.038691879394732884), (882, 0.010869692331138072), (883, 0.02333508815521511), (884, 0.006300884504030145), (885, 0.02191098291913225), (886, 0.034005573658279546), (887, 0.05592352232382941), (888, 0.01820959009732255), (889, 0.0033043634644788966), (890, 0.025477047249765707), (891, 0.11770483501438779), (892, 0.01897438606034524), (893, 0.010359652156046225), (894, 0.014690505546817426), (895, 0.04905606004308732), (896, 0.0028048700114107956), (897, 0.027799536933151164), (898, 0.03736319967739689), (899, 0.0473881023008909), (900, 0.017226612168828297), (901, 0.025004022701456963), (902, 0.013810210761368864), (903, 0.005676865448227027), (904, 0.029154346844714362), (905, 0.004035579715534411), (906, 0.01324462673192512), (907, 0.03479465347401128), (908, 0.027827675201060317), (909, 0.09618020057477146), (910, 0.012867060699388033), (911, 0.038369138462096025), (912, 0.01629739032910423), (913, 0.050513102875660534), (914, 0.01716416726881062), (915, 0.011799424370315195), (916, 0.061165753855484756), (917, 0.0022982024143152254), (918, 0.024579202892145546), (919, 0.09634504757220615), (920, 0.0032026074078659096), (921, 0.014265013168314038), (922, 0.002880635013329894), (923, 0.032192538725565406), (924, 0.032051510185351545), (925, 0.006963586913833484), (926, 0.018298524407686905), (927, 0.019334907506821826), (928, 0.030398728824055095), (929, 0.03059214040875062), (930, 0.06907496466012103), (931, 0.015740000110070273), (932, 0.0), (933, 0.00618503004195905), (934, 0.04903247519707507), (935, 0.03660449907574157), (936, 0.04956024402669122), (937, 0.0595450439875631), (938, 0.030949871979989958), (939, 0.02645671247004896), (940, 0.03249893566582444), (941, 0.08744258661239473), (942, 0.00208733901899014), (943, 0.003496980210860301), (944, 0.020627570504569814), (945, 0.01594873874101766), (946, 0.009551644735107005), (947, 0.0034634578375828846), (948, 0.027525256093952764), (949, 0.0356283843231406), (950, 0.05108414713060394), (951, 0.02065714087007965), (952, 0.02434153117444732), (953, 0.0020672844980084946), (954, 0.0), (955, 0.024001697379108646), (956, 0.031815178437670906), (957, 0.028871556793070335), (958, 0.01768217929049033), (959, 0.07704146054579011), (960, 0.02648104545473913), (961, 0.012937733998721678), (962, 0.03199486954567211), (963, 0.06508617172312685), (964, 0.002908271341206503), (965, 0.003480988361355605), (966, 0.040254851798447976), (967, 0.03590428031320879), (968, 0.014373829526230793), (969, 0.08125544810327133), (970, 0.018926320088714886), (971, 0.022501373132201304), (972, 0.0026721549742290377), (973, 0.0361480086127941), (974, 0.032649429400477874), (975, 0.016742341842461643), (976, 0.009703992595401351), (977, 0.0), (978, 0.030617830457996723), (979, 0.03521509808402326), (980, 0.002653638124603261), (981, 0.03646131408492574), (982, 0.05922011247454054), (983, 0.044154932265386374), (984, 0.005760669741355915), (985, 0.013916974891725595), (986, 0.0025655984809659135), (987, 0.01657011133401223), (988, 0.025163679179845633), (989, 0.0025253868126055273), (990, 0.0038323110150085666), (991, 0.0027560853766519997), (992, 0.0), (993, 0.05675826571354553), (994, 0.016290742975668075), (995, 0.0394552454676093), (996, 0.004922768133654968), (997, 0.012108012698320953), (998, 0.013791741313179756), (999, 0.013780453734146221), (1000, 0.01333852360424155), (1001, 0.025820827272959635), (1002, 0.03828247887799358), (1003, 0.0), (1004, 0.05340580360754333), (1005, 0.039573450991028956), (1006, 0.026085738367936064), (1007, 0.0063756465111116396), (1008, 0.011990685000018715), (1009, 0.008177223763826104), (1010, 0.023038972612626628), (1011, 0.0372777060274152), (1012, 0.006587812065109098), (1013, 0.05214707457276087), (1014, 0.007704566737756501), (1015, 0.009964028362485583), (1016, 0.05720711974009264), (1017, 0.008959378222919917), (1018, 0.028232022353484564), (1019, 0.04473655046836845), (1020, 0.014704991073467899), (1021, 0.012656505821860392), (1022, 0.015678834515372612), (1023, 0.01722911241623782), (1024, 0.0036335069266729626), (1025, 0.014036102388358356), (1026, 0.026583718543313952), (1027, 0.01834248778616536), (1028, 0.0383402851514012), (1029, 0.03504083963007382), (1030, 0.011397501320528889), (1031, 0.013037507188500537), (1032, 0.002425076048243319), (1033, 0.04509131275969993), (1034, 0.018369791638739346), (1035, 0.014406798336090335), (1036, 0.0024215885944733886), (1037, 0.007498226266135557), (1038, 0.008766212101051978), (1039, 0.03868887756386702), (1040, 0.009502149526047445), (1041, 0.02543064564555203), (1042, 0.01470985434387337), (1043, 0.023473106815363357), (1044, 0.015528976484376749), (1045, 0.015427332655828093), (1046, 0.023193889991362793), (1047, 0.06419501829084986), (1048, 0.11304603430735162), (1049, 0.014426053721878523), (1050, 0.0021873666811585194), (1051, 0.0), (1052, 0.048896000992698696), (1053, 0.010206260691190117), (1054, 0.032346421542199154), (1055, 0.0), (1056, 0.013341486425535882), (1057, 0.011271590830664039), (1058, 0.0), (1059, 0.053239648611746605), (1060, 0.04497066048658756), (1061, 0.01675796102489508), (1062, 0.0029169812295178612), (1063, 0.011100386901223783), (1064, 0.003110684355864439), (1065, 0.007931066451228288), (1066, 0.054033674207277366), (1067, 0.021569209094209132), (1068, 0.046969501344378925), (1069, 0.04700119204453894), (1070, 0.0029817178302954913), (1071, 0.05508284663711759), (1072, 0.002543046684565979), (1073, 0.009125376781846991), (1074, 0.04020439843763961), (1075, 0.02258264152115705), (1076, 0.0), (1077, 0.06430897571139493), (1078, 0.0050434789078881645), (1079, 0.005569220094488125), (1080, 0.06576371056610868), (1081, 0.0), (1082, 0.0), (1083, 0.0026714376837206873), (1084, 0.01192107029967455), (1085, 0.012942436871014266), (1086, 0.033984409675585255), (1087, 0.14468135603945587), (1088, 0.005177059246237447), (1089, 0.0038354946206320827), (1090, 0.06436310736102949), (1091, 0.0), (1092, 0.02376149714418096), (1093, 0.028649580414670254), (1094, 0.015901378005107235), (1095, 0.039842270716314236), (1096, 0.029150484811419478), (1097, 0.0), (1098, 0.002093693097860578), (1099, 0.010750836276397594), (1100, 0.005955945830070409), (1101, 0.02807448566721568), (1102, 0.002548250456791159), (1103, 0.023601468058821098), (1104, 0.012906598655336667), (1105, 0.028429075847059757), (1106, 0.06436394573495477), (1107, 0.021644155153406897), (1108, 0.049172004218027525), (1109, 0.059481051833723486), (1110, 0.01575684269535786), (1111, 0.06674788595450949), (1112, 0.021016957366639756), (1113, 0.04042525319937484), (1114, 0.025909508597782648), (1115, 0.026709288917105507), (1116, 0.016596568000261006), (1117, 0.01590926872978704), (1118, 0.04173536818910429), (1119, 0.01754194628264909), (1120, 0.10763674508378011), (1121, 0.020584429658473576), (1122, 0.020530860237251432), (1123, 0.0024401831882674883), (1124, 0.025084069183779464), (1125, 0.019561461284440116), (1126, 0.009478034253474816), (1127, 0.0), (1128, 0.10817761505635788), (1129, 0.05125208413677662), (1130, 0.05696317501957454), (1131, 0.05150565738369152), (1132, 0.08460375585511552), (1133, 0.012668146736725583), (1134, 0.0), (1135, 0.019242136847259637), (1136, 0.02958124599294487), (1137, 0.0), (1138, 0.0025972647182662075), (1139, 0.014087391237667566), (1140, 0.025736623867621), (1141, 0.009850650942242857), (1142, 0.003654749442981261), (1143, 0.026115780974481764), (1144, 0.027858688739250424), (1145, 0.011999130467789285), (1146, 0.01828637997785777), (1147, 0.0), (1148, 0.002898943301383189), (1149, 0.01876607537786564), (1150, 0.013225922099518528), (1151, 0.0), (1152, 0.01887244032443266), (1153, 0.021811810943231404), (1154, 0.012356164310967907), (1155, 0.0163361577607237), (1156, 0.02553799209892659), (1157, 0.05153799294704221), (1158, 0.0), (1159, 0.006046551269144908), (1160, 0.015163481235237725), (1161, 0.0023177137116782726), (1162, 0.014510343738200293), (1163, 0.0025630330773349043), (1164, 0.0), (1165, 0.0036136889238741828), (1166, 0.0035561135875218828), (1167, 0.010086637850707845), (1168, 0.06096786048047812), (1169, 0.07717766397993209), (1170, 0.02445567922697408), (1171, 0.02330269288222091), (1172, 0.020137368761110386), (1173, 0.04078729710103388), (1174, 0.0026248160105236803), (1175, 0.03893464237390565), (1176, 0.0026208823440973705), (1177, 0.020986948678030637), (1178, 0.013380308033040855), (1179, 0.02631486366566898), (1180, 0.01218995608465117), (1181, 0.0), (1182, 0.009404506617978647), (1183, 0.0023832058412547224), (1184, 0.009899388564496285), (1185, 0.012918872146713683), (1186, 0.04462022927084841), (1187, 0.014293859344872647), (1188, 0.06853772885182785), (1189, 0.0), (1190, 0.05272956702932628), (1191, 0.027198919771658964), (1192, 0.0865041986976452), (1193, 0.0036556253782147317), (1194, 0.042754454268816786), (1195, 0.0562559937053679), (1196, 0.0034658452930053773), (1197, 0.023491579736897077), (1198, 0.003453265708291346), (1199, 0.02296098994206646), (1200, 0.008724360921336615), (1201, 0.03052118599969155), (1202, 0.04396920196583202), (1203, 0.005686238026077052), (1204, 0.040419836755086896), (1205, 0.0037119485209434486), (1206, 0.020079724497362637), (1207, 0.016114567284384793), (1208, 0.031143795281209086), (1209, 0.0021396109651385313), (1210, 0.07669201854586907), (1211, 0.003305654419906419), (1212, 0.0030095924036250216), (1213, 0.0030645355209141948), (1214, 0.02348953351066173), (1215, 0.02986280473274923), (1216, 0.056548697011363655), (1217, 0.03877565458684714), (1218, 0.011697947077720735), (1219, 0.007784495737092436), (1220, 0.024901532591477142), (1221, 0.0264235789322057), (1222, 0.020307390166769548), (1223, 0.03825459500713242), (1224, 0.04323174565588451), (1225, 0.0027086271883950126), (1226, 0.02481141251602411), (1227, 0.003485077325829125), (1228, 0.0), (1229, 0.0287297834284946), (1230, 0.0), (1231, 0.038959400792246184), (1232, 0.0295598422013159), (1233, 0.012037500656578192), (1234, 0.041868330358191826), (1235, 0.003388147099508202), (1236, 0.0055564334021790856), (1237, 0.007876947295075275), (1238, 0.02224826627017239), (1239, 0.06270244658806082), (1240, 0.0), (1241, 0.04431667006246309), (1242, 0.003191418986222084), (1243, 0.016647724616405297), (1244, 0.0035984439355493175), (1245, 0.034131478614706896), (1246, 0.017015697166969573), (1247, 0.01947765560857466), (1248, 0.049003771590804275), (1249, 0.022537243155233064), (1250, 0.019276006848969), (1251, 0.005359081059916707), (1252, 0.04789658259724323), (1253, 0.04525180114273557), (1254, 0.041397413207956535), (1255, 0.04715104572234789), (1256, 0.02215152901938024), (1257, 0.03980289101242003), (1258, 0.0), (1259, 0.04186380909300837), (1260, 0.0038915272892273986), (1261, 0.02069313778596617), (1262, 0.05275946257986615), (1263, 0.03605270557668862), (1264, 0.003092816572312311), (1265, 0.0), (1266, 0.0192947223527727), (1267, 0.021655008039189506), (1268, 0.0027928756719184126), (1269, 0.0), (1270, 0.04382299513534345), (1271, 0.011021524048955705), (1272, 0.01814295081454728), (1273, 0.01992861143473905), (1274, 0.011645268618814163), (1275, 0.026888581408372022), (1276, 0.008569188356527625), (1277, 0.02246269728647371), (1278, 0.0989849410104913), (1279, 0.015923026622569662), (1280, 0.016020770754606155), (1281, 0.07231089367502588), (1282, 0.06539020298286936), (1283, 0.0), (1284, 0.04031541558144975), (1285, 0.0), (1286, 0.025517121048636383), (1287, 0.0), (1288, 0.026530594503452493), (1289, 0.01392681715594069), (1290, 0.04857340019921513), (1291, 0.04671988412172662), (1292, 0.057397605117373726), (1293, 0.01613694926532649), (1294, 0.014429733897820887), (1295, 0.05686339925796155), (1296, 0.007410263051449298), (1297, 0.044628148587750736), (1298, 0.01646910920507446), (1299, 0.01779469526885289), (1300, 0.017212845397263594), (1301, 0.01295605570992215), (1302, 0.016479887973296335), (1303, 0.018796713667368972), (1304, 0.03960984719235941), (1305, 0.06476239765542624), (1306, 0.04418600493982494), (1307, 0.048860423041401785), (1308, 0.02290764176577089), (1309, 0.00597148183606435), (1310, 0.027664467551130046), (1311, 0.00391371870630477), (1312, 0.02107088434047169), (1313, 0.0119884348619955), (1314, 0.021119512643627963), (1315, 0.0), (1316, 0.048183206759679256), (1317, 0.015245272263898657), (1318, 0.017407844338230654), (1319, 0.03861051161769056), (1320, 0.00273857031273354), (1321, 0.031349884749880465), (1322, 0.016033937007360687), (1323, 0.002997387936183654), (1324, 0.03343803196944859), (1325, 0.0027829287351889324), (1326, 0.0028478728440111734), (1327, 0.009641166779762492), (1328, 0.012115264880868445), (1329, 0.11954248931445911), (1330, 0.0034246046442550668), (1331, 0.0031975912030140544), (1332, 0.0), (1333, 0.003720230604200566), (1334, 0.002635736369489646), (1335, 0.0025931239562290843), (1336, 0.01653840451063916), (1337, 0.006180363972313739), (1338, 0.014585802879137702), (1339, 0.02368083969323643), (1340, 0.10096934364968312), (1341, 0.057858641223707236), (1342, 0.007688169190271922), (1343, 0.014576934303157423), (1344, 0.019555807289780222), (1345, 0.026693889802810674), (1346, 0.018477015442393184), (1347, 0.02073697919715499), (1348, 0.003038755052430979), (1349, 0.01670941183407961), (1350, 0.008452504733448872), (1351, 0.017585622787644216), (1352, 0.012597007846741639), (1353, 0.06077900681539127), (1354, 0.022623631460243963), (1355, 0.018036316920246386), (1356, 0.011897049164910592), (1357, 0.002366126179973335), (1358, 0.031769097396484786), (1359, 0.028690055963624048), (1360, 0.013496907199138567), (1361, 0.04721163635772178), (1362, 0.027658222283871638), (1363, 0.009109301703327698), (1364, 0.025365235056473527), (1365, 0.03839184751964697), (1366, 0.03659770260889195), (1367, 0.10484808320254088), (1368, 0.015197066476916092), (1369, 0.02302357612911214), (1370, 0.005221916480128512), (1371, 0.003875252330017308), (1372, 0.011412425319720858), (1373, 0.04833785884917938), (1374, 0.018926024420319872), (1375, 0.024079053937054576), (1376, 0.025916679006130594), (1377, 0.024600119173301696), (1378, 0.008669989021618248), (1379, 0.02570741947740495), (1380, 0.012932180864476561), (1381, 0.014071655152578705), (1382, 0.03026442585210137), (1383, 0.0028983331157595876), (1384, 0.024303899257332985), (1385, 0.009229247697441243), (1386, 0.0), (1387, 0.021046101147301093), (1388, 0.003503807655342903), (1389, 0.05741053836131912), (1390, 0.028247399036747202), (1391, 0.0), (1392, 0.03954421310879377), (1393, 0.021783461104043143), (1394, 0.037956996306936636), (1395, 0.009870429064499767), (1396, 0.032601742387313414), (1397, 0.005237167419271481), (1398, 0.02556642733159193), (1399, 0.0), (1400, 0.002706490949405887), (1401, 0.017728158266204472), (1402, 0.025205082211104277), (1403, 0.024675385697808857), (1404, 0.01401812354193721), (1405, 0.05028435978345967), (1406, 0.013157738174028042), (1407, 0.016851218637732007), (1408, 0.02207962139152168), (1409, 0.006479033822759687), (1410, 0.012295993293215842), (1411, 0.04334921403640348), (1412, 0.036002183793428025), (1413, 0.08183938267019178), (1414, 0.06301128067637594), (1415, 0.007109432923537225), (1416, 0.0024535926078609097), (1417, 0.007195254087244732), (1418, 0.03938069549443309), (1419, 0.009026743534564147), (1420, 0.04673447384234696), (1421, 0.02018650476083876), (1422, 0.03241854184493449), (1423, 0.007701079418002733), (1424, 0.010958279698880365), (1425, 0.05758859447405254), (1426, 0.012991434158377032), (1427, 0.021336646588237855), (1428, 0.008727505310911867), (1429, 0.0030866570911655864), (1430, 0.04619315857068039), (1431, 0.012556356166968326), (1432, 0.017657490995703), (1433, 0.04741586310987725), (1434, 0.012833328089839793), (1435, 0.0), (1436, 0.01297431805689586), (1437, 0.015856308340268955), (1438, 0.008593541722076728), (1439, 0.024410176396893937), (1440, 0.00260719554067078), (1441, 0.010347262915655391), (1442, 0.06565415067090148), (1443, 0.06973084551270498), (1444, 0.0034714173624978005), (1445, 0.010028743584971805), (1446, 0.0239273120581428), (1447, 0.01553575384635774), (1448, 0.04797405234366492), (1449, 0.01459397591919747), (1450, 0.04267921893601331), (1451, 0.023036203834712554), (1452, 0.0), (1453, 0.032805992849135816), (1454, 0.03925781431201697), (1455, 0.0), (1456, 0.07098043370902157), (1457, 0.04355252771218463), (1458, 0.0076309043420585), (1459, 0.02414002712759975), (1460, 0.0), (1461, 0.036265085834680105), (1462, 0.011990130792594679), (1463, 0.04357186419129265), (1464, 0.03160314529351575), (1465, 0.07436292844791592), (1466, 0.0), (1467, 0.08593717575953883), (1468, 0.013961384267506146), (1469, 0.04013642085905535), (1470, 0.0), (1471, 0.03663923643867551), (1472, 0.04599270409158013), (1473, 0.027110859061488416), (1474, 0.01653838389423706), (1475, 0.015978595418776956), (1476, 0.012325769347527774), (1477, 0.053465951356580325), (1478, 0.0024586847395749517), (1479, 0.03353936055511138), (1480, 0.026879011345647418), (1481, 0.013604529656183605), (1482, 0.02915014795147314), (1483, 0.011493712794595034), (1484, 0.022193923025802767), (1485, 0.016966302225124328), (1486, 0.024669900543061358), (1487, 0.03510788214695969), (1488, 0.009568790920353018), (1489, 0.05673215150209471), (1490, 0.044362430125180305), (1491, 0.04108107845665102), (1492, 0.03133867771949414), (1493, 0.04364819371518819), (1494, 0.05573186261805722), (1495, 0.03767271706923875), (1496, 0.02632375115790717), (1497, 0.0029302755076130523), (1498, 0.0028544831636394606), (1499, 0.0028741901447297447), (1500, 0.045454730535788704), (1501, 0.02847467956152079), (1502, 0.022470133818208442), (1503, 0.049338600619718974), (1504, 0.0182373020479555), (1505, 0.05197978754807503), (1506, 0.07191585463890196), (1507, 0.01715129303134895), (1508, 0.0539952505810941), (1509, 0.014673979228010683), (1510, 0.0640942116639557), (1511, 0.03859190210450837), (1512, 0.03442133174067681), (1513, 0.006308734858283201), (1514, 0.008530642641126004), (1515, 0.019035584437547173), (1516, 0.033966739347580724), (1517, 0.02788997212783276), (1518, 0.03572988791026929), (1519, 0.008523843550272645), (1520, 0.01690826274808964), (1521, 0.025230875377223405), (1522, 0.03830465725310103), (1523, 0.029516943775718743), (1524, 0.059725981221420206), (1525, 0.03742023449386315), (1526, 0.021406530390534258), (1527, 0.031961340982599486), (1528, 0.02458314563631965), (1529, 0.0), (1530, 0.05648698987453796), (1531, 0.0), (1532, 0.020790218217632127), (1533, 0.031019442339978536), (1534, 0.023913136678849253), (1535, 0.049146463698050806), (1536, 0.006353450788424322), (1537, 0.019612280157044082), (1538, 0.00836677419834242), (1539, 0.03082293360319737), (1540, 0.0), (1541, 0.005961722117991836), (1542, 0.03281864111803645), (1543, 0.011208690679117827), (1544, 0.003348875728857715), (1545, 0.012174111805628867), (1546, 0.01054894550033806), (1547, 0.0029904130261238157), (1548, 0.015521656275801302), (1549, 0.038811570438065456), (1550, 0.02527978825078528), (1551, 0.027636646640741377), (1552, 0.02067797098234097), (1553, 0.05415619207451739), (1554, 0.0), (1555, 0.02950815691355877), (1556, 0.0), (1557, 0.04164408670165481), (1558, 0.00806628903616085), (1559, 0.026548771371649217), (1560, 0.003931246298805621), (1561, 0.03808336291096478), (1562, 0.027697169493035006), (1563, 0.007580281023969661), (1564, 0.016131533488879343), (1565, 0.0375387813059047), (1566, 0.038053279945568126), (1567, 0.021379460078732555), (1568, 0.011190032656738742), (1569, 0.046108859461533334), (1570, 0.016801090403461102), (1571, 0.051621205948894404), (1572, 0.02469748706877426), (1573, 0.011318163756629415), (1574, 0.014965252026330617), (1575, 0.027918484249283428), (1576, 0.0), (1577, 0.015888373893202308), (1578, 0.05382990461206315), (1579, 0.0747424650148112), (1580, 0.02144617438865855), (1581, 0.042426896674386635), (1582, 0.014653120552908433), (1583, 0.024541807385740536), (1584, 0.03359531407988946), (1585, 0.02281340120603989), (1586, 0.04197316361036592), (1587, 0.01603304402465157), (1588, 0.012004143266573784), (1589, 0.01842092024038936), (1590, 0.021902532573706605), (1591, 0.0), (1592, 0.05161801340829848), (1593, 0.003111561362809301), (1594, 0.05138771609783731), (1595, 0.02175244617396322), (1596, 0.0037057561371593296), (1597, 0.01764595790848212), (1598, 0.005978321929019923), (1599, 0.03517275739039606), (1600, 0.014527125222964173), (1601, 0.021745099381310543), (1602, 0.04886661075768558), (1603, 0.014547751824528374), (1604, 0.0), (1605, 0.021431526769625057), (1606, 0.03857673331866167), (1607, 0.011188075453445278), (1608, 0.02391371680716622), (1609, 0.0037228020271861985), (1610, 0.008886762402712965), (1611, 0.015135974707847706), (1612, 0.0634578233587887), (1613, 0.036886416774416335), (1614, 0.03572103560670935), (1615, 0.03388017336160917), (1616, 0.010691346107298223), (1617, 0.028011311151527607), (1618, 0.009294025614805343), (1619, 0.029401978583045774), (1620, 0.013866724850474693), (1621, 0.002531155713354134), (1622, 0.04204332172351979), (1623, 0.012466602570052757), (1624, 0.03583427670129449), (1625, 0.002308780402711706), (1626, 0.01427191656822687), (1627, 0.047590395619228516), (1628, 0.00793974144932931), (1629, 0.015821721050075482), (1630, 0.04732466159739746), (1631, 0.0), (1632, 0.011756892261520345), (1633, 0.0), (1634, 0.015515595484662845), (1635, 0.03394109543094906), (1636, 0.028135622392167645), (1637, 0.0463348713126183), (1638, 0.0891283593566573), (1639, 0.017851594684148705), (1640, 0.0170119761671122), (1641, 0.002380949818887078), (1642, 0.0169539641951682), (1643, 0.07447109174036211), (1644, 0.07948334556244814), (1645, 0.023220825536140112), (1646, 0.002806969788023495), (1647, 0.03362211614117125), (1648, 0.024794769911743196), (1649, 0.06164917956600183), (1650, 0.06407599735166435), (1651, 0.01881645763864037), (1652, 0.023741533235408566), (1653, 0.014461579755897224), (1654, 0.02481376515627346), (1655, 0.018644611800844486), (1656, 0.022315533670295856), (1657, 0.012520104407220456), (1658, 0.028912059232507895), (1659, 0.0415522112208614), (1660, 0.019139676297488566), (1661, 0.0), (1662, 0.028334301537473683), (1663, 0.005705358282021504), (1664, 0.02478616799382863), (1665, 0.002404027410329793), (1666, 0.032741724748840136), (1667, 0.0023662808441448366), (1668, 0.03708587914401514), (1669, 0.015087723182361913), (1670, 0.01479435038585111), (1671, 0.0024858328625788004), (1672, 0.002350446273543772), (1673, 0.003247756786711349), (1674, 0.0), (1675, 0.04631784642867812), (1676, 0.014798347781296708), (1677, 0.016664680079625495), (1678, 0.021357190506125973), (1679, 0.030352417739895308), (1680, 0.002331847429700665), (1681, 0.01346240833546389), (1682, 0.044713474918230384), (1683, 0.006480658096304432), (1684, 0.01808269984626775), (1685, 0.016216684018462456), (1686, 0.0), (1687, 0.015723570799563043), (1688, 0.037964635317508946), (1689, 0.02939059602928929), (1690, 0.02009575108622676), (1691, 0.046091082727619415), (1692, 0.07256741961922404), (1693, 0.011422815442862957), (1694, 0.003097413887788432), (1695, 0.01813134162523327), (1696, 0.015362154133593778), (1697, 0.003590948554497153), (1698, 0.045380411746016855), (1699, 0.019613638819462), (1700, 0.026697397200394258), (1701, 0.09759434765027131), (1702, 0.037933359119058714), (1703, 0.0026565452338557297), (1704, 0.012499686009235242), (1705, 0.012302497480834203), (1706, 0.002590943160797851), (1707, 0.09901403963519267), (1708, 0.00990021939539724), (1709, 0.03775668280727438), (1710, 0.06477096643131564), (1711, 0.09096038199535711), (1712, 0.0098527416674644), (1713, 0.00755137068639517), (1714, 0.04937331258323874), (1715, 0.054206948272193585), (1716, 0.01663151909714069), (1717, 0.002644302008857815), (1718, 0.029884586954036903), (1719, 0.09419112771747054), (1720, 0.06238397311497607), (1721, 0.015710085829119314), (1722, 0.023887042000078566), (1723, 0.017754106979149555), (1724, 0.014926255232982976), (1725, 0.051805700768462665), (1726, 0.016162993268578688), (1727, 0.02029442509334136), (1728, 0.08729802748212767), (1729, 0.018540553256736203), (1730, 0.020627572630620303), (1731, 0.010290615216960317), (1732, 0.00372860237837879), (1733, 0.020085416811963422), (1734, 0.01569342889929253), (1735, 0.003597693336603813), (1736, 0.0172000819674392), (1737, 0.025117431638701237), (1738, 0.0249250931795083), (1739, 0.0023086183376153833), (1740, 0.017966753468209834), (1741, 0.03840543299251085), (1742, 0.0267515573916246), (1743, 0.023484079393677578), (1744, 0.02595887843268231), (1745, 0.0), (1746, 0.038052926275823525), (1747, 0.03544326451283198), (1748, 0.019236355074349135), (1749, 0.0), (1750, 0.023377436265240605), (1751, 0.029501600584154943), (1752, 0.010496398260974014), (1753, 0.0), (1754, 0.0028283979775857297), (1755, 0.023337194516572644), (1756, 0.03733143333222908), (1757, 0.003436654067579663), (1758, 0.018213615832943838), (1759, 0.02323404330352776), (1760, 0.0023738735066298395), (1761, 0.006795850374953151), (1762, 0.04335535107040129), (1763, 0.007430820459286161), (1764, 0.05251814210450603), (1765, 0.006263682348263755), (1766, 0.003849709001641312), (1767, 0.013442302764220138), (1768, 0.032329157216975254), (1769, 0.020570924062997622), (1770, 0.007150625552347913), (1771, 0.022483255889001737), (1772, 0.019756327359794768), (1773, 0.0065155029498070605), (1774, 0.007038072901115376), (1775, 0.041255376032481875), (1776, 0.0452574695672429), (1777, 0.0035840487370100904), (1778, 0.02036181921740652), (1779, 0.03563396541474664), (1780, 0.022232692040460376), (1781, 0.04171148838790827), (1782, 0.035818410402752514), (1783, 0.0032824909372117287), (1784, 0.022662766857552027), (1785, 0.0033010870842627243), (1786, 0.010556642103326259), (1787, 0.04491604284189004), (1788, 0.0744169508965345), (1789, 0.0), (1790, 0.025781881254967866), (1791, 0.0037139654200339742), (1792, 0.03869499929384626), (1793, 0.030900337177258742), (1794, 0.014412550415202218), (1795, 0.008324885329068204), (1796, 0.0023426586428496117), (1797, 0.017624293913514246), (1798, 0.11569487202698034), (1799, 0.03414378759563846), (1800, 0.011997691334896017), (1801, 0.011804594890711537), (1802, 0.04275168622027359), (1803, 0.02943150861323729), (1804, 0.021927025524536663), (1805, 0.017900977494322446), (1806, 0.01047889221112856), (1807, 0.056978990033198805), (1808, 0.02532460441947458), (1809, 0.017092007391225062), (1810, 0.019834244568531775), (1811, 0.01296711720770569), (1812, 0.033301996651611786), (1813, 0.0024927058546281027), (1814, 0.0023640862802216268), (1815, 0.0), (1816, 0.022850622194516026), (1817, 0.022008867714913855), (1818, 0.04555348320098171), (1819, 0.022100831257669384), (1820, 0.0), (1821, 0.023789848252188203), (1822, 0.0063930277752912625), (1823, 0.0350961214725876), (1824, 0.01480556374516609), (1825, 0.03633761820774122), (1826, 0.00232174581197081), (1827, 0.027652606809639015), (1828, 0.012796089745317183), (1829, 0.010021668544078547), (1830, 0.0053661575827636775), (1831, 0.011641927295194678), (1832, 0.0), (1833, 0.01611197503619857), (1834, 0.0034585022908279295), (1835, 0.0), (1836, 0.003873438115239867), (1837, 0.0034543768229619337), (1838, 0.015704158507784), (1839, 0.016188120573588444), (1840, 0.0), (1841, 0.04123703743536641), (1842, 0.003413345101952608), (1843, 0.07289155979422587), (1844, 0.0038301124861501888), (1845, 0.023331131879288113), (1846, 0.0), (1847, 0.0036018812667059155), (1848, 0.044582773169196184), (1849, 0.05139906633654823), (1850, 0.034210974043783114), (1851, 0.025431858002401633), (1852, 0.06718874419662113), (1853, 0.0027177258864078744), (1854, 0.012480936564645159), (1855, 0.022658036996830527), (1856, 0.003710035648720326), (1857, 0.012071715627199851), (1858, 0.08836143023841049), (1859, 0.012929997972548353), (1860, 0.015762977380777705), (1861, 0.007234867530344258), (1862, 0.0028755606255627527), (1863, 0.02532179509295109), (1864, 0.019915767820863097), (1865, 0.02821754367651733), (1866, 0.009475007315034813), (1867, 0.053893943274758056), (1868, 0.022331924771520545), (1869, 0.007856479205895738), (1870, 0.015005491249953384), (1871, 0.009683091533970163), (1872, 0.01781385676399824), (1873, 0.027372689293339882), (1874, 0.04108221645505031), (1875, 0.02533559896538393), (1876, 0.020825304494853376), (1877, 0.01748021646378968), (1878, 0.02152559305323146), (1879, 0.003529360428414588), (1880, 0.024026963203693075), (1881, 0.022864922841977615), (1882, 0.002515658822457969), (1883, 0.015346552374416187), (1884, 0.0023998167684586616), (1885, 0.01016725408301761), (1886, 0.029610166771990066), (1887, 0.016805705164342075), (1888, 0.03394555297557185), (1889, 0.003541806299734815), (1890, 0.0028489895009385716), (1891, 0.0025452805076877916), (1892, 0.002331460538715762), (1893, 0.02944467128068831), (1894, 0.0), (1895, 0.023330865802440107), (1896, 0.029956265143583787), (1897, 0.03490750717697899), (1898, 0.0032620571303536997), (1899, 0.003252246386038096), (1900, 0.00335871902015474), (1901, 0.0), (1902, 0.006365668866064181), (1903, 0.07551327887622934), (1904, 0.0), (1905, 0.013263720667362155), (1906, 0.03806692269465641), (1907, 0.01971795999238815), (1908, 0.03249215474589776), (1909, 0.009849116544457125), (1910, 0.010359154976092477), (1911, 0.03381546869812607), (1912, 0.003340037920251774), (1913, 0.019091020903369862), (1914, 0.025600384934642815), (1915, 0.08962141374880267), (1916, 0.0027056802137589357), (1917, 0.003581078785864437), (1918, 0.0027120591836363684), (1919, 0.07634549636425927), (1920, 0.008522767771017428), (1921, 0.014326367024684528), (1922, 0.002591886239570072), (1923, 0.02975495305342589), (1924, 0.0433286243811361), (1925, 0.08425199260860243), (1926, 0.0037069876026032235), (1927, 0.0), (1928, 0.027999895000709263), (1929, 0.015787838904505636), (1930, 0.0), (1931, 0.0163785240039226), (1932, 0.01392262458872845), (1933, 0.0), (1934, 0.016280831206972872), (1935, 0.02904593146707421), (1936, 0.11300327831362768), (1937, 0.01128486540514782), (1938, 0.053764310408698814), (1939, 0.004629794221025117), (1940, 0.0), (1941, 0.004175452766155056), (1942, 0.015594070990003235), (1943, 0.00527132801624758), (1944, 0.01819093485796591), (1945, 0.006700577621584208), (1946, 0.06888930523685213), (1947, 0.007030412509018289), (1948, 0.06510199531259075), (1949, 0.01798837917276554), (1950, 0.029900151726806143), (1951, 0.03667471378366245), (1952, 0.028132015718305012), (1953, 0.0), (1954, 0.0053647234284525305), (1955, 0.010082178972616112), (1956, 0.009708660291608537), (1957, 0.03470792767590231), (1958, 0.013741794817484082), (1959, 0.05368773142427221), (1960, 0.0028427787305023103), (1961, 0.03003902050346182), (1962, 0.0), (1963, 0.016264928560586745), (1964, 0.07478547609996919), (1965, 0.029096030677476025), (1966, 0.0), (1967, 0.002494309083778729), (1968, 0.033225968963076224), (1969, 0.014311529364781228), (1970, 0.018761062720311177), (1971, 0.020211669338145034), (1972, 0.0), (1973, 0.034106150820312216), (1974, 0.035199639702813715), (1975, 0.0), (1976, 0.0), (1977, 0.0170787622875497), (1978, 0.011315223437844692), (1979, 0.0), (1980, 0.005431959816404082), (1981, 0.030698865609356966), (1982, 0.03689009589019513), (1983, 0.07434636906931086), (1984, 0.02009233878497627), (1985, 0.021704836866628736), (1986, 0.02215398027031292), (1987, 0.02571414147631627), (1988, 0.024223915434728245), (1989, 0.015610219766346052), (1990, 0.020741979080683374), (1991, 0.022311114339935594), (1992, 0.017314880560246458), (1993, 0.019759591210757675), (1994, 0.02584844961997763), (1995, 0.0027608499082624302), (1996, 0.030663673911307684), (1997, 0.029434609085452965), (1998, 0.03578539167583847), (1999, 0.003940743665355635), (2000, 0.07400533048017167), (2001, 0.03731469492364785), (2002, 0.0036513121311020132), (2003, 0.0463100974099906), (2004, 0.02928281327461719), (2005, 0.04925409839205928), (2006, 0.00818571579921315), (2007, 0.02249391162035085), (2008, 0.008964117383574645), (2009, 0.035939493766996546), (2010, 0.0020276379715676494), (2011, 0.04499358642007815), (2012, 0.04561398500929845), (2013, 0.04270449816063906), (2014, 0.037018859774982045), (2015, 0.05116809115539872), (2016, 0.015395209954329235), (2017, 0.03675328891792067), (2018, 0.0028455196531734198), (2019, 0.01389732050453986), (2020, 0.01613211630737969), (2021, 0.0037762012793071194), (2022, 0.024723637963552432), (2023, 0.01396516208923056), (2024, 0.016865849346690096), (2025, 0.002877809893062724), (2026, 0.009590787393204165), (2027, 0.14722613681312074), (2028, 0.0), (2029, 0.023466845129553368), (2030, 0.0), (2031, 0.03551262718168148), (2032, 0.029705168926944032), (2033, 0.0031732783918466175), (2034, 0.014510639790157149), (2035, 0.01870973064416513), (2036, 0.040624847782755207), (2037, 0.030655988038350596), (2038, 0.0), (2039, 0.032487607249723965), (2040, 0.010183335782195822), (2041, 0.01759690891325438), (2042, 0.003640339183461632), (2043, 0.10393333953857428), (2044, 0.006489862949956917), (2045, 0.035511572970626265), (2046, 0.03257800778134082), (2047, 0.04948508984244905), (2048, 0.008931215834139639), (2049, 0.020743687569078986), (2050, 0.0033264879540629627), (2051, 0.057587680304652084), (2052, 0.015657200318709076), (2053, 0.01531059769132823), (2054, 0.0), (2055, 0.025494958632615684), (2056, 0.021586429273464332), (2057, 0.019116031186901212), (2058, 0.031280709354104284), (2059, 0.0030425485179658572), (2060, 0.005994680023729684), (2061, 0.02744020891205313), (2062, 0.030185985105559025), (2063, 0.0031627496651200604), (2064, 0.02762927153726491), (2065, 0.024340073655036966), (2066, 0.0), (2067, 0.002582995281645686), (2068, 0.02828321452029613), (2069, 0.028141427078692542), (2070, 0.018372758995134346), (2071, 0.026060832907137364), (2072, 0.027271497771702152), (2073, 0.002616769448681376), (2074, 0.06855917230380329), (2075, 0.011369943153092695), (2076, 0.015449750381103737), (2077, 0.004254577603792459), (2078, 0.00975225781237556), (2079, 0.01798056932115342), (2080, 0.002480722768721594), (2081, 0.0034923074158195494), (2082, 0.003784645988235491), (2083, 0.016718694810474014), (2084, 0.040593254238536956), (2085, 0.00959236974802901), (2086, 0.02328283645550489), (2087, 0.012427628560367094), (2088, 0.039735640160074144), (2089, 0.00301699481848416), (2090, 0.0036409654939805807), (2091, 0.0026032951268627254), (2092, 0.017413693910714137), (2093, 0.0032264607445797538), (2094, 0.01789672537634205), (2095, 0.019424512720040883), (2096, 0.009824822935377736), (2097, 0.002794014506773948), (2098, 0.008672521652881873), (2099, 0.018617672254651215), (2100, 0.042853536451898856), (2101, 0.01778097779661149), (2102, 0.05521469378414721), (2103, 0.020915568096461334), (2104, 0.033625951884662095), (2105, 0.009240104513246417), (2106, 0.013528911896471485), (2107, 0.04282308576740042), (2108, 0.013503307182959173), (2109, 0.021652347917769075), (2110, 0.006101549283945299), (2111, 0.026587973637334283), (2112, 0.0237078281324039), (2113, 0.007933884727185928), (2114, 0.07028647548756133), (2115, 0.01884653360437376), (2116, 0.020307861916189444), (2117, 0.03637941906701791), (2118, 0.05364474651873411), (2119, 0.00616905852227435), (2120, 0.009788606699656668), (2121, 0.008775349804003355), (2122, 0.03198560515857564), (2123, 0.002657587560801298), (2124, 0.003738717124817686), (2125, 0.013698055190421398), (2126, 0.015293797989597801), (2127, 0.03638181511798045), (2128, 0.02435473917877884), (2129, 0.020643925230318882), (2130, 0.0), (2131, 0.06627819949686327), (2132, 0.01602529334882198), (2133, 0.02659497541386457), (2134, 0.017869356234725287), (2135, 0.012227067509748425), (2136, 0.0), (2137, 0.0588227306015513), (2138, 0.003953970800242707), (2139, 0.011508561846669107), (2140, 0.0033171407106845126), (2141, 0.002454112307943326), (2142, 0.002994506500627788), (2143, 0.05264140476114174), (2144, 0.0294437475960988), (2145, 0.04779691473513479), (2146, 0.005175572495882271), (2147, 0.04577258855311816), (2148, 0.009893120692671793), (2149, 0.008107663870938201), (2150, 0.01794778006645581), (2151, 0.010176537168865673), (2152, 0.050830153737002254), (2153, 0.003507685375836461), (2154, 0.01180685399079482), (2155, 0.04640046830291015), (2156, 0.025387386800860914), (2157, 0.0050924078860472375), (2158, 0.14253395697027288), (2159, 0.02223707435223861), (2160, 0.051411460163608765), (2161, 0.05632160450629322), (2162, 0.012644262756485596), (2163, 0.015715559520672363), (2164, 0.003904791716469544), (2165, 0.018605682676555838), (2166, 0.01875917280503319), (2167, 0.032789609017588206), (2168, 0.01592888809106711), (2169, 0.04194474736319834), (2170, 0.008976133911677103), (2171, 0.0), (2172, 0.0), (2173, 0.002528310211493384), (2174, 0.02970040512564375), (2175, 0.050719388524908274), (2176, 0.02572495344995765), (2177, 0.030960681238925893), (2178, 0.057705666616942194), (2179, 0.003277281598319317), (2180, 0.0571285537319522), (2181, 0.0), (2182, 0.023294525488945755), (2183, 0.01297622114544605), (2184, 0.0), (2185, 0.009082780211305616), (2186, 0.010879535406997647), (2187, 0.013962775399340528), (2188, 0.021494894025534096), (2189, 0.0036041725538701838), (2190, 0.01409065999615107), (2191, 0.0023026423655587496), (2192, 0.006098895908644847), (2193, 0.04295424469049883), (2194, 0.0036182223185039835), (2195, 0.020884403280410968), (2196, 0.012451373874465085), (2197, 0.005624532703843468), (2198, 0.06444900974392963), (2199, 0.06968343871718222), (2200, 0.0035650118592196233), (2201, 0.011317352114071793), (2202, 0.029825733874894768), (2203, 0.03464707509640516), (2204, 0.013352117015466361), (2205, 0.025634333643751103), (2206, 0.0), (2207, 0.03564544143910741), (2208, 0.014831195805713883), (2209, 0.014145809734304165), (2210, 0.02675879226359011), (2211, 0.037321682501044944), (2212, 0.04050231499475429), (2213, 0.04259172907920664), (2214, 0.033787733092088365), (2215, 0.05156718558137094), (2216, 0.017261403815596918), (2217, 0.0036521596802156935), (2218, 0.06525055694964838), (2219, 0.02866911813566058), (2220, 0.012110276332723142), (2221, 0.03357968778396099), (2222, 0.016269169087782517), (2223, 0.006885918555690158), (2224, 0.03660957722693542), (2225, 0.0031953315049412243), (2226, 0.022786521347016545), (2227, 0.019278112637981022), (2228, 0.004515178760661971), (2229, 0.030510658127723297), (2230, 0.00891152004643166), (2231, 0.08726585781572525), (2232, 0.0), (2233, 0.013456655379208586), (2234, 0.025240867563644517), (2235, 0.0), (2236, 0.03378431171544785), (2237, 0.02913411813729172), (2238, 0.0), (2239, 0.05704631204493837), (2240, 0.02387912461629434), (2241, 0.016378917141311386), (2242, 0.011563723686350188), (2243, 0.0), (2244, 0.055276884267481244), (2245, 0.01184371585004111), (2246, 0.02123827466584806), (2247, 0.013549303163829535), (2248, 0.0023082895397874125), (2249, 0.010037843186410022), (2250, 0.04463561506857012), (2251, 0.0035724226946598036), (2252, 0.026423814345365358), (2253, 0.007281138712944293), (2254, 0.0027552358896113243), (2255, 0.003312581966926684), (2256, 0.08162337556229271), (2257, 0.003305686432774029), (2258, 0.03178264333541726), (2259, 0.026686139868787227), (2260, 0.006478551495531033), (2261, 0.00404375871716943), (2262, 0.014190118294042396), (2263, 0.013160643029536765), (2264, 0.015587049473918663), (2265, 0.033243464096841445), (2266, 0.010684600214584977), (2267, 0.015350475032460245), (2268, 0.027271532298975103), (2269, 0.03144221780945032), (2270, 0.005232643913193653), (2271, 0.011834066381306975), (2272, 0.003240400220470139), (2273, 0.04037650249001422), (2274, 0.036142082784738835), (2275, 0.0), (2276, 0.03530988390977925), (2277, 0.035365476879737116), (2278, 0.012440050653469968), (2279, 0.0025016914089013935), (2280, 0.022982057637638664), (2281, 0.040880658400846384), (2282, 0.0044821971242810605), (2283, 0.022675707993760178), (2284, 0.006088851547357135), (2285, 0.03036191867382944), (2286, 0.01796331243862624), (2287, 0.032797325141551925), (2288, 0.0027158056481297447), (2289, 0.0025497786108600105), (2290, 0.0035599976385465573), (2291, 0.016202888244275338), (2292, 0.019824158641692374), (2293, 0.002798692882288357), (2294, 0.0787851285681169), (2295, 0.0026083799209309397), (2296, 0.013231250284189153), (2297, 0.04283912159849097), (2298, 0.003442555547694238), (2299, 0.0041058031573623375), (2300, 0.021096825754052386), (2301, 0.048620730247926965), (2302, 0.013818409929783077), (2303, 0.023548676761953), (2304, 0.023284611310190963), (2305, 0.003989985819632776), (2306, 0.011662115681155999), (2307, 0.0035783845647175297), (2308, 0.0120121191329351), (2309, 0.03194563218326715), (2310, 0.003432892771556264), (2311, 0.02469816067470026), (2312, 0.005022564055897633), (2313, 0.008809871147401914), (2314, 0.0), (2315, 0.012897930904226806), (2316, 0.03787347800679962), (2317, 0.013721572701580928), (2318, 0.025739987377636827), (2319, 0.0369859707475621), (2320, 0.04265352764540174), (2321, 0.038965690708530676), (2322, 0.028403716254971154), (2323, 0.053870542730430945), (2324, 0.006625489151875197), (2325, 0.003621632002041271), (2326, 0.009628689019340367), (2327, 0.028712503129234755), (2328, 0.0074989686004222796), (2329, 0.015449333440141058), (2330, 0.012964855944018097), (2331, 0.007875368906199236), (2332, 0.021378927373196407), (2333, 0.01142611811614998), (2334, 0.029532329622234336), (2335, 0.019911522307528594), (2336, 0.0034690360940050884), (2337, 0.012163388732011343), (2338, 0.02999730078449311), (2339, 0.025442439602555822), (2340, 0.04725627071931181), (2341, 0.0), (2342, 0.0), (2343, 0.0), (2344, 0.008695395254050796), (2345, 0.0), (2346, 0.02209782219945243), (2347, 0.01082382733420675), (2348, 0.025493526112874847), (2349, 0.012014578940975584), (2350, 0.035579905906979445), (2351, 0.06100541444655997), (2352, 0.019715774202979236), (2353, 0.01936158254345364), (2354, 0.023336760194798207), (2355, 0.010898268167817825), (2356, 0.002870244030504274), (2357, 0.0039604682363408965), (2358, 0.0), (2359, 0.002143025960532098), (2360, 0.012366931183345758), (2361, 0.0027234099584662794), (2362, 0.007954233756378158), (2363, 0.01946483108759942), (2364, 0.0028049168615095154), (2365, 0.0), (2366, 0.0030938216272731593), (2367, 0.03512113550198847), (2368, 0.022413412984032426), (2369, 0.0), (2370, 0.020248304332110098), (2371, 0.04208210996982847), (2372, 0.0), (2373, 0.0029093826423240462), (2374, 0.0026021250940181095), (2375, 0.013365511741090972), (2376, 0.0442855654273053), (2377, 0.019660393509455885), (2378, 0.0030216285988902665), (2379, 0.008740200490419132), (2380, 0.01814922656473528), (2381, 0.02269603159169828), (2382, 0.025217618234708906), (2383, 0.0), (2384, 0.0038854024764240986), (2385, 0.023877900110184112), (2386, 0.045664033798975254), (2387, 0.006043005863827144), (2388, 0.013805503476349335), (2389, 0.021608080126509742), (2390, 0.009512569360709508), (2391, 0.012993914237536031), (2392, 0.003352410705697558), (2393, 0.0027400387457451455), (2394, 0.006381411571667113), (2395, 0.004825666529654838), (2396, 0.00611121806766922), (2397, 0.02305675992057272), (2398, 0.028054950898392498), (2399, 0.011230145651720033), (2400, 0.0029040446871637566), (2401, 0.0024953237037601684), (2402, 0.011017777964880203), (2403, 0.1128520545209776), (2404, 0.008237254924303874), (2405, 0.009024991808697978), (2406, 0.003015909527861921), (2407, 0.011994790033902442), (2408, 0.0372917478561743), (2409, 0.042359489994883995), (2410, 0.023446607994749256), (2411, 0.0068576340067199), (2412, 0.03947668207648477), (2413, 0.0), (2414, 0.012360530327857411), (2415, 0.010529366534699082), (2416, 0.023501858721495017), (2417, 0.010792506939875764), (2418, 0.06024860385940316), (2419, 0.002697482596919026), (2420, 0.010751421243227564), (2421, 0.04298633352666037), (2422, 0.03561552419501687), (2423, 0.007632280249134312), (2424, 0.0031620923623887063), (2425, 0.003327648976842877), (2426, 0.009138434168723071), (2427, 0.03146933520093069), (2428, 0.002833520518760182), (2429, 0.0), (2430, 0.07254901770112776), (2431, 0.02249904816361023), (2432, 0.01181954982267956), (2433, 0.0030550123096653374), (2434, 0.014544199520316319), (2435, 0.00344490902553523), (2436, 0.03798337914702915), (2437, 0.002914303358806625), (2438, 0.0031803001440962523), (2439, 0.017756401139402016), (2440, 0.018108118466730026), (2441, 0.033114531543046034), (2442, 0.019284689144901092), (2443, 0.0570899880864386), (2444, 0.027785382298234768), (2445, 0.0032109061529900012), (2446, 0.017014079033904006), (2447, 0.030738334323814676), (2448, 0.030433445068210656), (2449, 0.018653801046172504), (2450, 0.003243068710493472), (2451, 0.0), (2452, 0.0038272635980086795), (2453, 0.007975253638948274), (2454, 0.00310040186793442), (2455, 0.004427973402391203), (2456, 0.0036006539604129793), (2457, 0.007805643583022449), (2458, 0.01716485436172374), (2459, 0.04833058655108754), (2460, 0.0302658972908769), (2461, 0.03656868629912669), (2462, 0.0), (2463, 0.06889318740789199), (2464, 0.0066420082329746374), (2465, 0.021109032784127763), (2466, 0.01443556929914309), (2467, 0.011737754382440867), (2468, 0.004076125427270541), (2469, 0.018996301573166587), (2470, 0.013849273177017066), (2471, 0.0), (2472, 0.009628875141861991), (2473, 0.008778606181937116), (2474, 0.06129553748957009), (2475, 0.009331731867616587), (2476, 0.0), (2477, 0.012721324524543338), (2478, 0.006952310695385118), (2479, 0.0038956408234864983), (2480, 0.06331100006573598), (2481, 0.023425711540157323), (2482, 0.024259147548995517), (2483, 0.0046007694559153725), (2484, 0.0034330010445119525), (2485, 0.06438763747021362), (2486, 0.03329175924886218), (2487, 0.03629077322885253), (2488, 0.014868160532331871), (2489, 0.008843077154469768), (2490, 0.008728851337496308), (2491, 0.01452206018589918), (2492, 0.03692012430499054), (2493, 0.03313456976165002), (2494, 0.04802159601823467), (2495, 0.006055640257178536), (2496, 0.014991216213450075), (2497, 0.023050256092108187), (2498, 0.07621157265004228), (2499, 0.007418397183847449), (2500, 0.013391884775139725), (2501, 0.012321234157515213), (2502, 0.050542106081885474), (2503, 0.01875393256383105), (2504, 0.0959704892425643), (2505, 0.010236842407161807), (2506, 0.0), (2507, 0.00657881674361916), (2508, 0.015341025427763893), (2509, 0.06089926408062671), (2510, 0.06922427089136003), (2511, 0.033547591852002644), (2512, 0.02784828172866196), (2513, 0.05262112749677118), (2514, 0.014150872813454854), (2515, 0.004331171448120786), (2516, 0.013451620829387455), (2517, 0.006321726678899236), (2518, 0.017781205799308093), (2519, 0.02419994820421143), (2520, 0.013848952252347205), (2521, 0.0), (2522, 0.033119458141684446), (2523, 0.0138211835150981), (2524, 0.010717233858055189), (2525, 0.024782663626989793), (2526, 0.012133636166609322), (2527, 0.04064838692182392), (2528, 0.11396862578533658), (2529, 0.017660255978594254), (2530, 0.048204025394237564), (2531, 0.05706857508274314), (2532, 0.04012195723281954), (2533, 0.0025823827945743124), (2534, 0.03563561535526671), (2535, 0.03646654916150679), (2536, 0.00455717924832661), (2537, 0.008307891162406216), (2538, 0.0015362489224331523), (2539, 0.02103789988266165), (2540, 0.03528021565591148), (2541, 0.0), (2542, 0.011318152660250845), (2543, 0.012043779339256369), (2544, 0.022617395135647065), (2545, 0.009603367679968207), (2546, 0.03302776005678702), (2547, 0.07988081833156473), (2548, 0.04356228100111129), (2549, 0.0), (2550, 0.04813941929516591), (2551, 0.00354467492622263), (2552, 0.013864935118771998), (2553, 0.04474569943775754), (2554, 0.006109517410812332), (2555, 0.0058394658811455405), (2556, 0.0023807922270369214), (2557, 0.003184357889287052), (2558, 0.08121966728967407), (2559, 0.011406974264652736), (2560, 0.024032721459715134), (2561, 0.006318269595302322), (2562, 0.026374422813475566), (2563, 0.017764895301125162), (2564, 0.033252314701533836), (2565, 0.04861418122830374), (2566, 0.013835801414167955), (2567, 0.01363327955924969), (2568, 0.026270651401039256), (2569, 0.005984225218055285), (2570, 0.014318975470229407), (2571, 0.023222907396940325), (2572, 0.008731632600853429), (2573, 0.0), (2574, 0.022098181097546646), (2575, 0.003813003410688895), (2576, 0.015682781832935377), (2577, 0.0), (2578, 0.00860581060238678), (2579, 0.04251157483592706), (2580, 0.017356438949983212), (2581, 0.019682612722144777), (2582, 0.08803904358568812), (2583, 0.0), (2584, 0.09490347177428247), (2585, 0.01310744317023729), (2586, 0.0035346674699839814), (2587, 0.02525366104970664), (2588, 0.05940636772704237), (2589, 0.01642353886817198), (2590, 0.013942402678253838), (2591, 0.02195320372914111), (2592, 0.006704576308418159), (2593, 0.0023688799443255908), (2594, 0.00899037544368587), (2595, 0.11955161342027029), (2596, 0.00954544072773795), (2597, 0.024732149264079163), (2598, 0.04684933859065382), (2599, 0.0), (2600, 0.004401344631387965), (2601, 0.013251341511252486), (2602, 0.0021304303695665727), (2603, 0.02610201802131372), (2604, 0.003796556534012764), (2605, 0.017695486798908686), (2606, 0.0025852908824086735), (2607, 0.04040279545308949), (2608, 0.01685117595785996), (2609, 0.03458874353802425), (2610, 0.029503067389901827), (2611, 0.021734725014564672), (2612, 0.05861683369173107), (2613, 0.003024798485872238), (2614, 0.012209925806890771), (2615, 0.024389605900770037), (2616, 0.05896485935772854), (2617, 0.01849823189379232), (2618, 0.018773194944097987), (2619, 0.02235182593810684), (2620, 0.003328941300915575), (2621, 0.01715873443612599), (2622, 0.026025847012307406), (2623, 0.002906666447581011), (2624, 0.02295798485829911), (2625, 0.06114141951000532), (2626, 0.03121315554996746), (2627, 0.07320997389091118), (2628, 0.0033611503171847965), (2629, 0.02289179038322016), (2630, 0.012236175007759132), (2631, 0.014957835091764357), (2632, 0.03294904143955217), (2633, 0.032627169871610094), (2634, 0.04781733648387342), (2635, 0.0040876980619043235), (2636, 0.017902564236413853), (2637, 0.04052391753862137), (2638, 0.024405541354853014), (2639, 0.003422838069055644), (2640, 0.033465821445175056), (2641, 0.01290083076510017), (2642, 0.05220991531509439), (2643, 0.011222461037545437), (2644, 0.0033194842532798734), (2645, 0.030688430872532556), (2646, 0.0028031119207795135), (2647, 0.0771973056615056), (2648, 0.014429095193067874), (2649, 0.019855023388888383), (2650, 0.1477798342860161), (2651, 0.05030599578169079), (2652, 0.029745934649385602), (2653, 0.034338938879373684), (2654, 0.019392041030804705), (2655, 0.01862768403113071), (2656, 0.03536921087387326), (2657, 0.00511009796514866), (2658, 0.0), (2659, 0.005025162960785076), (2660, 0.05316822622455705), (2661, 0.013060204785603937), (2662, 0.01442389685783634), (2663, 0.012794431561990612), (2664, 0.009250946057923615), (2665, 0.02854235309846781), (2666, 0.045866683685984844), (2667, 0.004753732768599824), (2668, 0.03471819192845213), (2669, 0.005159200578081965), (2670, 0.0), (2671, 0.024722382613322588), (2672, 0.03268248670363651), (2673, 0.07891520479709796), (2674, 0.0023635020657851555), (2675, 0.016511530501091314), (2676, 0.00400035879451228), (2677, 0.009351965943167753), (2678, 0.019813606600505143), (2679, 0.002429598123266619), (2680, 0.0427350255376139), (2681, 0.04389057754009547), (2682, 0.01144055515759309), (2683, 0.0), (2684, 0.005052098023369989), (2685, 0.0035404742271445107), (2686, 0.0), (2687, 0.02230434400671533), (2688, 0.022138741407091152), (2689, 0.03251815109592286), (2690, 0.0033127738499320585), (2691, 0.03362559032343266), (2692, 0.00800429043895183), (2693, 0.009278694050975114), (2694, 0.0034201300091713806), (2695, 0.0025707256823931475), (2696, 0.01414247319535588), (2697, 0.0021019563506102226), (2698, 0.03399144358020746), (2699, 0.030671011645123467), (2700, 0.0), (2701, 0.12791112574372052), (2702, 0.07646200768938798), (2703, 0.005400456094349439), (2704, 0.014350229079971247), (2705, 0.00939567610110276), (2706, 0.023737499551413042), (2707, 0.0030134354892906653), (2708, 0.006778440903629558), (2709, 0.0034901342185756665), (2710, 0.010137350450785053), (2711, 0.06535120942939657), (2712, 0.03378291876184717), (2713, 0.012012671381159407), (2714, 0.01696553029892158), (2715, 0.00459265118343413), (2716, 0.0024731244243392744), (2717, 0.0), (2718, 0.020313512832606368), (2719, 0.013013063967349697), (2720, 0.021469631761736278), (2721, 0.0052623003832576055), (2722, 0.02796257364350407), (2723, 0.002753649027080345), (2724, 0.024073951227710118), (2725, 0.04248618279076512), (2726, 0.014071320652773786), (2727, 0.004195994393531954), (2728, 0.005512493712823769), (2729, 0.04586478092208565), (2730, 0.026859518111353054), (2731, 0.035976746870952446), (2732, 0.07228341630356136), (2733, 0.0), (2734, 0.012518855325831003), (2735, 0.002370624806843818), (2736, 0.00876657573884005), (2737, 0.016048339921587752), (2738, 0.021617680564055004), (2739, 0.041152365617145234), (2740, 0.031064235930700543), (2741, 0.005452911905050289), (2742, 0.006174310729541743), (2743, 0.002201329964249209), (2744, 0.019500854603828735), (2745, 0.05256650030201731), (2746, 0.021731177763961527), (2747, 0.013564559542369395), (2748, 0.013229478385685793), (2749, 0.01115986631602938), (2750, 0.0), (2751, 0.014856108525830216), (2752, 0.0024557440718128046), (2753, 0.014474369329807554), (2754, 0.0036574650704667634), (2755, 0.04366694213256425), (2756, 0.018030109952748844), (2757, 0.003929839981912327), (2758, 0.017921178942601517), (2759, 0.015451232179489375), (2760, 0.04119174663909519), (2761, 0.01801939705121948), (2762, 0.01558266912169038), (2763, 0.02735759300264606), (2764, 0.017332753028505565), (2765, 0.0774905744742671), (2766, 0.06088897629975219), (2767, 0.01246371999510398), (2768, 0.0036497635517120197), (2769, 0.06394404337852731), (2770, 0.0028848577898046954), (2771, 0.020840678168606516), (2772, 0.003041467189453554), (2773, 0.0), (2774, 0.04636811450194913), (2775, 0.011780049809383748), (2776, 0.01686035770015883), (2777, 0.030505653008248777), (2778, 0.0031046260952520945), (2779, 0.04093982328277447), (2780, 0.03582385317526185), (2781, 0.0042042440530675705), (2782, 0.006741519181846575), (2783, 0.01772492866620622), (2784, 0.03636252266385576), (2785, 0.014039610232874289), (2786, 0.006485487214972409), (2787, 0.0033172667007418414), (2788, 0.012483741098531266), (2789, 0.026910774689940756), (2790, 0.022572992938919734), (2791, 0.03212544214205714), (2792, 0.03767978640197503), (2793, 0.02459695951528975), (2794, 0.00993699829877201), (2795, 0.0032424920751367775), (2796, 0.006930725885145737), (2797, 0.014891022554862583), (2798, 0.04962390975163932), (2799, 0.029957658151018633), (2800, 0.0024257814369661205), (2801, 0.01841672209123066), (2802, 0.05622377013782705), (2803, 0.008388445014523883), (2804, 0.0034896842497929236), (2805, 0.02716713838576892), (2806, 0.006766467221489128), (2807, 0.03459987126415526), (2808, 0.055075611449844054), (2809, 0.03683610760410469), (2810, 0.003909844385582716), (2811, 0.0038203595437278767), (2812, 0.02353086861405366), (2813, 0.036564425738971035), (2814, 0.03758673569179043), (2815, 0.0), (2816, 0.04695315973443097), (2817, 0.023310187718954736), (2818, 0.022056912261561604), (2819, 0.03995283896843782), (2820, 0.02896555156413163), (2821, 0.03013784654531564), (2822, 0.05476405268601207), (2823, 0.006605908592541822), (2824, 0.0), (2825, 0.0034463359709202657), (2826, 0.01606089744112282), (2827, 0.008564520529511267), (2828, 0.0), (2829, 0.01509059549382537), (2830, 0.0341346600526377), (2831, 0.009228245248831025), (2832, 0.015966022668239186), (2833, 0.0031096155847286245), (2834, 0.030306416860476706), (2835, 0.03231274525055836), (2836, 0.009523799168856033), (2837, 0.0), (2838, 0.02897258423274568), (2839, 0.024921759128729407), (2840, 0.033320058986487475), (2841, 0.02950138172413782), (2842, 0.0185618806994984), (2843, 0.011258688359862556), (2844, 0.07569227473922543), (2845, 0.02778542971089088), (2846, 0.034323304434829484), (2847, 0.008901631700385026), (2848, 0.06777506924602465), (2849, 0.00271440086263496), (2850, 0.03202739092245923), (2851, 0.0), (2852, 0.007791700579806615), (2853, 0.011715394811516676), (2854, 0.04779930252220219), (2855, 0.01853833895515014), (2856, 0.01437289695894181), (2857, 0.049838966081786215), (2858, 0.008584046945624327), (2859, 0.02615701830745215), (2860, 0.0), (2861, 0.0034032442924553613), (2862, 0.02524838306509547), (2863, 0.03032716489097264), (2864, 0.0), (2865, 0.013221963231789927), (2866, 0.008931694406040873), (2867, 0.07577952613590372), (2868, 0.014680608235420571), (2869, 0.0), (2870, 0.030555669103972845), (2871, 0.013377651593232592), (2872, 0.014004192073720757), (2873, 0.03849112939176691), (2874, 0.020790592999493866), (2875, 0.004433942368724535), (2876, 0.03529177946622753), (2877, 0.015627615152518714), (2878, 0.07296190207209223), (2879, 0.0031268873377528743), (2880, 0.010345002353677912), (2881, 0.002907926034449604), (2882, 0.006581016364004705), (2883, 0.05971014997443315), (2884, 0.0438309031830124), (2885, 0.0), (2886, 0.008278684886560674), (2887, 0.0026016071633610835), (2888, 0.002781269467212432), (2889, 0.0035345093900077383), (2890, 0.009575070532483907), (2891, 0.013596035993456337), (2892, 0.02984825142859992), (2893, 0.01775263738901378), (2894, 0.02913264132608954), (2895, 0.027905593937525137), (2896, 0.0035426729853500847), (2897, 0.020880637000193835), (2898, 0.038532170496658594), (2899, 0.03125020951020202), (2900, 0.053171293154576235), (2901, 0.0032965128980957242), (2902, 0.0018883697174450697), (2903, 0.002879342164522563), (2904, 0.009025399564872966), (2905, 0.0), (2906, 0.018733151579601152), (2907, 0.008047696127221657), (2908, 0.025580774969606545), (2909, 0.013708824695408985), (2910, 0.014509758981290463), (2911, 0.021792868589569296), (2912, 0.005864149238391229), (2913, 0.0028614482373820723), (2914, 0.006849131858377144), (2915, 0.01666817042478425), (2916, 0.0028759506931457517), (2917, 0.02154750798093318), (2918, 0.0), (2919, 0.0026524225417041804), (2920, 0.025836572323485997), (2921, 0.0), (2922, 0.004746785096920403), (2923, 0.05296199713463968), (2924, 0.024786923035067465), (2925, 0.004862479586693029), (2926, 0.006333638719825025), (2927, 0.0), (2928, 0.027229766032139745), (2929, 0.016867493844555062), (2930, 0.0038356636963996476), (2931, 0.04437768626058186), (2932, 0.003394725446066156), (2933, 0.03777931664092547), (2934, 0.0025862649295021354), (2935, 0.017814207166960354), (2936, 0.026127050016787143), (2937, 0.0036869075568376464), (2938, 0.011479369659768009), (2939, 0.004344981595306327), (2940, 0.030807302207478016), (2941, 0.0044832502774479885), (2942, 0.01858704669304702), (2943, 0.008646172074028808), (2944, 0.053499813036449156), (2945, 0.011908945767877377), (2946, 0.002526807729021891), (2947, 0.0), (2948, 0.004543075449583067), (2949, 0.09980785526501688), (2950, 0.0), (2951, 0.03470490255664224), (2952, 0.0), (2953, 0.002717702865086251), (2954, 0.0167262841590033), (2955, 0.04783950600061227), (2956, 0.0), (2957, 0.020100633426643342), (2958, 0.019572837917671265), (2959, 0.0), (2960, 0.0), (2961, 0.0025272959213918987), (2962, 0.039468669246587304), (2963, 0.013092717518539626), (2964, 0.06884100335996174), (2965, 0.012417675161984358), (2966, 0.0105486359951403), (2967, 0.006891895686981155), (2968, 0.026397522129219583), (2969, 0.023330707992324076), (2970, 0.006455228236788815), (2971, 0.003035479691473113), (2972, 0.018775412521406097), (2973, 0.01283573161473812), (2974, 0.009742337825434214), (2975, 0.05745802731443615), (2976, 0.005425153837385227), (2977, 0.03577808228029536), (2978, 0.030458850958655956), (2979, 0.0037901730409747765), (2980, 0.009040171461673002), (2981, 0.052418765376117865), (2982, 0.010923352118639582), (2983, 0.012113928921178014), (2984, 0.029299054008970357), (2985, 0.02814473515526905), (2986, 0.014390455388751482), (2987, 0.0029641461477261963), (2988, 0.06732052444120333), (2989, 0.0035776694907155493), (2990, 0.004696289322098666), (2991, 0.01164169104342521), (2992, 0.026583661621899415), (2993, 0.0030968820701490958), (2994, 0.012585687314884162), (2995, 0.008223970709488488), (2996, 0.041375062385232406), (2997, 0.0024268172840958974), (2998, 0.003854574304286893), (2999, 0.012096989208651595), (3000, 0.012055424284236192), (3001, 0.028313698074063337), (3002, 0.0), (3003, 0.006727638858193902), (3004, 0.023626392275099876), (3005, 0.033817472901972165), (3006, 0.01152394028997632), (3007, 0.00274294826515274), (3008, 0.007434443160645767), (3009, 0.013440175286051757), (3010, 0.0350030380395694), (3011, 0.020731501032937673), (3012, 0.002878620696905427), (3013, 0.009788758877106717), (3014, 0.04071305497917313), (3015, 0.010995880278821623), (3016, 0.04609760747893178), (3017, 0.011404076603003752), (3018, 0.10093158118351218), (3019, 0.03223317171461924), (3020, 0.007352137849230718), (3021, 0.008509098217715763), (3022, 0.028530990221325866), (3023, 0.046001182015777395), (3024, 0.002123962586934128), (3025, 0.0), (3026, 0.05905607343643277), (3027, 0.02437906879072361), (3028, 0.027287573706288773), (3029, 0.0), (3030, 0.011755210741824156), (3031, 0.003136409161155946), (3032, 0.002873933719226336), (3033, 0.022388275867411052), (3034, 0.04533800225681663), (3035, 0.002444295391009515), (3036, 0.0024410858323495052), (3037, 0.006392631561347199), (3038, 0.0036493522450065504), (3039, 0.045263125920629775), (3040, 0.008457561074264833), (3041, 0.003682338469209067), (3042, 0.02377220019202363), (3043, 0.0029065809471695847), (3044, 0.021216864959843103), (3045, 0.03352365942600852), (3046, 0.021067432782952672), (3047, 0.0), (3048, 0.012169911108481344), (3049, 0.0), (3050, 0.011146317204700423), (3051, 0.003662459127861687), (3052, 0.0035070178258466748), (3053, 0.011767376861768241), (3054, 0.004191911053650201), (3055, 0.0034937929605188722), (3056, 0.016706061665291257), (3057, 0.01391188762258122), (3058, 0.0), (3059, 0.0), (3060, 0.003546158568732321), (3061, 0.010035535720993975), (3062, 0.0067142466640784226), (3063, 0.029695047093333066), (3064, 0.002793812053808232), (3065, 0.007829430590387718), (3066, 0.08818344144016842), (3067, 0.01514186402927318), (3068, 0.0), (3069, 0.0025073493557691375), (3070, 0.0405369759873898), (3071, 0.03150442261694395), (3072, 0.010085410884993448), (3073, 0.04131604616390014), (3074, 0.007430271952237092), (3075, 0.00842749131417983), (3076, 0.025435453854546198), (3077, 0.05315069200249725), (3078, 0.012333980372409323), (3079, 0.0), (3080, 0.003888523497674348), (3081, 0.003021665681702312), (3082, 0.031557829324724285), (3083, 0.07222127697220894), (3084, 0.006423242619234794), (3085, 0.062153086961290356), (3086, 0.01412151328083973), (3087, 0.004401255036176391), (3088, 0.00518764696723464), (3089, 0.02052930528551199), (3090, 0.0034305428714776045), (3091, 0.04296758322562794), (3092, 0.009946335999622333), (3093, 0.0025268373637394935), (3094, 0.07552743825212246), (3095, 0.009896042529052816), (3096, 0.054472173336360945), (3097, 0.02152313855077076), (3098, 0.01188883346906245), (3099, 0.013382292198449747), (3100, 0.0), (3101, 0.013008353818400854), (3102, 0.01293906492685445), (3103, 0.025866375657777895), (3104, 0.0034804470619334525), (3105, 0.010030871259595406), (3106, 0.003477570401991413), (3107, 0.014065194390836418), (3108, 0.022409824021839803), (3109, 0.010222507755225365), (3110, 0.0), (3111, 0.0269816339957243), (3112, 0.0027609233908254343), (3113, 0.006176988295800584), (3114, 0.006147717322189112), (3115, 0.0054309120989593776), (3116, 0.00953537353710276), (3117, 0.01055462881040203), (3118, 0.032812579212524645), (3119, 0.0035199782069782757), (3120, 0.0023771083498562023), (3121, 0.031991298746398736), (3122, 0.025845018197512115), (3123, 0.003131790889758528), (3124, 0.026081373709003965), (3125, 0.014903065773723752), (3126, 0.0), (3127, 0.023990251746422386), (3128, 0.020711216066890255), (3129, 0.046597225755101626), (3130, 0.02291760189854488), (3131, 0.013118998300698825), (3132, 0.021984418825158246), (3133, 0.03101601251371737), (3134, 0.021642163467270818), (3135, 0.026775504465004447), (3136, 0.0), (3137, 0.016912630632955446), (3138, 0.0), (3139, 0.008574404400898265), (3140, 0.01092042499724378), (3141, 0.06303681274153942), (3142, 0.06756796544331843), (3143, 0.028540712624553145), (3144, 0.0331952506783265), (3145, 0.015930880806407), (3146, 0.0067741300068564995), (3147, 0.04245804066082199), (3148, 0.009824635012143828), (3149, 0.044035545681172274), (3150, 0.02859919530519412), (3151, 0.020461139459930923), (3152, 0.026330720953691482), (3153, 0.032411360481797956), (3154, 0.03296677602693708), (3155, 0.006097603604212068), (3156, 0.0), (3157, 0.025183592158381472), (3158, 0.011773707666512364), (3159, 0.0031777393007090472), (3160, 0.0), (3161, 0.022417887557941808), (3162, 0.0036377868930058963), (3163, 0.009813329860850265), (3164, 0.03037092062943242), (3165, 0.009966610264196155), (3166, 0.02938191129685222), (3167, 0.010544582703354448), (3168, 0.03935456729917633), (3169, 0.01778779790446679), (3170, 0.008255114194558476), (3171, 0.002442370485799847), (3172, 0.034016513458743694), (3173, 0.03735038289724242), (3174, 0.014790223771460883), (3175, 0.020151117289747597), (3176, 0.0), (3177, 0.020031258046611763), (3178, 0.01923505689171848), (3179, 0.02969433685804358), (3180, 0.006797386789541942), (3181, 0.07491299375875017), (3182, 0.015947026254738997), (3183, 0.013322316266072467), (3184, 0.06541509680485898), (3185, 0.0), (3186, 0.0029112640086928513), (3187, 0.015860890514947483), (3188, 0.0187838134179724), (3189, 0.01008442482361166), (3190, 0.014489839371846898), (3191, 0.0), (3192, 0.00770797028860569), (3193, 0.027364046219413695), (3194, 0.011483102684279173), (3195, 0.0025267213405505942), (3196, 0.0028791342377305885), (3197, 0.029078683702551643), (3198, 0.012567929311204448), (3199, 0.024546403222491065), (3200, 0.04236272557873385), (3201, 0.02185982136199211), (3202, 0.0066429312653991535), (3203, 0.004201469061177678), (3204, 0.02322692947955695), (3205, 0.0642182497499246), (3206, 0.0031064844674343842), (3207, 0.003833699680578421), (3208, 0.0), (3209, 0.003567884161923895), (3210, 0.0025898673662248664), (3211, 0.023456834847298012), (3212, 0.0028920480711014575), (3213, 0.0), (3214, 0.027718270244074188), (3215, 0.0055615725327747235), (3216, 0.002555034228919758), (3217, 0.012369035688211474), (3218, 0.03313266473033296), (3219, 0.017083435911920936), (3220, 0.03216598982849635), (3221, 0.017616697745001988), (3222, 0.02599234603955276), (3223, 0.0), (3224, 0.006305225543573333), (3225, 0.022830420969638644), (3226, 0.028233511575253185), (3227, 0.027918208890955077), (3228, 0.026067455029553384), (3229, 0.02190050297966404), (3230, 0.0171208501197933), (3231, 0.01410476845119359), (3232, 0.022279408325582988), (3233, 0.029049947584001812), (3234, 0.0434899891480456), (3235, 0.018861789530240817), (3236, 0.0037104054357828303), (3237, 0.04094278021276139), (3238, 0.03535736127806077), (3239, 0.01203377139724684), (3240, 0.05628543971191435), (3241, 0.03302409228860999), (3242, 0.013724480119691887), (3243, 0.019650919720242327), (3244, 0.009287629487116993), (3245, 0.003524789790299145), (3246, 0.02979368078612597), (3247, 0.008154262140073159), (3248, 0.009677489448527195), (3249, 0.007574535438527678), (3250, 0.0032718739998328773), (3251, 0.0), (3252, 0.002139431592753199), (3253, 0.03485623563601481), (3254, 0.00709499619759092), (3255, 0.0), (3256, 0.011818691214514742), (3257, 0.014659396247538602), (3258, 0.013229202144398128), (3259, 0.027689588393513626), (3260, 0.02827937209351232), (3261, 0.023011550365981917), (3262, 0.0033036977825020362), (3263, 0.0), (3264, 0.022680755495318283), (3265, 0.03931717572238494), (3266, 0.004825889390712457), (3267, 0.005495220130848591), (3268, 0.008281956259009573), (3269, 0.019051850813274308), (3270, 0.02902374950500333), (3271, 0.030164131602601556), (3272, 0.022878382710236903), (3273, 0.009660512517474048), (3274, 0.009776984832697622), (3275, 0.019203536600449427), (3276, 0.01309882090191861), (3277, 0.01658483622064672), (3278, 0.002334639773412711), (3279, 0.02477975903193016), (3280, 0.011416344546486124), (3281, 0.0), (3282, 0.023701046365277582), (3283, 0.02935847538111324), (3284, 0.03804327505059579), (3285, 0.08569419641939685), (3286, 0.023518941192011443), (3287, 0.017937468189458895), (3288, 0.015897958336113772), (3289, 0.07766878402039415), (3290, 0.018055559899643272), (3291, 0.01166086811582503), (3292, 0.003351737365527885), (3293, 0.026726993325440616), (3294, 0.07504962195378848), (3295, 0.06584324348494476), (3296, 0.009869340852827629), (3297, 0.0796789146426042), (3298, 0.042537802871515804), (3299, 0.027952244439351258), (3300, 0.018026270923120404), (3301, 0.002010612909025888), (3302, 0.010572561186979551), (3303, 0.024859092542958577), (3304, 0.02052798977472828), (3305, 0.0), (3306, 0.013595700588943889), (3307, 0.044055156621669096), (3308, 0.03773925736759555), (3309, 0.013012774777091111), (3310, 0.013244040055003986), (3311, 0.016570550486683676), (3312, 0.014242355697764601), (3313, 0.02502619151526295), (3314, 0.02034398824468389), (3315, 0.02023475876476596), (3316, 0.026836871334503097), (3317, 0.03317176319886669), (3318, 0.02441622980411713), (3319, 0.00652354339755862), (3320, 0.014793543039068716), (3321, 0.014573573156286603), (3322, 0.0033044799336646286), (3323, 0.02030133515089066), (3324, 0.004099934346631184), (3325, 0.06613683565566297), (3326, 0.009190472175305817), (3327, 0.029780928643500494), (3328, 0.05165144787422606), (3329, 0.02003309124764012), (3330, 0.014779311603282365), (3331, 0.0021402928427931914), (3332, 0.0035303940711673516), (3333, 0.016016317609826275), (3334, 0.011052385557198492), (3335, 0.07083826024407584), (3336, 0.09211206857561974), (3337, 0.006987889802728121), (3338, 0.0), (3339, 0.0), (3340, 0.0), (3341, 0.014095618846987453), (3342, 0.026272068930132064), (3343, 0.015734943001068806), (3344, 0.05707127402126515), (3345, 0.04428488578974547), (3346, 0.009193151857383008), (3347, 0.0021549874122373594), (3348, 0.0498108496410697), (3349, 0.006283167161644718), (3350, 0.003441684094601336), (3351, 0.017284269701698114), (3352, 0.06801302876780921), (3353, 0.002669323523384969), (3354, 0.003232588376215085), (3355, 0.018902369281228674), (3356, 0.009248590048418272), (3357, 0.021808450468375554), (3358, 0.0031171131477998716), (3359, 0.010098451539370702), (3360, 0.0411739769166318), (3361, 0.011607717032172699), (3362, 0.050439902829571476), (3363, 0.010822049416268017), (3364, 0.09325118021825608), (3365, 0.010458041625200396), (3366, 0.003369241122525992), (3367, 0.028552823644681587), (3368, 0.05871823751341107), (3369, 0.0023683222070753564), (3370, 0.00249224823291987), (3371, 0.010632689648391997), (3372, 0.00269654424476201), (3373, 0.006816351787966543), (3374, 0.014717424522070888), (3375, 0.0373287802032207), (3376, 0.012663594342416401), (3377, 0.04728316576327578), (3378, 0.01643595312011406), (3379, 0.016108279858985122), (3380, 0.05841510027921158), (3381, 0.002536899810601746), (3382, 0.006319405873934266), (3383, 0.0039501987266219556), (3384, 0.02217225665633796), (3385, 0.0), (3386, 0.034627985598595985), (3387, 0.017510559906696418), (3388, 0.02700276854157293), (3389, 0.043813212811247164), (3390, 0.016781190712286086), (3391, 0.0647564410183547), (3392, 0.007823494302254989), (3393, 0.046240732167944415), (3394, 0.03438079662402887), (3395, 0.03389959698988781), (3396, 0.0029615460841336256), (3397, 0.037172994299134524), (3398, 0.017396501139380856), (3399, 0.02006790401953995), (3400, 0.009386762168846128), (3401, 0.024672823280656186), (3402, 0.005901617078929449), (3403, 0.038291843786697304), (3404, 0.0), (3405, 0.0), (3406, 0.01887415649538554), (3407, 0.03436526635141661), (3408, 0.02471603571844964), (3409, 0.04027346618139417), (3410, 0.020092386099834242), (3411, 0.013819022565538755), (3412, 0.014463299555738303), (3413, 0.014612791624062453), (3414, 0.0719324626681482), (3415, 0.0036510743131836347), (3416, 0.0066438731281111855), (3417, 0.009557101211164879), (3418, 0.008662024664669716), (3419, 0.002963043929490368), (3420, 0.046374053914247995), (3421, 0.014786428170274462), (3422, 0.0036797022853710492), (3423, 0.010547065018967731), (3424, 0.07834419999476029), (3425, 0.0494362623567355), (3426, 0.039078325133873354), (3427, 0.0), (3428, 0.01547344134949541), (3429, 0.0), (3430, 0.015247679271576931), (3431, 0.0020618254577210444), (3432, 0.0), (3433, 0.029646894664483208), (3434, 0.009231552235335366), (3435, 0.05881809508936349), (3436, 0.01653581147502333), (3437, 0.05278130826467588), (3438, 0.013090706839748613), (3439, 0.004524905752087829), (3440, 0.0), (3441, 0.0025464699985619263), (3442, 0.0037004420376753507), (3443, 0.0034409801803242214), (3444, 0.02120766707054831), (3445, 0.02387603143892831), (3446, 0.02338147945315061), (3447, 0.06841427417263968), (3448, 0.05397892313783478), (3449, 0.06270632173062604), (3450, 0.05741764927365049), (3451, 0.018079504575511447), (3452, 0.0023941957831137804), (3453, 0.0), (3454, 0.023989716892901383), (3455, 0.002357519312717271), (3456, 0.03804078584846134), (3457, 0.042279676036079704), (3458, 0.05017931080455801), (3459, 0.02332555312538168), (3460, 0.06674369418395858), (3461, 0.031081494748929173), (3462, 0.0035319355781344435), (3463, 0.07125579031729587), (3464, 0.028869123246326425), (3465, 0.011647181343917647), (3466, 0.008667381854764324), (3467, 0.049390156089385), (3468, 0.0), (3469, 0.04382419887524798), (3470, 0.023286265250222225), (3471, 0.009361859320931911), (3472, 0.0), (3473, 0.0), (3474, 0.022932233782589597), (3475, 0.04350889071246017), (3476, 0.0), (3477, 0.06107872868339404), (3478, 0.03792639466085115), (3479, 0.016247359323925074), (3480, 0.0), (3481, 0.013256166639437236), (3482, 0.0), (3483, 0.009759539903689746), (3484, 0.04768517123940881), (3485, 0.003100033827654883), (3486, 0.03980356851679497), (3487, 0.022405354636683028), (3488, 0.0), (3489, 0.023771252099943806), (3490, 0.009217417213201328), (3491, 0.014888035577074946), (3492, 0.05193695652184171), (3493, 0.012733616296398449), (3494, 0.05070936363789962), (3495, 0.009340913553166626), (3496, 0.013059011893899627), (3497, 0.002805327527568606), (3498, 0.03616316774045941), (3499, 0.0320826823002942), (3500, 0.011287101907693182), (3501, 0.002609902859139853), (3502, 0.014842075764688467), (3503, 0.005807276177700741), (3504, 0.020573941525033352), (3505, 0.015492161859855783), (3506, 0.02325841095280678), (3507, 0.012711614902259073), (3508, 0.01652222700564583), (3509, 0.008796353537258769), (3510, 0.013686464394919549), (3511, 0.04635401972857487), (3512, 0.030543732800938393), (3513, 0.010056512503864858), (3514, 0.017288974157357192), (3515, 0.03389369468163119), (3516, 0.032491114024492035), (3517, 0.00627061076994967), (3518, 0.04112162453212314), (3519, 0.0038408399771833364), (3520, 0.0), (3521, 0.003163110392995015), (3522, 0.0), (3523, 0.020149972226637974), (3524, 0.04517607079017561), (3525, 0.030740043106667114), (3526, 0.0391864857849912), (3527, 0.0026540675631114567), (3528, 0.008481108355675757), (3529, 0.038151553459683366), (3530, 0.0), (3531, 0.043605205857516253), (3532, 0.01550046850609755), (3533, 0.02476981836821818), (3534, 0.047158319847495946), (3535, 0.0), (3536, 0.03978927354377262), (3537, 0.007511762962210417), (3538, 0.021795569636153783), (3539, 0.014908224420952479), (3540, 0.019163204950673907), (3541, 0.025616791614499125), (3542, 0.002626995297534829), (3543, 0.0032429898537821803), (3544, 0.007371917562256631), (3545, 0.003462684793088033), (3546, 0.06871056248760296), (3547, 0.029176377864192148), (3548, 0.002111426940620883), (3549, 0.022608269093297537), (3550, 0.0), (3551, 0.04182905658088241), (3552, 0.019786712709240876), (3553, 0.009135537804852071), (3554, 0.018130395386617607), (3555, 0.013435595419396793), (3556, 0.002295733515144554), (3557, 0.03487652810715292), (3558, 0.020289962129426), (3559, 0.008498085190978841), (3560, 0.009749815775117467), (3561, 0.0034805872557089096), (3562, 0.015171503208125896), (3563, 0.026269659871515475), (3564, 0.028402413242559876), (3565, 0.009446218226744959), (3566, 0.017765006542506914), (3567, 0.011748364849384458), (3568, 0.027936755032505978), (3569, 0.025582506032756403), (3570, 0.013905750820908372), (3571, 0.013327425292655702), (3572, 0.003862382473984863), (3573, 0.0), (3574, 0.002679345832755416), (3575, 0.018315129340003983), (3576, 0.0), (3577, 0.030189254032633638), (3578, 0.015477291656634059), (3579, 0.026527834308799444), (3580, 0.022730141318756253), (3581, 0.0038350026666651867), (3582, 0.0033607593266317412), (3583, 0.016378453458497467), (3584, 0.04828231850715625), (3585, 0.006800372750960735), (3586, 0.025560706068655115), (3587, 0.016705344383534212), (3588, 0.011077451068470143), (3589, 0.040589739457447954), (3590, 0.0027273887645554184), (3591, 0.003641031837925203), (3592, 0.05589457170036019), (3593, 0.018341017974969193), (3594, 0.024923300523611792), (3595, 0.003337794683024227), (3596, 0.009122414626348338), (3597, 0.009422566866019264), (3598, 0.02523842468379418), (3599, 0.12351841944961646), (3600, 0.0), (3601, 0.03096405491080833), (3602, 0.0), (3603, 0.034613953499636356), (3604, 0.011537868183961382), (3605, 0.0), (3606, 0.006174889614857916), (3607, 0.0), (3608, 0.001672378225401687), (3609, 0.0), (3610, 0.07393336942681811), (3611, 0.10854547292694552), (3612, 0.07474565901776965), (3613, 0.0031669130389094533), (3614, 0.04118805299482624), (3615, 0.002417844288619788), (3616, 0.022779707024329104), (3617, 0.0133132347384257), (3618, 0.01571940888080148), (3619, 0.05586802314662633), (3620, 0.0031264969894710098), (3621, 0.007126351097360739), (3622, 0.006539947736743012), (3623, 0.016949108887114945), (3624, 0.0025437662615897466), (3625, 0.0), (3626, 0.03028428684949164), (3627, 0.0023756450874387923), (3628, 0.0038149219537830913), (3629, 0.020021966212297782), (3630, 0.006022062086009503), (3631, 0.01779621208526096), (3632, 0.010363168252151021), (3633, 0.025088741696828155), (3634, 0.025556787445871695), (3635, 0.0034713598956133663), (3636, 0.0026459735289108984), (3637, 0.02102047766790589), (3638, 0.018489412964115885), (3639, 0.0029384945300156935), (3640, 0.002863422354053355), (3641, 0.017691558288452154), (3642, 0.002784233377657123), (3643, 0.02182137589276121), (3644, 0.03276571989356546), (3645, 0.008731032374098328), (3646, 0.031623717991630926), (3647, 0.0025261473046874284), (3648, 0.06608451618194111), (3649, 0.00395764500771297), (3650, 0.025288681098233068), (3651, 0.016964719980791746), (3652, 0.0038547268884257836), (3653, 0.002617282865327252), (3654, 0.022022158858097753), (3655, 0.06392428647785907), (3656, 0.09095349930602781), (3657, 0.019665304101599577), (3658, 0.030659968652046617), (3659, 0.05839777506400893), (3660, 0.0024759857422820965), (3661, 0.03978954783661239), (3662, 0.01496981606687664), (3663, 0.0), (3664, 0.0), (3665, 0.02973619576944343), (3666, 0.0026659276006368885), (3667, 0.023056478568630953), (3668, 0.012552265547556929), (3669, 0.007353658252471289), (3670, 0.053424319446794044), (3671, 0.0333176857279635), (3672, 0.0036484453232115237), (3673, 0.006031648464541056), (3674, 0.0132957181362434), (3675, 0.0030606403254711916), (3676, 0.0035254350155720852), (3677, 0.04234943078839708), (3678, 0.043963113579106546), (3679, 0.0), (3680, 0.0029034070340634827), (3681, 0.024267845650506457), (3682, 0.0), (3683, 0.01776103992569307), (3684, 0.013669537797412062), (3685, 0.003422468325622956), (3686, 0.011410746743631652), (3687, 0.0032069063854457455), (3688, 0.00386554316672567), (3689, 0.022217676684012526), (3690, 0.04601762848621699), (3691, 0.0024431509359045755), (3692, 0.002764504801338569), (3693, 0.0), (3694, 0.019061004136695793), (3695, 0.011489992417885337), (3696, 0.02612696345543506), (3697, 0.01265672879775803), (3698, 0.047991547248774157), (3699, 0.0026224924911344735), (3700, 0.0), (3701, 0.062221878467252925), (3702, 0.0), (3703, 0.01714807777834965), (3704, 0.0027746401597837176), (3705, 0.04165466739149689), (3706, 0.016034686758071334), (3707, 0.0026131909796918294), (3708, 0.019475625063986094), (3709, 0.04683645198085437), (3710, 0.0), (3711, 0.022595700179741197), (3712, 0.028771563090518933), (3713, 0.023285190231292108), (3714, 0.002806426327732497), (3715, 0.00450166234420082), (3716, 0.02750933902457184), (3717, 0.0), (3718, 0.011370519495820445), (3719, 0.002506080817955044), (3720, 0.01183338347306629), (3721, 0.008105165089602802), (3722, 0.01619450132455014), (3723, 0.0), (3724, 0.013002014202955136), (3725, 0.018096603262176086), (3726, 0.0), (3727, 0.0025457111871679977), (3728, 0.013587297109487143), (3729, 0.0029755712154636263), (3730, 0.028701445163733956), (3731, 0.016128531103891848), (3732, 0.0032502086005379246), (3733, 0.018746686389029522), (3734, 0.002421654495921017), (3735, 0.015484615284260109), (3736, 0.0410994430535235), (3737, 0.0028669958883273104), (3738, 0.008421202067685799), (3739, 0.018519823610089556), (3740, 0.004415078954140407), (3741, 0.041832761942385915), (3742, 0.014592462057867574), (3743, 0.02537558091972747), (3744, 0.0), (3745, 0.034599863100282416), (3746, 0.0224118956228774), (3747, 0.09065606874077733), (3748, 0.02466812629162557), (3749, 0.002799492244756144), (3750, 0.0), (3751, 0.09586891919208199), (3752, 0.02648435831964729), (3753, 0.00884223836971856), (3754, 0.007023413489290644), (3755, 0.005352409966693618), (3756, 0.0021002132280067026), (3757, 0.0027696589766224794), (3758, 0.011479848795747547), (3759, 0.044476477962987176), (3760, 0.0), (3761, 0.006832484438435143), (3762, 0.003344995445965624), (3763, 0.007137375796081695), (3764, 0.00689451249841502), (3765, 0.0775183864738399), (3766, 0.0030618944180653414), (3767, 0.017284486655170447), (3768, 0.0), (3769, 0.0), (3770, 0.0026849426704264132), (3771, 0.012546441707773987), (3772, 0.030489117754875457), (3773, 0.013558355918682744), (3774, 0.022161148160045004), (3775, 0.0), (3776, 0.01050188265272554), (3777, 0.06767437299354445), (3778, 0.03694265450028433), (3779, 0.045797281735979134), (3780, 0.027050225300720744), (3781, 0.002751021171224845), (3782, 0.0), (3783, 0.025343623946112708), (3784, 0.020445299512736055), (3785, 0.0), (3786, 0.04496237419140183), (3787, 0.015176624806414848), (3788, 0.0), (3789, 0.02001940436009204), (3790, 0.014544211000618713), (3791, 0.003980700690767977), (3792, 0.05901305061051225), (3793, 0.0), (3794, 0.008539578331295173), (3795, 0.007762140356623995), (3796, 0.004825020543954763), (3797, 0.020388443197050764), (3798, 0.006337526620449949), (3799, 0.0024338406429663543), (3800, 0.012663418940113268), (3801, 0.014216403291896038), (3802, 0.010081300244381603), (3803, 0.022971702693577675), (3804, 0.009679686177143418), (3805, 0.003478471524660853), (3806, 0.00776710431842658), (3807, 0.011712651718074403), (3808, 0.048393965919243886), (3809, 0.04511804135133202), (3810, 0.012495042498691926), (3811, 0.015612135618309422), (3812, 0.024656113986019704), (3813, 0.017927015412933473), (3814, 0.02385418695657385), (3815, 0.025611794780168843), (3816, 0.0), (3817, 0.01364063550410516), (3818, 0.028971118826948604), (3819, 0.027091059912650435), (3820, 0.0039439566806393775), (3821, 0.0180140204216586), (3822, 0.028035266260081224), (3823, 0.023058601814101957), (3824, 0.003329675290681045), (3825, 0.0406630569196913), (3826, 0.026524054407889838), (3827, 0.002517431092361562), (3828, 0.003247186560041735), (3829, 0.027133909967898877), (3830, 0.008111330213549013), (3831, 0.02604513939833402), (3832, 0.011652195719590653), (3833, 0.0677629459532639), (3834, 0.006537261587879132), (3835, 0.009231290606726655), (3836, 0.016532226629079633), (3837, 0.003829353496079162), (3838, 0.0), (3839, 0.04497341761374354), (3840, 0.036247338604126995), (3841, 0.025730915719229315), (3842, 0.023808755683745478), (3843, 0.0), (3844, 0.004371654246968737), (3845, 0.027149089984735954), (3846, 0.02209706506066917), (3847, 0.00953557137555845), (3848, 0.003257433468817413), (3849, 0.0), (3850, 0.0), (3851, 0.010989640490222236), (3852, 0.010684406264940265), (3853, 0.05842826226224715), (3854, 0.01371383402051979), (3855, 0.015543419033058156), (3856, 0.042425102880550646), (3857, 0.061395975187594126), (3858, 0.03123634208790276), (3859, 0.014857760719439506), (3860, 0.0), (3861, 0.0030890836436865497), (3862, 0.002681545825042861), (3863, 0.0023072041115708196), (3864, 0.037640372002351444), (3865, 0.019977411320180022), (3866, 0.13165771373972115), (3867, 0.02560551779023828), (3868, 0.03218304482908319), (3869, 0.014758075367407184), (3870, 0.016466614713640842), (3871, 0.009410255405600284), (3872, 0.018994475172850068), (3873, 0.06420009451103209), (3874, 0.0031397054288208057), (3875, 0.046037891915319824), (3876, 0.029202777148472754), (3877, 0.0713141324696846), (3878, 0.018474259267240622), (3879, 0.009305665708840623), (3880, 0.00804186825963317), (3881, 0.01283864753510004), (3882, 0.012804184420462744), (3883, 0.0029267187209265624), (3884, 0.0029873078165225096), (3885, 0.0031736039757171404), (3886, 0.057999302892057375), (3887, 0.0), (3888, 0.005992273195685006), (3889, 0.023179144701061884), (3890, 0.038871658737835886), (3891, 0.011612262144041176), (3892, 0.007872816162508536), (3893, 0.009374144410545588), (3894, 0.013006068922048511), (3895, 0.019333399166551097), (3896, 0.0033639572305247264), (3897, 0.01300101896443167), (3898, 0.008234503635423615), (3899, 0.017079347342093945), (3900, 0.0024689431988957878), (3901, 0.0030964765098094728), (3902, 0.026891011369423692), (3903, 0.06805206711441575), (3904, 0.009281350352856727), (3905, 0.018353814577883584), (3906, 0.03353207059344762), (3907, 0.03935482108952427), (3908, 0.0), (3909, 0.020899943810812737), (3910, 0.026168100569174776), (3911, 0.06466736216882081), (3912, 0.043266473573458857), (3913, 0.008010929019622779), (3914, 0.027574919150349562), (3915, 0.03190397096862127), (3916, 0.014444330501780728), (3917, 0.014265537637466422), (3918, 0.0), (3919, 0.056128797805061456), (3920, 0.015360772250844897), (3921, 0.0482535143154087), (3922, 0.007476190255283036), (3923, 0.04967700279992502), (3924, 0.04452012677906395), (3925, 0.012916017283927704), (3926, 0.02243696609684087), (3927, 0.04444148264298573), (3928, 0.023587446902274066), (3929, 0.008810746612177171), (3930, 0.016306547436163263), (3931, 0.028349627982043876), (3932, 0.04298401645189298), (3933, 0.008555720907640257), (3934, 0.007409207877910957), (3935, 0.003025482888734399), (3936, 0.029173622831681734), (3937, 0.010367361093710767), (3938, 0.03596933807206397), (3939, 0.003419693316958212), (3940, 0.005482812071396973), (3941, 0.029618114692626547), (3942, 0.0), (3943, 0.003749850940149428), (3944, 0.009884489968140609), (3945, 0.007476467467475138), (3946, 0.00515708114508551), (3947, 0.0), (3948, 0.014913787930714774), (3949, 0.004795542057490237), (3950, 0.01454772470371137), (3951, 0.05437544320961872), (3952, 0.013951749539757582), (3953, 0.014535536293222916), (3954, 0.07154546691919209), (3955, 0.0610912023717152), (3956, 0.018700511685009146), (3957, 0.017704792764128396), (3958, 0.007895386159888041), (3959, 0.024697974530130118), (3960, 0.01681240264355331), (3961, 0.04716774465915388), (3962, 0.006801704981952154), (3963, 0.03275099028886108), (3964, 0.010719824600183978), (3965, 0.10294898963590221), (3966, 0.011436239811050807), (3967, 0.01055137784633649), (3968, 0.03383979203884471), (3969, 0.020211759220550053), (3970, 0.023455843515006757), (3971, 0.0028133701001136057), (3972, 0.013158810359919183), (3973, 0.017242610507151587), (3974, 0.002310953235459554), (3975, 0.014974819931811816), (3976, 0.0426130033659475), (3977, 0.0381886095025223), (3978, 0.0024489905603263342), (3979, 0.022015215344053977), (3980, 0.0405899013027272), (3981, 0.0), (3982, 0.02073054113245249), (3983, 0.016092023398857982), (3984, 0.017416609890528238), (3985, 0.008801369490944407), (3986, 0.013343247348852942), (3987, 0.002734630736912732), (3988, 0.004391134500472014), (3989, 0.04545138628207828), (3990, 0.003543969893639032), (3991, 0.023690693439099943), (3992, 0.006845762248290867), (3993, 0.010614745372877247), (3994, 0.011916342147608418), (3995, 0.0), (3996, 0.03411200376580619), (3997, 0.0), (3998, 0.05870050442429166), (3999, 0.01068456749587456), (4000, 0.0025467482134510014), (4001, 0.04815218751846478), (4002, 0.03279368885172192), (4003, 0.03501513298380365), (4004, 0.002603857186571113), (4005, 0.04934232726758658), (4006, 0.03491133891026252), (4007, 0.031852400910943046), (4008, 0.03539581466142523), (4009, 0.029914171536295463), (4010, 0.019559591286443447), (4011, 0.020792991581477755), (4012, 0.052927301351399836), (4013, 0.02758247556634482), (4014, 0.0025978545509224315), (4015, 0.03990087541179705), (4016, 0.01155166730849304), (4017, 0.06916168717467554), (4018, 0.03774709701962031), (4019, 0.003328389422933002), (4020, 0.01155120904887176), (4021, 0.0), (4022, 0.0766741239536585), (4023, 0.0071520184344456145), (4024, 0.0027727019203893266), (4025, 0.044963479546135096), (4026, 0.007687293838335718), (4027, 0.010135389098127685), (4028, 0.0417234733045697), (4029, 0.012441447395461425), (4030, 0.0030052356512168124), (4031, 0.05974629699554516), (4032, 0.05368068090729837), (4033, 0.024584288383255132), (4034, 0.01487513411987107), (4035, 0.008821812947228651), (4036, 0.005917428782722266), (4037, 0.003304833194818481), (4038, 0.041477604486018727), (4039, 0.013123706577324428), (4040, 0.004501678571169247), (4041, 0.0), (4042, 0.015524890858566705), (4043, 0.0), (4044, 0.008180586404642776), (4045, 0.00972665531187645), (4046, 0.025557917684615513), (4047, 0.0), (4048, 0.0028108049271270375), (4049, 0.0061463639152542285), (4050, 0.035552856289778854), (4051, 0.02903875935613636), (4052, 0.013429007665534669), (4053, 0.002329783565238166), (4054, 0.006421667466404324), (4055, 0.028118241615854096), (4056, 0.02921416637745631), (4057, 0.016810302906457512), (4058, 0.004339269722535139), (4059, 0.0488588507480197), (4060, 0.00862110748193031), (4061, 0.04453616555034165), (4062, 0.06718323845615758), (4063, 0.00849669867937055), (4064, 0.02425089362667618), (4065, 0.0), (4066, 0.005318480185887004), (4067, 0.013521225110517263), (4068, 0.045824042637796686), (4069, 0.03172319478386888), (4070, 0.045268584708302015), (4071, 0.022920514180012046), (4072, 0.0), (4073, 0.0093553328608004), (4074, 0.04320036977553205), (4075, 0.019171339350963407), (4076, 0.01321022986171572), (4077, 0.03567294811015054), (4078, 0.0), (4079, 0.008995331492573293), (4080, 0.007780361525639879), (4081, 0.0025817693445174586), (4082, 0.012258292243670154), (4083, 0.0026805608083912075), (4084, 0.027115087416568054), (4085, 0.03609729243287349), (4086, 0.02005558747119589), (4087, 0.0027911241200862095), (4088, 0.0), (4089, 0.03385027379842455), (4090, 0.0), (4091, 0.01347351795002123), (4092, 0.0029056071578545243), (4093, 0.024779682293015144), (4094, 0.025554776243519827), (4095, 0.019776510457216435), (4096, 0.0), (4097, 0.04438141942029642), (4098, 0.002631861300229384), (4099, 0.04931360030981928), (4100, 0.014480834631828254), (4101, 0.04806314607268046), (4102, 0.007689495259025436), (4103, 0.0), (4104, 0.010783784923930548), (4105, 0.019027623010776908), (4106, 0.06503912585955306), (4107, 0.0031703925513062053), (4108, 0.017624521310518677), (4109, 0.026433354609787803), (4110, 0.047972989852019546), (4111, 0.006483252997776636), (4112, 0.015374328771462437), (4113, 0.055164874728033324), (4114, 0.050889562917187776), (4115, 0.004707180010605428), (4116, 0.0027992219314583707), (4117, 0.013887724283811399), (4118, 0.0446676352722973), (4119, 0.056026105947909646), (4120, 0.013668334397441792), (4121, 0.037099410031566124), (4122, 0.0), (4123, 0.0027110108307738406), (4124, 0.014032305291001728), (4125, 0.03070503698688145), (4126, 0.002987716596223677), (4127, 0.004234621827934647), (4128, 0.0), (4129, 0.002485216551494507), (4130, 0.04045952169158147), (4131, 0.003733265208936915), (4132, 0.03688316356049194), (4133, 0.017915278037792633), (4134, 0.009126246334734398), (4135, 0.01857826078968245), (4136, 0.021813505192547135), (4137, 0.06002421672745354), (4138, 0.009618231856927825), (4139, 0.008379343599879244), (4140, 0.02927329613522243), (4141, 0.019595333628869577), (4142, 0.03953651303239084), (4143, 0.04687777100541143), (4144, 0.005137227336910412), (4145, 0.010193074297112897), (4146, 0.021231501238641058), (4147, 0.007374178824979934), (4148, 0.018341606415792175), (4149, 0.028017784711306587), (4150, 0.042472902012296365), (4151, 0.00441141787371689), (4152, 0.06165875182066424), (4153, 0.049001767992260116), (4154, 0.014485264094865084), (4155, 0.04277297670549251), (4156, 0.06989594377672542), (4157, 0.025209256083111097), (4158, 0.023980105915832287), (4159, 0.027102110937553194), (4160, 0.0028787177661896216), (4161, 0.002762185146225127), (4162, 0.05570621667374184), (4163, 0.002976783809210096), (4164, 0.009593382685573986), (4165, 0.0), (4166, 0.012391675933180222), (4167, 0.0), (4168, 0.013712894473617348), (4169, 0.03596988529145279), (4170, 0.0), (4171, 0.02741961319102112), (4172, 0.003394353627754002), (4173, 0.0037325505432793888), (4174, 0.049486238724271187), (4175, 0.009239778381867713), (4176, 0.03443088576647623), (4177, 0.008462337231750255), (4178, 0.012363338158268726), (4179, 0.0), (4180, 0.003686612933015661), (4181, 0.0), (4182, 0.021054544056827253), (4183, 0.04271075778721824), (4184, 0.0035028534240796653), (4185, 0.0), (4186, 0.003193463296515215), (4187, 0.0029133122516117357), (4188, 0.03736276374231897), (4189, 0.05813959495644146), (4190, 0.02890317178627466), (4191, 0.057943343559311675), (4192, 0.06976945738289689), (4193, 0.02061615891375266), (4194, 0.027885235418069892), (4195, 0.003486497298731074), (4196, 0.0072409928683551585), (4197, 0.012402541732403394), (4198, 0.01267400576773788), (4199, 0.021525369765347687), (4200, 0.03431392944743136), (4201, 0.04392384791043745), (4202, 0.0035901798893290425), (4203, 0.02894217791285031), (4204, 0.00415221930686253), (4205, 0.07813347486737399), (4206, 0.005752667340392845), (4207, 0.013570831418387587), (4208, 0.0), (4209, 0.0031462369806758116), (4210, 0.033376372493511254), (4211, 0.013607901226612266), (4212, 0.0), (4213, 0.03938109932195667), (4214, 0.0035336697414484653), (4215, 0.0), (4216, 0.07651407859329218), (4217, 0.025005503960534872), (4218, 0.03817592682990434), (4219, 0.0), (4220, 0.002265038200649952), (4221, 0.0034328235819963923), (4222, 0.016316318412171363), (4223, 0.014712536189433283), (4224, 0.0), (4225, 0.014755260728147201), (4226, 0.04603901898868671), (4227, 0.0), (4228, 0.0025366098726402526), (4229, 0.00590646927563975), (4230, 0.0032898293307341824), (4231, 0.002738899606350925), (4232, 0.0022321335137623134), (4233, 0.007389991744417912), (4234, 0.0034032572762698002), (4235, 0.0), (4236, 0.006150145499600694), (4237, 0.015091521301374172), (4238, 0.0), (4239, 0.004819730196110723), (4240, 0.013386182784641246), (4241, 0.01212728448617033), (4242, 0.01842347655579359), (4243, 0.00987849322590461), (4244, 0.002941445555066705), (4245, 0.0027586136028960166), (4246, 0.00573417075003441), (4247, 0.01148950131772074), (4248, 0.0), (4249, 0.0026491846731177835), (4250, 0.0), (4251, 0.0), (4252, 0.029707449281314472), (4253, 0.01613587050068169), (4254, 0.0056864663054909705), (4255, 0.030364418335704583), (4256, 0.00370207677470138), (4257, 0.023521069380295547), (4258, 0.0038010937481373374), (4259, 0.03334939041978928), (4260, 0.0036872589438846624), (4261, 0.0), (4262, 0.024954695361942232), (4263, 0.02354021431076169), (4264, 0.034844138266951784), (4265, 0.02595459817302693), (4266, 0.0025908441288846474), (4267, 0.09640741256017413), (4268, 0.0025571887647834668), (4269, 0.030776482430484853), (4270, 0.021715592497762875), (4271, 0.03604491766291048), (4272, 0.06964560352921598), (4273, 0.01634805349508694), (4274, 0.05988709531711982), (4275, 0.00954606442630761), (4276, 0.0), (4277, 0.010610021702766384), (4278, 0.0), (4279, 0.011726145965578505), (4280, 0.030274241263949765), (4281, 0.06567982476618936), (4282, 0.04856816425331537), (4283, 0.03625353860394884), (4284, 0.014550809335979391), (4285, 0.004093960272380541), (4286, 0.031916947289741704), (4287, 0.012568969851160282), (4288, 0.04111963321389683), (4289, 0.03763391930867589), (4290, 0.022134657806682927), (4291, 0.0034837265909414784), (4292, 0.020227730900009202), (4293, 0.021780828231018668), (4294, 0.02123744815174739), (4295, 0.020866098340728622), (4296, 0.0022364526240754084), (4297, 0.025670472959554852), (4298, 0.028588821637410018), (4299, 0.0927929245774938), (4300, 0.03915101775822927), (4301, 0.0019049273876737942), (4302, 0.0), (4303, 0.009735858570197315), (4304, 0.013698669760822584), (4305, 0.0032408980934613917), (4306, 0.010728006242940858), (4307, 0.0), (4308, 0.0066414546514392886), (4309, 0.05196668346835351), (4310, 0.0), (4311, 0.009884198770683944), (4312, 0.026348783229526888), (4313, 0.044064106507504995), (4314, 0.03745807717522269), (4315, 0.01022159133497488), (4316, 0.0), (4317, 0.003955943708558948), (4318, 0.002713108656774517), (4319, 0.04225691594299607), (4320, 0.04392427353537401), (4321, 0.029113153671778462), (4322, 0.005594185129400258), (4323, 0.0036746339044144084), (4324, 0.03075273747409567), (4325, 0.013891964133832454), (4326, 0.00235399189157236), (4327, 0.03183673045042694), (4328, 0.02291053451947579), (4329, 0.013035532778303174), (4330, 0.014838085584712205), (4331, 0.0), (4332, 0.030391543037549307), (4333, 0.029566883531240366), (4334, 0.039198835444052366), (4335, 0.04630923681178735), (4336, 0.021854469722272188), (4337, 0.017606694086746554), (4338, 0.05201387053163739), (4339, 0.011201147937358361), (4340, 0.0026555103313794927), (4341, 0.02010806778108685), (4342, 0.03653544800116901), (4343, 0.002271047637175282), (4344, 0.02884331215293235), (4345, 0.031153412985791946), (4346, 0.00404737337034369), (4347, 0.036648569090913324), (4348, 0.046154545327120995), (4349, 0.002524709506031552), (4350, 0.039691650473342055), (4351, 0.03057486151466889), (4352, 0.0), (4353, 0.013678499862937179), (4354, 0.0243777355608068), (4355, 0.002735314726198712), (4356, 0.015401744231851339), (4357, 0.012968444332327623), (4358, 0.0030779401411482814), (4359, 0.01915522433929222), (4360, 0.024095374395217237), (4361, 0.0026712781187189704), (4362, 0.0025140351053724594), (4363, 0.07428287773044896), (4364, 0.013475615240689905), (4365, 0.0), (4366, 0.0), (4367, 0.009825061720245871), (4368, 0.016690209157512875), (4369, 0.039981430103359375), (4370, 0.003725879534632733), (4371, 0.051542683434508484), (4372, 0.01721109816734903), (4373, 0.014237000241579895), (4374, 0.050467878788183124), (4375, 0.0), (4376, 0.012571868648761624), (4377, 0.0), (4378, 0.04818436230616596), (4379, 0.02470653364821772), (4380, 0.0), (4381, 0.008412360088198116), (4382, 0.02590683753499409), (4383, 0.011528824478482682), (4384, 0.0), (4385, 0.014931141351116638), (4386, 0.0022144082924310435), (4387, 0.014460170811705276), (4388, 0.038508152158842644), (4389, 0.015253603489976121), (4390, 0.0), (4391, 0.04308182448513833), (4392, 0.01584251834251977), (4393, 0.0), (4394, 0.01817761596471425), (4395, 0.02659215252075419), (4396, 0.002872604550324879), (4397, 0.002857504689708214), (4398, 0.002966872647642806), (4399, 0.034305080515359056), (4400, 0.003273059753037216), (4401, 0.002868652800255299), (4402, 0.013712668411645673), (4403, 0.02965058311639577), (4404, 0.012970467183606072), (4405, 0.0), (4406, 0.04914353659046894), (4407, 0.0033584322706539708), (4408, 0.011524057029240241), (4409, 0.0025523695603765955), (4410, 0.0), (4411, 0.03772580437819224), (4412, 0.0030076802376807947), (4413, 0.0037826696680463997), (4414, 0.00929328848016689), (4415, 0.0), (4416, 0.003022267517858308), (4417, 0.0), (4418, 0.019420825621803056), (4419, 0.024293716232778956), (4420, 0.02417222164455224), (4421, 0.01563455620009252), (4422, 0.012572289332745833), (4423, 0.003329416871112062), (4424, 0.0), (4425, 0.0), (4426, 0.0030101287307512884), (4427, 0.011761172789937442), (4428, 0.01408167641519369), (4429, 0.0022293060203486966), (4430, 0.002688213239479675), (4431, 0.028973333278932242), (4432, 0.0022473153260005427), (4433, 0.003639710878285099), (4434, 0.003341902760093196), (4435, 0.031071581227642114), (4436, 0.03858229094203009), (4437, 0.014910022991423326), (4438, 0.01761366564132911), (4439, 0.0), (4440, 0.012965998827543658), (4441, 0.011648317097069259), (4442, 0.06425740820761329), (4443, 0.0031453157238586957), (4444, 0.019426242052515055), (4445, 0.011993030548238035), (4446, 0.006643527051432443), (4447, 0.003165048276445465), (4448, 0.03313307445040704), (4449, 0.014387856121216059), (4450, 0.01086992935267837), (4451, 0.02000036152741609), (4452, 0.036019306324289256), (4453, 0.013961909964046728), (4454, 0.05896425797425334), (4455, 0.0), (4456, 0.0), (4457, 0.0034757584531682865), (4458, 0.010349097636796884), (4459, 0.029991161548724363), (4460, 0.06485987888642036), (4461, 0.002471758335283455), (4462, 0.03591708533354759), (4463, 0.022314289330255775), (4464, 0.0146078586487126), (4465, 0.026707323939603723), (4466, 0.058368780041297884), (4467, 0.08177649191862088), (4468, 0.010030991471712358), (4469, 0.003207999408256552), (4470, 0.03910162591207072), (4471, 0.04021832408251219), (4472, 0.0273491503410066), (4473, 0.015954158697535425), (4474, 0.020463863040542752), (4475, 0.0023088730584602665), (4476, 0.052681824679874784), (4477, 0.017325465410397617), (4478, 0.026857776270596278), (4479, 0.039438828004466964), (4480, 0.05247741727848562), (4481, 0.024526586569994464), (4482, 0.06966138558627998), (4483, 0.044102685799141325), (4484, 0.008074596603368532), (4485, 0.0), (4486, 0.0325641719989672), (4487, 0.03646973084897955), (4488, 0.03728179691760428), (4489, 0.006423139892633755), (4490, 0.0030449284810767203), (4491, 0.0), (4492, 0.04627391123123842), (4493, 0.012442130473890284), (4494, 0.002900590983513234), (4495, 0.014001832634210344), (4496, 0.003993089181461662), (4497, 0.002688111471322725), (4498, 0.03336079384214523), (4499, 0.01891267165384677), (4500, 0.0), (4501, 0.02354357540221753), (4502, 0.002345023085828114), (4503, 0.01495629846069529), (4504, 0.04063327394266022), (4505, 0.0027177533036265686), (4506, 0.020238469364325898), (4507, 0.04396957975846968), (4508, 0.013395905223506126), (4509, 0.0), (4510, 0.036722701872198116), (4511, 0.04199832163490912), (4512, 0.0), (4513, 0.0), (4514, 0.011609959559540056), (4515, 0.028626025352876356), (4516, 0.043490097998777025), (4517, 0.011845609128415627), (4518, 0.012752071005846632), (4519, 0.002798785295302266), (4520, 0.002541717692165005), (4521, 0.003204789337454257), (4522, 0.0065998681277512315), (4523, 0.07415048403318676), (4524, 0.022568725840753902), (4525, 0.0242978774282318), (4526, 0.0), (4527, 0.0), (4528, 0.0027883703373417544), (4529, 0.003442571359992003), (4530, 0.005922897698191142), (4531, 0.01643494004182364), (4532, 0.0), (4533, 0.07660945587089843), (4534, 0.02012830866820251), (4535, 0.04244976788213853), (4536, 0.04207178635046378), (4537, 0.004541170376423789), (4538, 0.0), (4539, 0.02756027411615639), (4540, 0.002758840285854317), (4541, 0.041928715674853984), (4542, 0.03634045007151588), (4543, 0.024196788765201146), (4544, 0.047421867229133205), (4545, 0.0027784993354809037), (4546, 0.05080938862975264), (4547, 0.0), (4548, 0.011494692824742305), (4549, 0.013602942363585033), (4550, 0.014376612019223965), (4551, 0.02998261121784631), (4552, 0.0036160541644217263), (4553, 0.0), (4554, 0.010957015938934358), (4555, 0.03922886341456959), (4556, 0.010916308073339657), (4557, 0.0522476087259382), (4558, 0.013122993978806742), (4559, 0.0), (4560, 0.0037100033712843786), (4561, 0.0), (4562, 0.004333876731005506), (4563, 0.023895842752162076), (4564, 0.04153465657621692), (4565, 0.026926529378528068), (4566, 0.009147371489327228), (4567, 0.0024539192295525755), (4568, 0.055972294835973865), (4569, 0.0), (4570, 0.004170264048281613), (4571, 0.009623401353332534), (4572, 0.003151146522092972), (4573, 0.002489032223729645), (4574, 0.02080984919958081), (4575, 0.04659325582442495), (4576, 0.08815383379235713), (4577, 0.0032031782609754176), (4578, 0.0), (4579, 0.0027675073537301205), (4580, 0.010710856641184001), (4581, 0.01358822626274889), (4582, 0.008212382889320696), (4583, 0.009302220382040274), (4584, 0.003018538597338425), (4585, 0.0), (4586, 0.0), (4587, 0.00877481603195297), (4588, 0.034243777741892696), (4589, 0.03171014780397897), (4590, 0.044940961751402206), (4591, 0.02167333266465223), (4592, 0.015702099807977793), (4593, 0.0028550443760641535), (4594, 0.040456976306347266), (4595, 0.0), (4596, 0.03641237768478355), (4597, 0.024037102331688705), (4598, 0.04683278512447879), (4599, 0.015011761809611116), (4600, 0.026684511582671076), (4601, 0.0028103069573981185), (4602, 0.025567529326584994), (4603, 0.011852402383088528), (4604, 0.031868825818733924), (4605, 0.01702546739271983), (4606, 0.0032505224074999236), (4607, 0.003728382880654233), (4608, 0.0022784623067922064), (4609, 0.03794625411398331), (4610, 0.01948019851997144), (4611, 0.003422336817209793), (4612, 0.018461719503951424), (4613, 0.012980962805061145), (4614, 0.016823271215679884), (4615, 0.011191418665206348), (4616, 0.0023717938170820093), (4617, 0.0035116125385265076), (4618, 0.016049518704808512), (4619, 0.034286719406668525), (4620, 0.002345940773789624), (4621, 0.012813671968691084), (4622, 0.0037031045756513266), (4623, 0.0), (4624, 0.042945716305831265), (4625, 0.00900981607989966), (4626, 0.002075849870375647), (4627, 0.005196593774854886), (4628, 0.04335605231033947), (4629, 0.05874364545388481), (4630, 0.1184103619750066), (4631, 0.004236438965345717), (4632, 0.010230118489870672), (4633, 0.007117339306118834), (4634, 0.013837855361111253), (4635, 0.017441512641935473), (4636, 0.0051071683770033145), (4637, 0.0030466656917921614), (4638, 0.0023421307007931266), (4639, 0.0), (4640, 0.01764528530277848), (4641, 0.01565976150605259), (4642, 0.01635964598323473), (4643, 0.06128950080482338), (4644, 0.0), (4645, 0.0), (4646, 0.02712978019890902), (4647, 0.014242887855934225), (4648, 0.0036079133257014328), (4649, 0.019726300702149424), (4650, 0.019085366345376505), (4651, 0.0), (4652, 0.03312750553462948), (4653, 0.01125657586330306), (4654, 0.0), (4655, 0.0036926287993959243), (4656, 0.0), (4657, 0.00933252135719067), (4658, 0.03243912920432129), (4659, 0.013232420221936648), (4660, 0.0182869697486431), (4661, 0.0022759219772733163), (4662, 0.0), (4663, 0.0456020662945411), (4664, 0.0), (4665, 0.0), (4666, 0.0), (4667, 0.015852433844962308), (4668, 0.0025299071585638015), (4669, 0.025380412295237895), (4670, 0.03095475589971672), (4671, 0.0), (4672, 0.0), (4673, 0.0024868002684820057), (4674, 0.04942835732040496), (4675, 0.003475500931626074), (4676, 0.015047041717552063), (4677, 0.0025951101021629273), (4678, 0.011742176790392357), (4679, 0.023818225554929226), (4680, 0.04566822918565926), (4681, 0.0), (4682, 0.04370106543753556), (4683, 0.009237835703671246), (4684, 0.03833286943856327), (4685, 0.021088473244135902), (4686, 0.014920226765379074), (4687, 0.08364790763352953), (4688, 0.045068894412048185), (4689, 0.019416031307985332), (4690, 0.003271632135948079), (4691, 0.0), (4692, 0.003205011723756482), (4693, 0.0024940531673991735), (4694, 0.0030168068591010923), (4695, 0.04178454874398189), (4696, 0.0033637123465138224), (4697, 0.0), (4698, 0.0), (4699, 0.030260006441923348), (4700, 0.004723656423518958), (4701, 0.0030601072626378492), (4702, 0.009746690469446317), (4703, 0.0), (4704, 0.0035075995085875546), (4705, 0.003670942889091675), (4706, 0.022129570117508844), (4707, 0.0), (4708, 0.03166919583937136), (4709, 0.0), (4710, 0.003245453711143474), (4711, 0.004117452596871878), (4712, 0.10834119394067618), (4713, 0.010045037683218943), (4714, 0.0), (4715, 0.0025741823468749116), (4716, 0.0), (4717, 0.020716693860551152), (4718, 0.009731936538922415), (4719, 0.023562796193366778), (4720, 0.00423428592230233), (4721, 0.034525782762026946), (4722, 0.0276934349237415), (4723, 0.0031392699352190767), (4724, 0.0031650450111872174), (4725, 0.00425867002556522), (4726, 0.012932731602431628), (4727, 0.022275643214456745), (4728, 0.0), (4729, 0.0024662756111315737), (4730, 0.01651369256727797), (4731, 0.019941302188544535), (4732, 0.02600879291630525), (4733, 0.01944397814270903), (4734, 0.006544857937348274), (4735, 0.0030382733636199572), (4736, 0.0), (4737, 0.003955591903992869), (4738, 0.016241140288941327), (4739, 0.018796727210487363), (4740, 0.0), (4741, 0.018932646864196018), (4742, 0.0), (4743, 0.0025052183906450706), (4744, 0.004909464381220757), (4745, 0.0), (4746, 0.05546629656709132), (4747, 0.0), (4748, 0.026411510422774703), (4749, 0.0034457548487290875), (4750, 0.0), (4751, 0.0), (4752, 0.010622696313157428), (4753, 0.0029277273909282847), (4754, 0.0), (4755, 0.012336650106010722), (4756, 0.017189549505293146), (4757, 0.03144141476475778), (4758, 0.0), (4759, 0.0)]\n"
          ]
        }
      ]
    },
    {
      "cell_type": "code",
      "source": [
        "len(recommendation_score)"
      ],
      "metadata": {
        "colab": {
          "base_uri": "https://localhost:8080/"
        },
        "id": "oaamW3D47WK-",
        "outputId": "ed78a841-1b8c-4e1e-d471-054a442daa46"
      },
      "execution_count": 36,
      "outputs": [
        {
          "output_type": "execute_result",
          "data": {
            "text/plain": [
              "4760"
            ]
          },
          "metadata": {},
          "execution_count": 36
        }
      ]
    },
    {
      "cell_type": "markdown",
      "source": [
        "# Get all movie recommendation based on recommendation score"
      ],
      "metadata": {
        "id": "OFBSI6L27q3y"
      }
    },
    {
      "cell_type": "code",
      "source": [
        "#sorting movies on the basis of similarity score\n",
        "sorted_similar_movies= sorted(recommendation_score, key= lambda x:x[1], reverse= True)\n",
        "print(sorted_similar_movies)"
      ],
      "metadata": {
        "colab": {
          "base_uri": "https://localhost:8080/"
        },
        "id": "bPSN6fIf7WR2",
        "outputId": "2b839305-6cef-4c93-a002-e99aaab7774b"
      },
      "execution_count": 37,
      "outputs": [
        {
          "output_type": "stream",
          "name": "stdout",
          "text": [
            "[(3, 1.0), (206, 0.179104799704356), (2650, 0.1477798342860161), (2027, 0.14722613681312074), (164, 0.14589758456473872), (1087, 0.14468135603945587), (2158, 0.14253395697027288), (452, 0.13980809021421697), (3866, 0.13165771373972115), (2701, 0.12791112574372052), (524, 0.1274427335967744), (235, 0.12400604704949818), (3599, 0.12351841944961646), (307, 0.1228769129612349), (12, 0.12113761972627259), (2595, 0.11955161342027029), (1329, 0.11954248931445911), (4630, 0.1184103619750066), (891, 0.11770483501438779), (1798, 0.11569487202698034), (388, 0.11544228583648782), (387, 0.11477520957929307), (2528, 0.11396862578533658), (751, 0.11383198385280849), (1048, 0.11304603430735162), (1936, 0.11300327831362768), (2403, 0.1128520545209776), (3611, 0.10854547292694552), (4712, 0.10834119394067618), (1128, 0.10817761505635788), (703, 0.10785985844708129), (1120, 0.10763674508378011), (1367, 0.10484808320254088), (2043, 0.10393333953857428), (852, 0.10296479032542376), (3965, 0.10294898963590221), (250, 0.10208695685084584), (714, 0.10113204323678006), (1340, 0.10096934364968312), (3018, 0.10093158118351218), (197, 0.10020116492102216), (685, 0.09987862128515643), (2949, 0.09980785526501688), (1707, 0.09901403963519267), (1278, 0.0989849410104913), (1701, 0.09759434765027131), (403, 0.09693738427823906), (4267, 0.09640741256017413), (919, 0.09634504757220615), (909, 0.09618020057477146), (2504, 0.0959704892425643), (3751, 0.09586891919208199), (108, 0.09575331242074893), (43, 0.09566139359553241), (2584, 0.09490347177428247), (1719, 0.09419112771747054), (3364, 0.09325118021825608), (4299, 0.0927929245774938), (3336, 0.09211206857561974), (734, 0.09138497286686671), (1711, 0.09096038199535711), (3656, 0.09095349930602781), (3747, 0.09065606874077733), (1915, 0.08962141374880267), (1638, 0.0891283593566573), (1858, 0.08836143023841049), (3066, 0.08818344144016842), (4576, 0.08815383379235713), (2582, 0.08803904358568812), (609, 0.08782544300767502), (663, 0.08750568841394551), (941, 0.08744258661239473), (1728, 0.08729802748212767), (2231, 0.08726585781572525), (1192, 0.0865041986976452), (829, 0.08616623234997911), (1467, 0.08593717575953883), (3285, 0.08569419641939685), (726, 0.08548264154197946), (1132, 0.08460375585511552), (91, 0.0845560607516397), (1925, 0.08425199260860243), (4687, 0.08364790763352953), (736, 0.08289075312502787), (1413, 0.08183938267019178), (4467, 0.08177649191862088), (2256, 0.08162337556229271), (371, 0.08152444079477916), (969, 0.08125544810327133), (2558, 0.08121966728967407), (39, 0.08023132979222702), (264, 0.07989967350866656), (2547, 0.07988081833156473), (3297, 0.0796789146426042), (1644, 0.07948334556244814), (2673, 0.07891520479709796), (2294, 0.0787851285681169), (372, 0.07848899524940633), (3424, 0.07834419999476029), (212, 0.07827328834436108), (4205, 0.07813347486737399), (3289, 0.07766878402039415), (3765, 0.0775183864738399), (2765, 0.0774905744742671), (2647, 0.0771973056615056), (1169, 0.07717766397993209), (959, 0.07704146054579011), (50, 0.07701597707581857), (1210, 0.07669201854586907), (4022, 0.0766741239536585), (4533, 0.07660945587089843), (4216, 0.07651407859329218), (2702, 0.07646200768938798), (1919, 0.07634549636425927), (2498, 0.07621157265004228), (468, 0.07593550738111694), (655, 0.07581221034544651), (2867, 0.07577952613590372), (2844, 0.07569227473922543), (3094, 0.07552743825212246), (1903, 0.07551327887622934), (119, 0.07544369127178199), (351, 0.0753540018109471), (3294, 0.07504962195378848), (353, 0.0750076812626193), (653, 0.07499900365132167), (3181, 0.07491299375875017), (1964, 0.07478547609996919), (3612, 0.07474565901776965), (1579, 0.0747424650148112), (1643, 0.07447109174036211), (342, 0.07443312090736336), (1788, 0.0744169508965345), (1465, 0.07436292844791592), (1983, 0.07434636906931086), (4363, 0.07428287773044896), (606, 0.07415195209163582), (4523, 0.07415048403318676), (2000, 0.07400533048017167), (3610, 0.07393336942681811), (500, 0.07355480034151604), (88, 0.07344961205056624), (467, 0.0734369492535448), (2627, 0.07320997389091118), (725, 0.07314188290183303), (2878, 0.07296190207209223), (1843, 0.07289155979422587), (1692, 0.07256741961922404), (2430, 0.07254901770112776), (1281, 0.07231089367502588), (2732, 0.07228341630356136), (3083, 0.07222127697220894), (809, 0.07221122910329876), (3414, 0.0719324626681482), (1506, 0.07191585463890196), (700, 0.07155505431083267), (3954, 0.07154546691919209), (464, 0.07142954067353233), (3877, 0.0713141324696846), (3463, 0.07125579031729587), (1456, 0.07098043370902157), (3335, 0.07083826024407584), (251, 0.07058226439929305), (2114, 0.07028647548756133), (4156, 0.06989594377672542), (4192, 0.06976945738289689), (1443, 0.06973084551270498), (2199, 0.06968343871718222), (4482, 0.06966138558627998), (4272, 0.06964560352921598), (328, 0.06959695956707428), (2510, 0.06922427089136003), (124, 0.06916922781569051), (4017, 0.06916168717467554), (739, 0.06914547697619788), (930, 0.06907496466012103), (2463, 0.06889318740789199), (1946, 0.06888930523685213), (2964, 0.06884100335996174), (3546, 0.06871056248760296), (2074, 0.06855917230380329), (1188, 0.06853772885182785), (269, 0.06848866872291443), (3447, 0.06841427417263968), (608, 0.06807186087298957), (3903, 0.06805206711441575), (3352, 0.06801302876780921), (563, 0.06795067215578927), (2848, 0.06777506924602465), (3833, 0.0677629459532639), (56, 0.06774035995527501), (802, 0.06772203621600496), (3777, 0.06767437299354445), (483, 0.0676274033937799), (3142, 0.06756796544331843), (2988, 0.06732052444120333), (1852, 0.06718874419662113), (4062, 0.06718323845615758), (656, 0.0670974803734091), (1111, 0.06674788595450949), (3460, 0.06674369418395858), (271, 0.06642731475158625), (2131, 0.06627819949686327), (3325, 0.06613683565566297), (3648, 0.06608451618194111), (3295, 0.06584324348494476), (1080, 0.06576371056610868), (4281, 0.06567982476618936), (1442, 0.06565415067090148), (189, 0.06563788801251443), (3184, 0.06541509680485898), (228, 0.06541056188344493), (1282, 0.06539020298286936), (2711, 0.06535120942939657), (2218, 0.06525055694964838), (1948, 0.06510199531259075), (75, 0.06509511924822968), (963, 0.06508617172312685), (4106, 0.06503912585955306), (13, 0.06497614809897558), (773, 0.06495479206963753), (280, 0.06491991768725482), (4460, 0.06485987888642036), (1710, 0.06477096643131564), (1305, 0.06476239765542624), (3391, 0.0647564410183547), (3911, 0.06466736216882081), (2198, 0.06444900974392963), (2485, 0.06438763747021362), (1106, 0.06436394573495477), (1090, 0.06436310736102949), (1077, 0.06430897571139493), (4442, 0.06425740820761329), (3205, 0.0642182497499246), (3873, 0.06420009451103209), (1047, 0.06419501829084986), (1510, 0.0640942116639557), (1650, 0.06407599735166435), (2769, 0.06394404337852731), (3655, 0.06392428647785907), (45, 0.06387456411129852), (808, 0.06368184817363122), (1612, 0.0634578233587887), (2480, 0.06331100006573598), (719, 0.0630561006315162), (392, 0.06305561111929797), (3141, 0.06303681274153942), (1414, 0.06301128067637594), (766, 0.06289736501386402), (3449, 0.06270632173062604), (1239, 0.06270244658806082), (44, 0.06262277271031223), (681, 0.06249947518197277), (1720, 0.06238397311497607), (843, 0.06234166078862283), (3701, 0.062221878467252925), (3085, 0.062153086961290356), (634, 0.061847115567599066), (4152, 0.06165875182066424), (1649, 0.06164917956600183), (3857, 0.061395975187594126), (744, 0.06138819191111469), (727, 0.06135674232356449), (272, 0.06129566749249628), (2474, 0.06129553748957009), (4643, 0.06128950080482338), (916, 0.061165753855484756), (2625, 0.06114141951000532), (3955, 0.0610912023717152), (3477, 0.06107872868339404), (2351, 0.06100541444655997), (1168, 0.06096786048047812), (2509, 0.06089926408062671), (2766, 0.06088897629975219), (553, 0.06085655143775047), (1353, 0.06077900681539127), (706, 0.06072907703257886), (246, 0.06063979725607677), (391, 0.06032128006813801), (2418, 0.06024860385940316), (4137, 0.06002421672745354), (97, 0.05993819619661575), (723, 0.05991426614472088), (4274, 0.05988709531711982), (57, 0.05980193434790941), (4031, 0.05974629699554516), (1524, 0.059725981221420206), (2883, 0.05971014997443315), (515, 0.059571838138890346), (937, 0.0595450439875631), (34, 0.05950856374455928), (1109, 0.059481051833723486), (865, 0.0594503254396198), (2588, 0.05940636772704237), (361, 0.05933458445590986), (982, 0.05922011247454054), (876, 0.059212706625418464), (3026, 0.05905607343643277), (3792, 0.05901305061051225), (2616, 0.05896485935772854), (4454, 0.05896425797425334), (762, 0.05886730729353811), (794, 0.058845937728700656), (2137, 0.0588227306015513), (3435, 0.05881809508936349), (4629, 0.05874364545388481), (3368, 0.05871823751341107), (412, 0.05871374808664351), (3998, 0.05870050442429166), (179, 0.0586612132034986), (418, 0.05864479944341056), (2612, 0.05861683369173107), (277, 0.0584840047887706), (3853, 0.05842826226224715), (3380, 0.05841510027921158), (3659, 0.05839777506400893), (4466, 0.058368780041297884), (669, 0.058183535631742986), (4189, 0.05813959495644146), (3886, 0.057999302892057375), (4191, 0.057943343559311675), (407, 0.05790868288386336), (1341, 0.057858641223707236), (496, 0.057798581634056066), (2178, 0.057705666616942194), (130, 0.05764319004105656), (1425, 0.05758859447405254), (2051, 0.057587680304652084), (2975, 0.05745802731443615), (3450, 0.05741764927365049), (1389, 0.05741053836131912), (1292, 0.057397605117373726), (522, 0.05720885663131978), (1016, 0.05720711974009264), (104, 0.057197486399854995), (263, 0.05714701743334861), (2180, 0.0571285537319522), (2443, 0.0570899880864386), (3344, 0.05707127402126515), (2531, 0.05706857508274314), (2239, 0.05704631204493837), (1807, 0.056978990033198805), (1130, 0.05696317501957454), (1295, 0.05686339925796155), (993, 0.05675826571354553), (776, 0.0567535476912637), (274, 0.05673839729402384), (1489, 0.05673215150209471), (1216, 0.056548697011363655), (1530, 0.05648698987453796), (2161, 0.05632160450629322), (3240, 0.05628543971191435), (1195, 0.0562559937053679), (2802, 0.05622377013782705), (3919, 0.056128797805061456), (4119, 0.056026105947909646), (701, 0.05602432108546514), (4568, 0.055972294835973865), (887, 0.05592352232382941), (3592, 0.05589457170036019), (3619, 0.05586802314662633), (1494, 0.05573186261805722), (4162, 0.05570621667374184), (330, 0.055628134402843185), (357, 0.05554104245158507), (4746, 0.05546629656709132), (2244, 0.055276884267481244), (2102, 0.05521469378414721), (4113, 0.055164874728033324), (1071, 0.05508284663711759), (2808, 0.055075611449844054), (805, 0.05492446540352855), (2822, 0.05476405268601207), (3096, 0.054472173336360945), (254, 0.05446547036386104), (138, 0.05438136753195494), (3951, 0.05437544320961872), (253, 0.054301314183290705), (1715, 0.054206948272193585), (1553, 0.05415619207451739), (1066, 0.054033674207277366), (1508, 0.0539952505810941), (165, 0.05398632418536522), (3448, 0.05397892313783478), (1867, 0.053893943274758056), (2323, 0.053870542730430945), (310, 0.053840820857785424), (1578, 0.05382990461206315), (566, 0.05381365880225544), (1938, 0.053764310408698814), (1959, 0.05368773142427221), (4032, 0.05368068090729837), (684, 0.05365707759841962), (2118, 0.05364474651873411), (633, 0.05363162195148252), (2944, 0.053499813036449156), (1477, 0.053465951356580325), (3670, 0.053424319446794044), (1004, 0.05340580360754333), (1059, 0.053239648611746605), (2900, 0.053171293154576235), (2660, 0.05316822622455705), (3077, 0.05315069200249725), (2923, 0.05296199713463968), (844, 0.05295064670344735), (4012, 0.052927301351399836), (74, 0.05286513823166899), (813, 0.05286011578249003), (3437, 0.05278130826467588), (1262, 0.05275946257986615), (1190, 0.05272956702932628), (4476, 0.052681824679874784), (2143, 0.05264140476114174), (2513, 0.05262112749677118), (2745, 0.05256650030201731), (1764, 0.05251814210450603), (4480, 0.05247741727848562), (35, 0.05245230431298357), (127, 0.05242989633924969), (2981, 0.052418765376117865), (4557, 0.0522476087259382), (2642, 0.05220991531509439), (850, 0.05216606718108499), (1013, 0.05214707457276087), (544, 0.05209362407542986), (4338, 0.05201387053163739), (5, 0.0519911011825567), (195, 0.05198235286187506), (1505, 0.05197978754807503), (4309, 0.05196668346835351), (737, 0.05194586727049377), (3492, 0.05193695652184171), (1725, 0.051805700768462665), (3328, 0.05165144787422606), (1571, 0.051621205948894404), (242, 0.051620573237574456), (1592, 0.05161801340829848), (856, 0.05161212719304182), (2215, 0.05156718558137094), (4371, 0.051542683434508484), (1157, 0.05153799294704221), (336, 0.05151651443531151), (1131, 0.05150565738369152), (2160, 0.051411460163608765), (1849, 0.05139906633654823), (1594, 0.05138771609783731), (135, 0.05135117471580796), (677, 0.05131138679098712), (555, 0.05128292210139844), (1129, 0.05125208413677662), (2015, 0.05116809115539872), (96, 0.05112307304797353), (950, 0.05108414713060394), (259, 0.0510466142109485), (489, 0.05103858457804876), (82, 0.05096327702173866), (864, 0.0509150984201764), (4114, 0.050889562917187776), (506, 0.05087077917604), (2152, 0.050830153737002254), (4546, 0.05080938862975264), (2175, 0.050719388524908274), (3494, 0.05070936363789962), (2502, 0.050542106081885474), (913, 0.050513102875660534), (4374, 0.050467878788183124), (3362, 0.050439902829571476), (2651, 0.05030599578169079), (1405, 0.05028435978345967), (3458, 0.05017931080455801), (561, 0.05011498778827138), (2857, 0.049838966081786215), (3348, 0.0498108496410697), (3923, 0.04967700279992502), (457, 0.04967072208974952), (2798, 0.04962390975163932), (936, 0.04956024402669122), (4174, 0.049486238724271187), (2047, 0.04948508984244905), (3425, 0.0494362623567355), (4674, 0.04942835732040496), (3467, 0.049390156089385), (1714, 0.04937331258323874), (4005, 0.04934232726758658), (1503, 0.049338600619718974), (4099, 0.04931360030981928), (2005, 0.04925409839205928), (697, 0.04923723692061154), (1108, 0.049172004218027525), (1535, 0.049146463698050806), (4406, 0.04914353659046894), (895, 0.04905606004308732), (934, 0.04903247519707507), (1248, 0.049003771590804275), (4153, 0.049001767992260116), (1052, 0.048896000992698696), (1602, 0.04886661075768558), (1307, 0.048860423041401785), (4059, 0.0488588507480197), (354, 0.048853784430139165), (198, 0.048803535474788946), (240, 0.0487974842599987), (368, 0.0487909237321838), (7, 0.04871036100310376), (2301, 0.048620730247926965), (2565, 0.04861418122830374), (1290, 0.04857340019921513), (4282, 0.04856816425331537), (396, 0.04845689624900107), (3808, 0.048393965919243886), (1373, 0.04833785884917938), (2459, 0.04833058655108754), (3584, 0.04828231850715625), (3921, 0.0482535143154087), (2530, 0.048204025394237564), (4378, 0.04818436230616596), (1316, 0.048183206759679256), (4001, 0.04815218751846478), (2550, 0.04813941929516591), (4101, 0.04806314607268046), (341, 0.048062656275203876), (2494, 0.04802159601823467), (3698, 0.047991547248774157), (1448, 0.04797405234366492), (4110, 0.047972989852019546), (1252, 0.04789658259724323), (2955, 0.04783950600061227), (2634, 0.04781733648387342), (2854, 0.04779930252220219), (2145, 0.04779691473513479), (731, 0.04769377183298744), (3484, 0.04768517123940881), (73, 0.04765088993235881), (288, 0.04761797990368622), (1627, 0.047590395619228516), (747, 0.047425709963461515), (4544, 0.047421867229133205), (1433, 0.04741586310987725), (899, 0.0473881023008909), (1630, 0.04732466159739746), (3377, 0.04728316576327578), (2340, 0.04725627071931181), (1361, 0.04721163635772178), (239, 0.04719775980250934), (3961, 0.04716774465915388), (3534, 0.047158319847495946), (1255, 0.04715104572234789), (1069, 0.04700119204453894), (1068, 0.046969501344378925), (2816, 0.04695315973443097), (4143, 0.04687777100541143), (2598, 0.04684933859065382), (3709, 0.04683645198085437), (4598, 0.04683278512447879), (182, 0.04680790977513004), (1420, 0.04673447384234696), (1291, 0.04671988412172662), (3129, 0.046597225755101626), (4575, 0.04659325582442495), (25, 0.04650444092238117), (2155, 0.04640046830291015), (3420, 0.046374053914247995), (2774, 0.04636811450194913), (3511, 0.04635401972857487), (222, 0.046344420616743015), (1637, 0.0463348713126183), (1675, 0.04631784642867812), (2003, 0.0463100974099906), (4335, 0.04630923681178735), (4492, 0.04627391123123842), (324, 0.04625797095690377), (694, 0.04625758129178476), (3393, 0.046240732167944415), (1430, 0.04619315857068039), (4348, 0.046154545327120995), (1569, 0.046108859461533334), (3016, 0.04609760747893178), (1691, 0.046091082727619415), (4226, 0.04603901898868671), (3875, 0.046037891915319824), (3690, 0.04601762848621699), (3023, 0.046001182015777395), (1472, 0.04599270409158013), (2666, 0.045866683685984844), (2729, 0.04586478092208565), (4068, 0.045824042637796686), (37, 0.04582204427181403), (3779, 0.045797281735979134), (2147, 0.04577258855311816), (266, 0.045713866386509205), (4680, 0.04566822918565926), (2386, 0.045664033798975254), (2012, 0.04561398500929845), (4663, 0.0456020662945411), (1818, 0.04555348320098171), (1500, 0.045454730535788704), (3989, 0.04545138628207828), (67, 0.04541847409867375), (1698, 0.045380411746016855), (3034, 0.04533800225681663), (4070, 0.045268584708302015), (3039, 0.045263125920629775), (1776, 0.0452574695672429), (1253, 0.04525180114273557), (3524, 0.04517607079017561), (117, 0.04516836325359904), (3809, 0.04511804135133202), (1033, 0.04509131275969993), (4688, 0.045068894412048185), (2011, 0.04499358642007815), (807, 0.04498312980511202), (3839, 0.04497341761374354), (1060, 0.04497066048658756), (4025, 0.044963479546135096), (3786, 0.04496237419140183), (4590, 0.044940961751402206), (1787, 0.04491604284189004), (84, 0.044879369178725884), (757, 0.04484630439946055), (705, 0.04480410137414491), (2553, 0.04474569943775754), (1019, 0.04473655046836845), (1682, 0.044713474918230384), (470, 0.04471016110779567), (4118, 0.0446676352722973), (733, 0.044659158556454394), (2250, 0.04463561506857012), (1297, 0.044628148587750736), (1186, 0.04462022927084841), (1848, 0.044582773169196184), (4061, 0.04453616555034165), (3924, 0.04452012677906395), (569, 0.044517502789491445), (3759, 0.044476477962987176), (3927, 0.04444148264298573), (4097, 0.04438141942029642), (2931, 0.04437768626058186), (1490, 0.044362430125180305), (1241, 0.04431667006246309), (2376, 0.0442855654273053), (3345, 0.04428488578974547), (1306, 0.04418600493982494), (983, 0.044154932265386374), (4483, 0.044102685799141325), (4313, 0.044064106507504995), (3307, 0.044055156621669096), (3149, 0.044035545681172274), (4507, 0.04396957975846968), (1202, 0.04396920196583202), (3678, 0.043963113579106546), (4320, 0.04392427353537401), (4201, 0.04392384791043745), (2681, 0.04389057754009547), (2884, 0.0438309031830124), (3469, 0.04382419887524798), (1270, 0.04382299513534345), (3389, 0.043813212811247164), (48, 0.043772704716197944), (4682, 0.04370106543753556), (433, 0.0436741141535183), (2755, 0.04366694213256425), (1493, 0.04364819371518819), (756, 0.04362347374498182), (3531, 0.043605205857516253), (1463, 0.04357186419129265), (2548, 0.04356228100111129), (1457, 0.04355252771218463), (642, 0.04354949301526096), (607, 0.0435390202160343), (3475, 0.04350889071246017), (4516, 0.043490097998777025), (3234, 0.0434899891480456), (4628, 0.04335605231033947), (1762, 0.04335535107040129), (191, 0.043349303255539755), (1411, 0.04334921403640348), (1924, 0.0433286243811361), (3912, 0.043266473573458857), (1224, 0.04323174565588451), (4074, 0.04320036977553205), (287, 0.043166806693521784), (4391, 0.04308182448513833), (285, 0.0430394442798996), (2421, 0.04298633352666037), (3932, 0.04298401645189298), (3091, 0.04296758322562794), (2193, 0.04295424469049883), (4624, 0.042945716305831265), (2100, 0.042853536451898856), (2297, 0.04283912159849097), (2107, 0.04282308576740042), (4155, 0.04277297670549251), (1194, 0.042754454268816786), (1802, 0.04275168622027359), (202, 0.042745489232818484), (2680, 0.0427350255376139), (4183, 0.04271075778721824), (2013, 0.04270449816063906), (1450, 0.04267921893601331), (2320, 0.04265352764540174), (3976, 0.0426130033659475), (2213, 0.04259172907920664), (428, 0.042568833525135276), (192, 0.04256329599930791), (3298, 0.042537802871515804), (2579, 0.04251157483592706), (2725, 0.04248618279076512), (862, 0.04247793342909302), (4150, 0.042472902012296365), (3147, 0.04245804066082199), (4535, 0.04244976788213853), (1581, 0.042426896674386635), (3856, 0.042425102880550646), (356, 0.042406064408814455), (3200, 0.04236272557873385), (2409, 0.042359489994883995), (3677, 0.04234943078839708), (729, 0.042292106673581915), (3457, 0.042279676036079704), (4319, 0.04225691594299607), (86, 0.04215368402795401), (787, 0.04212066787275776), (2371, 0.04208210996982847), (4536, 0.04207178635046378), (101, 0.042058642060742044), (1622, 0.04204332172351979), (432, 0.04203820012929218), (4511, 0.04199832163490912), (1586, 0.04197316361036592), (2169, 0.04194474736319834), (4541, 0.041928715674853984), (362, 0.04188703169700994), (1234, 0.041868330358191826), (1259, 0.04186380909300837), (3741, 0.041832761942385915), (3551, 0.04182905658088241), (4695, 0.04178454874398189), (1118, 0.04173536818910429), (4028, 0.0417234733045697), (1781, 0.04171148838790827), (3705, 0.04165466739149689), (1557, 0.04164408670165481), (1659, 0.0415522112208614), (4564, 0.04153465657621692), (4038, 0.041477604486018727), (1254, 0.041397413207956535), (2996, 0.041375062385232406), (479, 0.04136602077373934), (597, 0.0413543866978208), (3073, 0.04131604616390014), (463, 0.041312119429428265), (1775, 0.041255376032481875), (1841, 0.04123703743536641), (348, 0.04122590225297962), (2760, 0.04119174663909519), (3614, 0.04118805299482624), (3360, 0.0411739769166318), (2739, 0.041152365617145234), (3518, 0.04112162453212314), (4288, 0.04111963321389683), (3736, 0.0410994430535235), (282, 0.041096512273039065), (1874, 0.04108221645505031), (1491, 0.04108107845665102), (3237, 0.04094278021276139), (2779, 0.04093982328277447), (728, 0.04090601002572548), (2281, 0.040880658400846384), (657, 0.040852877469026966), (1173, 0.04078729710103388), (248, 0.040766356694718904), (3014, 0.04071305497917313), (643, 0.04068421253704911), (3825, 0.0406630569196913), (343, 0.040655598966936865), (2527, 0.04064838692182392), (4504, 0.04063327394266022), (2036, 0.040624847782755207), (297, 0.04061167948095922), (2084, 0.040593254238536956), (3980, 0.0405899013027272), (3589, 0.040589739457447954), (3070, 0.0405369759873898), (2637, 0.04052391753862137), (2212, 0.04050231499475429), (4130, 0.04045952169158147), (4594, 0.040456976306347266), (1113, 0.04042525319937484), (1204, 0.040419836755086896), (203, 0.04041460135838952), (162, 0.04040428506362984), (2607, 0.04040279545308949), (2273, 0.04037650249001422), (1284, 0.04031541558144975), (866, 0.04028866019423737), (3409, 0.04027346618139417), (28, 0.040270771980375104), (966, 0.040254851798447976), (4471, 0.04021832408251219), (1074, 0.04020439843763961), (131, 0.04017941774311308), (1469, 0.04013642085905535), (2532, 0.04012195723281954), (220, 0.040103170727393445), (4369, 0.039981430103359375), (2819, 0.03995283896843782), (4015, 0.03990087541179705), (1095, 0.039842270716314236), (780, 0.03984161925963165), (3486, 0.03980356851679497), (1257, 0.03980289101242003), (3661, 0.03978954783661239), (3536, 0.03978927354377262), (2088, 0.039735640160074144), (4350, 0.039691650473342055), (1304, 0.03960984719235941), (99, 0.03958099753933132), (1005, 0.039573450991028956), (1392, 0.03954421310879377), (4142, 0.03953651303239084), (2412, 0.03947668207648477), (2962, 0.039468669246587304), (995, 0.0394552454676093), (4479, 0.039438828004466964), (4213, 0.03938109932195667), (1418, 0.03938069549443309), (3907, 0.03935482108952427), (3168, 0.03935456729917633), (3265, 0.03931717572238494), (334, 0.03931205401337802), (258, 0.0392788536003659), (1454, 0.03925781431201697), (374, 0.0392484543669373), (4555, 0.03922886341456959), (4334, 0.039198835444052366), (3526, 0.0391864857849912), (4300, 0.03915101775822927), (538, 0.039119057459836175), (4470, 0.03910162591207072), (3426, 0.039078325133873354), (201, 0.03900331875974427), (840, 0.03899318609647935), (2321, 0.038965690708530676), (1231, 0.038959400792246184), (1175, 0.03893464237390565), (123, 0.0389226283856849), (3890, 0.038871658737835886), (481, 0.03886958284572979), (1549, 0.038811570438065456), (1217, 0.03877565458684714), (1792, 0.03869499929384626), (881, 0.038691879394732884), (1039, 0.03868887756386702), (1319, 0.03861051161769056), (1511, 0.03859190210450837), (4436, 0.03858229094203009), (1606, 0.03857673331866167), (2898, 0.038532170496658594), (4388, 0.038508152158842644), (2873, 0.03849112939176691), (1741, 0.03840543299251085), (1365, 0.03839184751964697), (427, 0.0383700455685176), (768, 0.038369358456965263), (911, 0.038369138462096025), (514, 0.03834505094312162), (1028, 0.0383402851514012), (4684, 0.03833286943856327), (867, 0.03831228410080911), (1522, 0.03830465725310103), (3403, 0.038291843786697304), (1002, 0.03828247887799358), (1223, 0.03825459500713242), (3977, 0.0381886095025223), (4218, 0.03817592682990434), (3529, 0.038151553459683366), (541, 0.03810477039976225), (1561, 0.03808336291096478), (1906, 0.03806692269465641), (1566, 0.038053279945568126), (1746, 0.038052926275823525), (172, 0.03804656537788816), (3284, 0.03804327505059579), (3456, 0.03804078584846134), (2436, 0.03798337914702915), (1688, 0.037964635317508946), (618, 0.03796122727501287), (1394, 0.037956996306936636), (4609, 0.03794625411398331), (1702, 0.037933359119058714), (3478, 0.03792639466085115), (2316, 0.03787347800679962), (686, 0.03780788523309721), (2933, 0.03777931664092547), (1709, 0.03775668280727438), (460, 0.03775623137748366), (4018, 0.03774709701962031), (3308, 0.03773925736759555), (4411, 0.03772580437819224), (2792, 0.03767978640197503), (1495, 0.03767271706923875), (144, 0.037647354617029546), (3864, 0.037640372002351444), (4289, 0.03763391930867589), (2814, 0.03758673569179043), (617, 0.03755705066973159), (1565, 0.0375387813059047), (591, 0.03749647457739741), (4314, 0.03745807717522269), (1525, 0.03742023449386315), (898, 0.03736319967739689), (4188, 0.03736276374231897), (3173, 0.03735038289724242), (1756, 0.03733143333222908), (3375, 0.0373287802032207), (2211, 0.037321682501044944), (2001, 0.03731469492364785), (2408, 0.0372917478561743), (4488, 0.03728179691760428), (1011, 0.0372777060274152), (169, 0.037173918346319675), (3397, 0.037172994299134524), (4121, 0.037099410031566124), (115, 0.037089282525699145), (1668, 0.03708587914401514), (2014, 0.037018859774982045), (788, 0.03699831176324056), (846, 0.03699786481408427), (2319, 0.0369859707475621), (55, 0.03694613554763754), (3778, 0.03694265450028433), (2492, 0.03692012430499054), (659, 0.03691529434137027), (1982, 0.03689009589019513), (1613, 0.036886416774416335), (4132, 0.03688316356049194), (2809, 0.03683610760410469), (302, 0.03683466844179592), (53, 0.03681138313900987), (2017, 0.03675328891792067), (4510, 0.036722701872198116), (1951, 0.03667471378366245), (184, 0.03667268124751378), (4347, 0.036648569090913324), (1471, 0.03663923643867551), (2224, 0.03660957722693542), (111, 0.03660744748504929), (935, 0.03660449907574157), (546, 0.036604393815463154), (1366, 0.03659770260889195), (2461, 0.03656868629912669), (2813, 0.036564425738971035), (98, 0.03655681874736587), (262, 0.03655005575019824), (4342, 0.03653544800116901), (4487, 0.03646973084897955), (2535, 0.03646654916150679), (981, 0.03646131408492574), (4596, 0.03641237768478355), (2127, 0.03638181511798045), (2117, 0.03637941906701791), (2784, 0.03636252266385576), (4542, 0.03634045007151588), (1825, 0.03633761820774122), (689, 0.036324735024200444), (214, 0.03631770141976023), (2487, 0.03629077322885253), (1461, 0.036265085834680105), (4283, 0.03625353860394884), (3840, 0.036247338604126995), (3498, 0.03616316774045941), (973, 0.0361480086127941), (2274, 0.036142082784738835), (4085, 0.03609729243287349), (1263, 0.03605270557668862), (4271, 0.03604491766291048), (4452, 0.036019306324289256), (1412, 0.036002183793428025), (2731, 0.035976746870952446), (4169, 0.03596988529145279), (3938, 0.03596933807206397), (2009, 0.035939493766996546), (301, 0.03592061870376013), (4462, 0.03591708533354759), (967, 0.03590428031320879), (767, 0.035864059924099925), (1624, 0.03583427670129449), (2780, 0.03582385317526185), (1782, 0.035818410402752514), (1998, 0.03578539167583847), (2977, 0.03577808228029536), (588, 0.03574850073011193), (1518, 0.03572988791026929), (1614, 0.03572103560670935), (4077, 0.03567294811015054), (2207, 0.03564544143910741), (847, 0.03563853133538515), (2534, 0.03563561535526671), (1779, 0.03563396541474664), (949, 0.0356283843231406), (2422, 0.03561552419501687), (2350, 0.035579905906979445), (4050, 0.035552856289778854), (2031, 0.03551262718168148), (2045, 0.035511572970626265), (530, 0.035450612185074094), (1747, 0.03544326451283198), (4008, 0.03539581466142523), (2656, 0.03536921087387326), (2277, 0.035365476879737116), (3238, 0.03535736127806077), (2276, 0.03530988390977925), (2876, 0.03529177946622753), (2540, 0.03528021565591148), (237, 0.03526016493596603), (979, 0.03521509808402326), (1974, 0.035199639702813715), (1599, 0.03517275739039606), (154, 0.035142969621951126), (2367, 0.03512113550198847), (724, 0.03511492516366535), (1487, 0.03510788214695969), (1823, 0.0350961214725876), (1029, 0.03504083963007382), (4003, 0.03501513298380365), (3010, 0.0350030380395694), (161, 0.03494218668840318), (620, 0.03493446031911886), (4006, 0.03491133891026252), (1897, 0.03490750717697899), (233, 0.03489784834955272), (3557, 0.03487652810715292), (3253, 0.03485623563601481), (4264, 0.034844138266951784), (907, 0.03479465347401128), (2668, 0.03471819192845213), (1957, 0.03470792767590231), (2951, 0.03470490255664224), (2203, 0.03464707509640516), (3386, 0.034627985598595985), (3603, 0.034613953499636356), (2807, 0.03459987126415526), (3745, 0.034599863100282416), (2609, 0.03458874353802425), (4721, 0.034525782762026946), (249, 0.03451354799647002), (798, 0.03445795325417551), (4176, 0.03443088576647623), (1512, 0.03442133174067681), (3394, 0.03438079662402887), (613, 0.03437751056448945), (3407, 0.03436526635141661), (2653, 0.034338938879373684), (2846, 0.034323304434829484), (4200, 0.03431392944743136), (4399, 0.034305080515359056), (4619, 0.034286719406668525), (4588, 0.034243777741892696), (1850, 0.034210974043783114), (699, 0.0341614575578441), (1799, 0.03414378759563846), (785, 0.03414315155736719), (2830, 0.0341346600526377), (1245, 0.034131478614706896), (3996, 0.03411200376580619), (1973, 0.034106150820312216), (49, 0.034068839411434605), (635, 0.03403574948020352), (3172, 0.034016513458743694), (886, 0.034005573658279546), (2698, 0.03399144358020746), (1086, 0.033984409675585255), (1516, 0.033966739347580724), (1888, 0.03394555297557185), (1635, 0.03394109543094906), (3395, 0.03389959698988781), (3515, 0.03389369468163119), (1615, 0.03388017336160917), (4089, 0.03385027379842455), (3968, 0.03383979203884471), (227, 0.03382990074818328), (3005, 0.033817472901972165), (1911, 0.03381546869812607), (2214, 0.033787733092088365), (2236, 0.03378431171544785), (2712, 0.03378291876184717), (346, 0.03376923938468815), (511, 0.03374388723939415), (2104, 0.033625951884662095), (2691, 0.03362559032343266), (6, 0.03362337142952709), (1647, 0.03362211614117125), (623, 0.0336198606165508), (1584, 0.03359531407988946), (2221, 0.03357968778396099), (529, 0.03355549532674688), (2511, 0.033547591852002644), (1479, 0.03353936055511138), (3906, 0.03353207059344762), (3045, 0.03352365942600852), (707, 0.03350800883061194), (2640, 0.033465821445175056), (1324, 0.03343803196944859), (4210, 0.033376372493511254), (4498, 0.03336079384214523), (4259, 0.03334939041978928), (2840, 0.033320058986487475), (3671, 0.0333176857279635), (1812, 0.033301996651611786), (2486, 0.03329175924886218), (2564, 0.033252314701533836), (2265, 0.033243464096841445), (1968, 0.033225968963076224), (3144, 0.0331952506783265), (3317, 0.03317176319886669), (2493, 0.03313456976165002), (4448, 0.03313307445040704), (3218, 0.03313266473033296), (4652, 0.03312750553462948), (2522, 0.033119458141684446), (2441, 0.033114531543046034), (349, 0.03305484720628376), (2546, 0.03302776005678702), (3241, 0.03302409228860999), (299, 0.033002889166316524), (3154, 0.03296677602693708), (2632, 0.03294904143955217), (803, 0.032878985573340576), (79, 0.03286580868184337), (1542, 0.03281864111803645), (3118, 0.032812579212524645), (769, 0.032808283590993886), (1453, 0.032805992849135816), (2287, 0.032797325141551925), (4002, 0.03279368885172192), (2167, 0.032789609017588206), (523, 0.032770761795441715), (3644, 0.03276571989356546), (3963, 0.03275099028886108), (1666, 0.032741724748840136), (2672, 0.03268248670363651), (322, 0.03267666008493493), (974, 0.032649429400477874), (2633, 0.032627169871610094), (1396, 0.032601742387313414), (2046, 0.03257800778134082), (156, 0.03257090765102276), (4486, 0.0325641719989672), (2689, 0.03251815109592286), (940, 0.03249893566582444), (1908, 0.03249215474589776), (3516, 0.032491114024492035), (332, 0.03248936261422587), (2039, 0.032487607249723965), (4658, 0.03243912920432129), (1422, 0.03241854184493449), (3153, 0.032411360481797956), (1054, 0.032346421542199154), (1768, 0.032329157216975254), (2835, 0.03231274525055836), (3019, 0.03223317171461924), (923, 0.032192538725565406), (3868, 0.03218304482908319), (3220, 0.03216598982849635), (2791, 0.03212544214205714), (29, 0.03209160357055785), (3499, 0.0320826823002942), (924, 0.032051510185351545), (2850, 0.03202739092245923), (962, 0.03199486954567211), (3121, 0.031991298746398736), (2122, 0.03198560515857564), (1527, 0.031961340982599486), (410, 0.03195504398330047), (2309, 0.03194563218326715), (4286, 0.031916947289741704), (22, 0.03190460522891306), (3915, 0.03190397096862127), (331, 0.0318799557483237), (4604, 0.031868825818733924), (4007, 0.031852400910943046), (4327, 0.03183673045042694), (956, 0.031815178437670906), (2258, 0.03178264333541726), (1358, 0.031769097396484786), (4069, 0.03172319478386888), (4589, 0.03171014780397897), (309, 0.03169715499003829), (4708, 0.03166919583937136), (204, 0.03166373750422274), (484, 0.031662258130685385), (782, 0.03163607635989986), (3646, 0.031623717991630926), (345, 0.03161368930270231), (1464, 0.03160314529351575), (399, 0.03158017602223937), (221, 0.0315678213035532), (3082, 0.031557829324724285), (3071, 0.03150442261694395), (2427, 0.03146933520093069), (2269, 0.03144221780945032), (4757, 0.03144141476475778), (9, 0.03142442817063111), (107, 0.03140357886054654), (173, 0.03140341230421844), (0, 0.031389805561765814), (619, 0.031367990296451674), (1321, 0.031349884749880465), (1492, 0.03133867771949414), (2058, 0.031280709354104284), (2899, 0.03125020951020202), (455, 0.03124810971218499), (3858, 0.03123634208790276), (2626, 0.03121315554996746), (100, 0.031179005483521004), (241, 0.03117386965350651), (4345, 0.031153412985791946), (1208, 0.031143795281209086), (3461, 0.031081494748929173), (122, 0.031072649752047626), (4435, 0.031071581227642114), (2740, 0.031064235930700543), (1533, 0.031019442339978536), (3133, 0.03101601251371737), (3601, 0.03096405491080833), (2177, 0.030960681238925893), (4670, 0.03095475589971672), (938, 0.030949871979989958), (1793, 0.030900337177258742), (456, 0.030849506257636425), (1539, 0.03082293360319737), (2940, 0.030807302207478016), (4269, 0.030776482430484853), (4324, 0.03075273747409567), (3525, 0.030740043106667114), (2447, 0.030738334323814676), (4125, 0.03070503698688145), (1981, 0.030698865609356966), (2645, 0.030688430872532556), (2699, 0.030671011645123467), (1996, 0.030663673911307684), (3658, 0.030659968652046617), (2037, 0.030655988038350596), (978, 0.030617830457996723), (397, 0.0305921727383797), (929, 0.03059214040875062), (4351, 0.03057486151466889), (2870, 0.030555669103972845), (3512, 0.030543732800938393), (828, 0.030530342907792912), (1201, 0.03052118599969155), (2229, 0.030510658127723297), (2777, 0.030505653008248777), (166, 0.030505349368519452), (3772, 0.030489117754875457), (2978, 0.030458850958655956), (2448, 0.030433445068210656), (928, 0.030398728824055095), (4332, 0.030391543037549307), (3164, 0.03037092062943242), (4255, 0.030364418335704583), (2285, 0.03036191867382944), (1679, 0.030352417739895308), (2863, 0.03032716489097264), (2834, 0.030306416860476706), (3626, 0.03028428684949164), (4280, 0.030274241263949765), (2460, 0.0302658972908769), (1382, 0.03026442585210137), (4699, 0.030260006441923348), (586, 0.03024859214063402), (384, 0.030193485210942752), (3577, 0.030189254032633638), (2062, 0.030185985105559025), (3271, 0.030164131602601556), (2821, 0.03013784654531564), (616, 0.03011981168584335), (691, 0.03009070495270202), (1961, 0.03003902050346182), (491, 0.030010206016092576), (2338, 0.02999730078449311), (4459, 0.029991161548724363), (4551, 0.02998261121784631), (2799, 0.029957658151018633), (1896, 0.029956265143583787), (4009, 0.029914171536295463), (1950, 0.029900151726806143), (1718, 0.029884586954036903), (810, 0.02987277450588699), (1215, 0.02986280473274923), (2892, 0.02984825142859992), (543, 0.029831215432673502), (2202, 0.029825733874894768), (109, 0.02982255143972254), (3246, 0.02979368078612597), (3327, 0.029780928643500494), (800, 0.0297786607843498), (1923, 0.02975495305342589), (2652, 0.029745934649385602), (3665, 0.02973619576944343), (365, 0.02972336658239995), (683, 0.029711668557797367), (4252, 0.029707449281314472), (2032, 0.029705168926944032), (2174, 0.02970040512564375), (3063, 0.029695047093333066), (3179, 0.02969433685804358), (424, 0.029663060691212623), (4403, 0.02965058311639577), (3433, 0.029646894664483208), (425, 0.029637324686911222), (105, 0.029628976436649676), (3941, 0.029618114692626547), (1886, 0.029610166771990066), (1136, 0.02958124599294487), (4333, 0.029566883531240366), (1232, 0.0295598422013159), (2334, 0.029532329622234336), (1523, 0.029516943775718743), (1555, 0.02950815691355877), (2610, 0.029503067389901827), (1751, 0.029501600584154943), (2841, 0.02950138172413782), (1893, 0.02944467128068831), (2144, 0.0294437475960988), (1997, 0.029434609085452965), (1803, 0.02943150861323729), (256, 0.029431364469359046), (763, 0.029430887363590785), (1619, 0.029401978583045774), (1689, 0.02939059602928929), (3166, 0.02938191129685222), (3283, 0.02935847538111324), (869, 0.0293334767611117), (575, 0.02930469697458723), (2984, 0.029299054008970357), (2004, 0.02928281327461719), (4140, 0.02927329613522243), (551, 0.02921423322572109), (4056, 0.02921416637745631), (3876, 0.029202777148472754), (211, 0.029180089257160292), (3547, 0.029176377864192148), (3936, 0.029173622831681734), (440, 0.02915512914019763), (904, 0.029154346844714362), (225, 0.02915348910713203), (1096, 0.029150484811419478), (1482, 0.02915014795147314), (291, 0.02914434783426599), (2237, 0.02913411813729172), (2894, 0.02913264132608954), (4321, 0.029113153671778462), (874, 0.029098428145820823), (1965, 0.029096030677476025), (3197, 0.029078683702551643), (3233, 0.029049947584001812), (1935, 0.02904593146707421), (4051, 0.02903875935613636), (3270, 0.02902374950500333), (583, 0.02900919985120798), (4431, 0.028973333278932242), (2838, 0.02897258423274568), (3818, 0.028971118826948604), (2820, 0.02896555156413163), (469, 0.028948601955769346), (4203, 0.02894217791285031), (775, 0.028937215425178207), (568, 0.028913528217961625), (1658, 0.028912059232507895), (19, 0.028909640014530315), (4190, 0.02890317178627466), (957, 0.028871556793070335), (3464, 0.028869123246326425), (742, 0.028845461823842906), (4344, 0.02884331215293235), (3712, 0.028771563090518933), (752, 0.02876707779082014), (1229, 0.0287297834284946), (2327, 0.028712503129234755), (3730, 0.028701445163733956), (1359, 0.028690055963624048), (2219, 0.02866911813566058), (445, 0.028652339569785967), (1093, 0.028649580414670254), (217, 0.028628859733557693), (4515, 0.028626025352876356), (3150, 0.02859919530519412), (106, 0.028594437622485425), (4298, 0.028588821637410018), (451, 0.028576092562018228), (3367, 0.028552823644681587), (2665, 0.02854235309846781), (3143, 0.028540712624553145), (3022, 0.028530990221325866), (408, 0.028502059964978316), (1501, 0.02847467956152079), (218, 0.028444159245155698), (1105, 0.028429075847059757), (2322, 0.028403716254971154), (472, 0.028403691397072356), (3564, 0.028402413242559876), (3931, 0.028349627982043876), (1662, 0.028334301537473683), (215, 0.028316578440947086), (3001, 0.028313698074063337), (38, 0.02830376930311713), (2068, 0.02828321452029613), (3260, 0.02827937209351232), (61, 0.028277903348624227), (1390, 0.028247399036747202), (3226, 0.028233511575253185), (1018, 0.028232022353484564), (1865, 0.02821754367651733), (502, 0.02819779739184668), (2985, 0.02814473515526905), (2069, 0.028141427078692542), (402, 0.028136244965485405), (1636, 0.028135622392167645), (1952, 0.028132015718305012), (4055, 0.028118241615854096), (640, 0.028078591022309658), (1101, 0.02807448566721568), (2398, 0.028054950898392498), (102, 0.02804512964150038), (3822, 0.028035266260081224), (4149, 0.028017784711306587), (1617, 0.028011311151527607), (1928, 0.027999895000709263), (565, 0.027966568689789514), (2722, 0.02796257364350407), (415, 0.02795426612126471), (3299, 0.027952244439351258), (3568, 0.027936755032505978), (1575, 0.027918484249283428), (3227, 0.027918208890955077), (2895, 0.027905593937525137), (1517, 0.02788997212783276), (4194, 0.027885235418069892), (441, 0.027883338984642368), (1144, 0.027858688739250424), (2512, 0.02784828172866196), (908, 0.027827675201060317), (897, 0.027799536933151164), (2845, 0.02778542971089088), (2444, 0.027785382298234768), (3214, 0.027718270244074188), (1562, 0.027697169493035006), (4722, 0.0276934349237415), (3259, 0.027689588393513626), (1310, 0.027664467551130046), (1362, 0.027658222283871638), (1827, 0.027652606809639015), (1551, 0.027636646640741377), (2064, 0.02762927153726491), (129, 0.02760968994912701), (4013, 0.02758247556634482), (3914, 0.027574919150349562), (4539, 0.02756027411615639), (948, 0.027525256093952764), (18, 0.02751282591387441), (3716, 0.02750933902457184), (454, 0.027484024725623266), (687, 0.02747795142152276), (200, 0.02745854218042393), (2061, 0.02744020891205313), (4171, 0.02741961319102112), (1873, 0.027372689293339882), (3193, 0.027364046219413695), (2763, 0.02735759300264606), (4472, 0.0273491503410066), (449, 0.02733765988948148), (594, 0.027333543841728005), (3028, 0.027287573706288773), (216, 0.027285357403019378), (2268, 0.027271532298975103), (2072, 0.027271497771702152), (528, 0.027253758830433742), (2928, 0.027229766032139745), (78, 0.027214096506513), (1191, 0.027198919771658964), (2805, 0.02716713838576892), (3845, 0.027149089984735954), (3829, 0.027133909967898877), (4646, 0.02712978019890902), (690, 0.027129635457851062), (401, 0.02712773314224609), (4084, 0.027115087416568054), (696, 0.02711143752194871), (1473, 0.027110859061488416), (749, 0.027108358719600552), (4159, 0.027102110937553194), (3819, 0.027091059912650435), (395, 0.02707697321692232), (545, 0.02705320521056912), (3780, 0.027050225300720744), (3388, 0.02700276854157293), (3111, 0.0269816339957243), (758, 0.026960724701386198), (692, 0.026944056978275985), (4565, 0.026926529378528068), (2789, 0.026910774689940756), (3902, 0.026891011369423692), (1275, 0.026888581408372022), (1480, 0.026879011345647418), (2730, 0.026859518111353054), (4478, 0.026857776270596278), (3316, 0.026836871334503097), (3135, 0.026775504465004447), (2210, 0.02675879226359011), (1742, 0.0267515573916246), (3293, 0.026726993325440616), (1115, 0.026709288917105507), (4465, 0.026707323939603723), (1700, 0.026697397200394258), (1345, 0.026693889802810674), (2259, 0.026686139868787227), (4600, 0.026684511582671076), (741, 0.026648118641946297), (778, 0.0266435223072837), (33, 0.026641768971019893), (2133, 0.02659497541386457), (4395, 0.02659215252075419), (2111, 0.026587973637334283), (60, 0.02658524861981775), (1026, 0.026583718543313952), (2992, 0.026583661621899415), (177, 0.0265757982342303), (1559, 0.026548771371649217), (1288, 0.026530594503452493), (3579, 0.026527834308799444), (3826, 0.026524054407889838), (3752, 0.02648435831964729), (960, 0.02648104545473913), (939, 0.02645671247004896), (4109, 0.026433354609787803), (2252, 0.026423814345365358), (1221, 0.0264235789322057), (4748, 0.026411510422774703), (159, 0.026408313104601837), (2968, 0.026397522129219583), (2562, 0.026374422813475566), (4312, 0.026348783229526888), (3152, 0.026330720953691482), (1496, 0.02632375115790717), (1179, 0.02631486366566898), (3342, 0.026272068930132064), (2568, 0.026270651401039256), (3563, 0.026269659871515475), (3910, 0.026168100569174776), (577, 0.02616434526163851), (2859, 0.02615701830745215), (2936, 0.026127050016787143), (3696, 0.02612696345543506), (1143, 0.026115780974481764), (2603, 0.02610201802131372), (1006, 0.026085738367936064), (3124, 0.026081373709003965), (3228, 0.026067455029553384), (2071, 0.026060832907137364), (3831, 0.02604513939833402), (2622, 0.026025847012307406), (590, 0.026025798888059927), (4732, 0.02600879291630525), (3222, 0.02599234603955276), (1744, 0.02595887843268231), (4265, 0.02595459817302693), (1376, 0.025916679006130594), (1114, 0.025909508597782648), (4382, 0.02590683753499409), (3103, 0.025866375657777895), (1994, 0.02584844961997763), (3122, 0.025845018197512115), (2920, 0.025836572323485997), (1001, 0.025820827272959635), (1790, 0.025781881254967866), (2318, 0.025739987377636827), (1140, 0.025736623867621), (3841, 0.025730915719229315), (2176, 0.02572495344995765), (1987, 0.02571414147631627), (1379, 0.02570741947740495), (772, 0.025677701483784912), (4297, 0.025670472959554852), (2205, 0.025634333643751103), (63, 0.025623127490841384), (3541, 0.025616791614499125), (3815, 0.025611794780168843), (3867, 0.02560551779023828), (1914, 0.025600384934642815), (3569, 0.025582506032756403), (2908, 0.025580774969606545), (4602, 0.025567529326584994), (1398, 0.02556642733159193), (3586, 0.025560706068655115), (4046, 0.025557917684615513), (338, 0.02555777915561256), (3634, 0.025556787445871695), (4094, 0.025554776243519827), (1156, 0.02553799209892659), (1286, 0.025517121048636383), (2055, 0.025494958632615684), (2348, 0.025493526112874847), (890, 0.025477047249765707), (746, 0.02546258534795988), (2339, 0.025442439602555822), (3076, 0.025435453854546198), (1851, 0.025431858002401633), (1041, 0.02543064564555203), (2156, 0.025387386800860914), (4669, 0.025380412295237895), (3743, 0.02537558091972747), (722, 0.025372857913529244), (1364, 0.025365235056473527), (3783, 0.025343623946112708), (1875, 0.02533559896538393), (1808, 0.02532460441947458), (1863, 0.02532179509295109), (188, 0.02531565461225309), (3650, 0.025288681098233068), (1550, 0.02527978825078528), (2587, 0.02525366104970664), (2862, 0.02524838306509547), (2234, 0.025240867563644517), (3598, 0.02523842468379418), (1521, 0.025230875377223405), (2382, 0.025217618234708906), (4157, 0.025209256083111097), (1402, 0.025205082211104277), (3157, 0.025183592158381472), (988, 0.025163679179845633), (1737, 0.025117431638701237), (3633, 0.025088741696828155), (1124, 0.025084069183779464), (702, 0.02504209080361041), (3313, 0.02502619151526295), (4217, 0.025005503960534872), (901, 0.025004022701456963), (638, 0.0249687472660513), (4262, 0.024954695361942232), (1738, 0.0249250931795083), (3594, 0.024923300523611792), (2839, 0.024921759128729407), (1220, 0.024901532591477142), (857, 0.024890476359593138), (477, 0.024867182861111104), (3303, 0.024859092542958577), (1654, 0.02481376515627346), (1226, 0.02481141251602411), (1648, 0.024794769911743196), (2924, 0.024786923035067465), (1664, 0.02478616799382863), (2525, 0.024782663626989793), (3279, 0.02477975903193016), (4093, 0.024779682293015144), (3533, 0.02476981836821818), (261, 0.024766914661297233), (2597, 0.024732149264079163), (2022, 0.024723637963552432), (2671, 0.024722382613322588), (3408, 0.02471603571844964), (4379, 0.02470653364821772), (2311, 0.02469816067470026), (3959, 0.024697974530130118), (1572, 0.02469748706877426), (688, 0.024680090800389458), (1403, 0.024675385697808857), (3401, 0.024672823280656186), (1486, 0.024669900543061358), (3748, 0.02466812629162557), (3812, 0.024656113986019704), (1377, 0.024600119173301696), (2793, 0.02459695951528975), (4033, 0.024584288383255132), (1528, 0.02458314563631965), (918, 0.024579202892145546), (504, 0.024575862335183437), (3199, 0.024546403222491065), (1583, 0.024541807385740536), (4481, 0.024526586569994464), (1170, 0.02445567922697408), (426, 0.02443561076389236), (3318, 0.02441622980411713), (1439, 0.024410176396893937), (2638, 0.024405541354853014), (128, 0.024398798332991606), (2615, 0.024389605900770037), (3027, 0.02437906879072361), (4354, 0.0243777355608068), (171, 0.024367137562380056), (2128, 0.02435473917877884), (260, 0.02434804167829535), (952, 0.02434153117444732), (2065, 0.024340073655036966), (1384, 0.024303899257332985), (4525, 0.0242978774282318), (4419, 0.024293716232778956), (76, 0.02428414961666267), (3681, 0.024267845650506457), (62, 0.024264428856520637), (2482, 0.024259147548995517), (4064, 0.02425089362667618), (1988, 0.024223915434728245), (373, 0.02420969467911344), (2519, 0.02419994820421143), (4543, 0.024196788765201146), (409, 0.024172498521579863), (4420, 0.02417222164455224), (448, 0.02416948437849041), (1459, 0.02414002712759975), (4360, 0.024095374395217237), (1375, 0.024079053937054576), (2724, 0.024073951227710118), (4597, 0.024037102331688705), (2560, 0.024032721459715134), (1880, 0.024026963203693075), (955, 0.024001697379108646), (3127, 0.023990251746422386), (3454, 0.023989716892901383), (4158, 0.023980105915832287), (1446, 0.0239273120581428), (1608, 0.02391371680716622), (1534, 0.023913136678849253), (4563, 0.023895842752162076), (1722, 0.023887042000078566), (2240, 0.02387912461629434), (2385, 0.023877900110184112), (3445, 0.02387603143892831), (3814, 0.02385418695657385), (4679, 0.023818225554929226), (3842, 0.023808755683745478), (1821, 0.023789848252188203), (3042, 0.02377220019202363), (3489, 0.023771252099943806), (1092, 0.02376149714418096), (243, 0.02375551584589699), (352, 0.023744387322573), (1652, 0.023741533235408566), (2706, 0.023737499551413042), (145, 0.02372964189959103), (2112, 0.0237078281324039), (3282, 0.023701046365277582), (3991, 0.023690693439099943), (1339, 0.02368083969323643), (3004, 0.023626392275099876), (411, 0.02361223058208988), (1103, 0.023601468058821098), (3928, 0.023587446902274066), (4719, 0.023562796193366778), (65, 0.023552842694651098), (2303, 0.023548676761953), (4501, 0.02354357540221753), (4263, 0.02354021431076169), (2812, 0.02353086861405366), (4257, 0.023521069380295547), (3286, 0.023518941192011443), (2416, 0.023501858721495017), (1197, 0.023491579736897077), (1214, 0.02348953351066173), (1743, 0.023484079393677578), (1043, 0.023473106815363357), (2029, 0.023466845129553368), (3211, 0.023456834847298012), (3970, 0.023455843515006757), (2410, 0.023446607994749256), (2481, 0.023425711540157323), (604, 0.023402618090685872), (3446, 0.02338147945315061), (1750, 0.023377436265240605), (497, 0.02336454039785022), (36, 0.023348407579821488), (1755, 0.023337194516572644), (2354, 0.023336760194798207), (883, 0.02333508815521511), (1845, 0.023331131879288113), (1895, 0.023330865802440107), (2969, 0.023330707992324076), (3459, 0.02332555312538168), (2817, 0.023310187718954736), (1171, 0.02330269288222091), (2182, 0.023294525488945755), (3470, 0.023286265250222225), (3713, 0.023285190231292108), (2304, 0.023284611310190963), (2086, 0.02328283645550489), (783, 0.02326513962012053), (547, 0.023261144678622163), (3506, 0.02325841095280678), (1759, 0.02323404330352776), (178, 0.023232982950562007), (3204, 0.02322692947955695), (2571, 0.023222907396940325), (1645, 0.023220825536140112), (1046, 0.023193889991362793), (3889, 0.023179144701061884), (527, 0.02317661060833741), (3823, 0.023058601814101957), (2397, 0.02305675992057272), (3667, 0.023056478568630953), (2497, 0.023050256092108187), (1010, 0.023038972612626628), (1451, 0.023036203834712554), (1369, 0.02302357612911214), (3261, 0.023011550365981917), (417, 0.0230052171334187), (2280, 0.022982057637638664), (3803, 0.022971702693577675), (1199, 0.02296098994206646), (2624, 0.02295798485829911), (112, 0.022957183883449334), (319, 0.02295306431059221), (3474, 0.022932233782589597), (4071, 0.022920514180012046), (3130, 0.02291760189854488), (4328, 0.02291053451947579), (1308, 0.02290764176577089), (537, 0.02289428521038531), (2629, 0.02289179038322016), (3272, 0.022878382710236903), (279, 0.02286870399317167), (1881, 0.022864922841977615), (1816, 0.022850622194516026), (3225, 0.022830420969638644), (1585, 0.02281340120603989), (2226, 0.022786521347016545), (3616, 0.022779707024329104), (3580, 0.022730141318756253), (2381, 0.02269603159169828), (3264, 0.022680755495318283), (2283, 0.022675707993760178), (1784, 0.022662766857552027), (1855, 0.022658036996830527), (540, 0.022634507923468702), (15, 0.022629595606704064), (1354, 0.022623631460243963), (2544, 0.022617395135647065), (3549, 0.022608269093297537), (708, 0.022597281470730916), (306, 0.02259582301757729), (3711, 0.022595700179741197), (1075, 0.02258264152115705), (2790, 0.022572992938919734), (4524, 0.022568725840753902), (293, 0.02253785573464735), (1249, 0.022537243155233064), (971, 0.022501373132201304), (2431, 0.02249904816361023), (2007, 0.02249391162035085), (1771, 0.022483255889001737), (1502, 0.022470133818208442), (1277, 0.02246269728647371), (3926, 0.02243696609684087), (3161, 0.022417887557941808), (2368, 0.022413412984032426), (3746, 0.0224118956228774), (3108, 0.022409824021839803), (3487, 0.022405354636683028), (3033, 0.022388275867411052), (2619, 0.02235182593810684), (110, 0.02234212016286994), (1868, 0.022331924771520545), (369, 0.0223160372374837), (1656, 0.022315533670295856), (4463, 0.022314289330255775), (1991, 0.022311114339935594), (2687, 0.02230434400671533), (3232, 0.022279408325582988), (4727, 0.022275643214456745), (1238, 0.02224826627017239), (52, 0.022242877326562504), (2159, 0.02223707435223861), (1780, 0.022232692040460376), (170, 0.022220648896413852), (3689, 0.022217676684012526), (1484, 0.022193923025802767), (3384, 0.02217225665633796), (3774, 0.022161148160045004), (1986, 0.02215398027031292), (1256, 0.02215152901938024), (2688, 0.022138741407091152), (4290, 0.022134657806682927), (4706, 0.022129570117508844), (152, 0.022109463719952708), (1819, 0.022100831257669384), (2574, 0.022098181097546646), (2346, 0.02209782219945243), (3846, 0.02209706506066917), (631, 0.022085406021131612), (1408, 0.02207962139152168), (2818, 0.022056912261561604), (340, 0.022039607303174752), (3654, 0.022022158858097753), (3979, 0.022015215344053977), (1817, 0.022008867714913855), (3132, 0.021984418825158246), (2591, 0.02195320372914111), (1804, 0.021927025524536663), (885, 0.02191098291913225), (1590, 0.021902532573706605), (3229, 0.02190050297966404), (3201, 0.02185982136199211), (4336, 0.021854469722272188), (3643, 0.02182137589276121), (4136, 0.021813505192547135), (1153, 0.021811810943231404), (3357, 0.021808450468375554), (488, 0.021801822803165054), (3538, 0.021795569636153783), (2911, 0.021792868589569296), (1393, 0.021783461104043143), (4293, 0.021780828231018668), (1595, 0.02175244617396322), (629, 0.021746629377238265), (1601, 0.021745099381310543), (2611, 0.021734725014564672), (2746, 0.021731177763961527), (4270, 0.021715592497762875), (1985, 0.021704836866628736), (209, 0.02167449201371437), (4591, 0.02167333266465223), (1267, 0.021655008039189506), (2109, 0.021652347917769075), (1107, 0.021644155153406897), (3134, 0.021642163467270818), (2738, 0.021617680564055004), (2389, 0.021608080126509742), (2056, 0.021586429273464332), (1067, 0.021569209094209132), (521, 0.021567667249644363), (2917, 0.02154750798093318), (1878, 0.02152559305323146), (4199, 0.021525369765347687), (3097, 0.02152313855077076), (64, 0.021499897039921737), (2188, 0.021494894025534096), (579, 0.021472173234037516), (2720, 0.021469631761736278), (562, 0.021464213843008957), (1580, 0.02144617438865855), (1605, 0.021431526769625057), (1526, 0.021406530390534258), (1567, 0.021379460078732555), (2332, 0.021378927373196407), (358, 0.021374719018545336), (386, 0.021359501736530444), (1678, 0.021357190506125973), (560, 0.021342608507999915), (1427, 0.021336646588237855), (2246, 0.02123827466584806), (4294, 0.02123744815174739), (312, 0.02123302451413608), (4146, 0.021231501238641058), (3044, 0.021216864959843103), (3444, 0.02120766707054831), (160, 0.021145343267716703), (275, 0.021120694314765508), (1314, 0.021119512643627963), (2465, 0.021109032784127763), (2300, 0.021096825754052386), (4685, 0.021088473244135902), (175, 0.021083535298245207), (1312, 0.02107088434047169), (3046, 0.021067432782952672), (508, 0.02106306946485937), (4182, 0.021054544056827253), (1387, 0.021046101147301093), (2539, 0.02103789988266165), (3637, 0.02102047766790589), (1112, 0.021016957366639756), (23, 0.021014751189773567), (870, 0.02100345542188565), (1177, 0.020986948678030637), (389, 0.020916018544659028), (2103, 0.020915568096461334), (3909, 0.020899943810812737), (872, 0.02089621716839547), (116, 0.020895996282477645), (2195, 0.020884403280410968), (2897, 0.020880637000193835), (4295, 0.020866098340728622), (2771, 0.020840678168606516), (292, 0.020840142495454544), (485, 0.02082791083792992), (1876, 0.020825304494853376), (4574, 0.02080984919958081), (4011, 0.020792991581477755), (2874, 0.020790592999493866), (1532, 0.020790218217632127), (2049, 0.020743687569078986), (1990, 0.020741979080683374), (1347, 0.02073697919715499), (3011, 0.020731501032937673), (3982, 0.02073054113245249), (4717, 0.020716693860551152), (3128, 0.020711216066890255), (422, 0.02069406341634443), (1261, 0.02069313778596617), (1552, 0.02067797098234097), (951, 0.02065714087007965), (2129, 0.020643925230318882), (1730, 0.020627572630620303), (944, 0.020627570504569814), (4193, 0.02061615891375266), (1121, 0.020584429658473576), (3504, 0.020573941525033352), (1769, 0.020570924062997622), (81, 0.02054490326556206), (1122, 0.020530860237251432), (3089, 0.02052930528551199), (3304, 0.02052798977472828), (821, 0.02051563790814594), (4474, 0.020463863040542752), (3151, 0.020461139459930923), (494, 0.020449857572949703), (3784, 0.020445299512736055), (3797, 0.020388443197050764), (493, 0.020366357615851684), (232, 0.020362463081715316), (1778, 0.02036181921740652), (668, 0.020352104031847208), (3314, 0.02034398824468389), (2718, 0.020313512832606368), (2116, 0.020307861916189444), (1222, 0.020307390166769548), (3323, 0.02030133515089066), (1727, 0.02029442509334136), (3558, 0.020289962129426), (414, 0.020280476108086583), (90, 0.020276870913285748), (2370, 0.020248304332110098), (4506, 0.020238469364325898), (344, 0.020235047425438746), (3315, 0.02023475876476596), (4292, 0.020227730900009202), (3969, 0.020211759220550053), (1971, 0.020211669338145034), (738, 0.0202032654721896), (1421, 0.02018650476083876), (3175, 0.020151117289747597), (3523, 0.020149972226637974), (873, 0.020137436977383176), (1172, 0.020137368761110386), (4534, 0.02012830866820251), (4341, 0.02010806778108685), (2957, 0.020100633426643342), (1690, 0.02009575108622676), (3410, 0.020092386099834242), (1984, 0.02009233878497627), (877, 0.020089498524450654), (1733, 0.020085416811963422), (664, 0.02008002330225978), (1206, 0.020079724497362637), (748, 0.020068340979913116), (3399, 0.02006790401953995), (465, 0.02006447681793566), (4086, 0.02005558747119589), (660, 0.020037175490469808), (3329, 0.02003309124764012), (3177, 0.020031258046611763), (3629, 0.020021966212297782), (3789, 0.02001940436009204), (4451, 0.02000036152741609), (416, 0.019983394156780365), (3865, 0.019977411320180022), (318, 0.019972362715184315), (4731, 0.019941302188544535), (1273, 0.01992861143473905), (1864, 0.019915767820863097), (2335, 0.019911522307528594), (600, 0.019900347203923262), (644, 0.0198917388344561), (32, 0.019889425758452456), (190, 0.01988613716767594), (2649, 0.019855023388888383), (335, 0.019847800428124538), (1810, 0.019834244568531775), (2292, 0.019824158641692374), (2678, 0.019813606600505143), (126, 0.019795922433162073), (789, 0.019791538519181556), (3552, 0.019786712709240876), (4095, 0.019776510457216435), (1993, 0.019759591210757675), (1772, 0.019756327359794768), (549, 0.01974205213322853), (4649, 0.019726300702149424), (1907, 0.01971795999238815), (2352, 0.019715774202979236), (2581, 0.019682612722144777), (3657, 0.019665304101599577), (2377, 0.019660393509455885), (3243, 0.019650919720242327), (1699, 0.019613638819462), (1537, 0.019612280157044082), (4141, 0.019595333628869577), (615, 0.019590994263232155), (196, 0.019573387966591402), (2958, 0.019572837917671265), (1125, 0.019561461284440116), (4010, 0.019559591286443447), (1344, 0.019555807289780222), (46, 0.019527082746645084), (510, 0.019526428299613017), (2744, 0.019500854603828735), (4610, 0.01948019851997144), (1247, 0.01947765560857466), (3708, 0.019475625063986094), (137, 0.01947129346522495), (2363, 0.01946483108759942), (4733, 0.01944397814270903), (4444, 0.019426242052515055), (2095, 0.019424512720040883), (4418, 0.019420825621803056), (4689, 0.019416031307985332), (2654, 0.019392041030804705), (2353, 0.01936158254345364), (927, 0.019334907506821826), (3895, 0.019333399166551097), (820, 0.019310378319763892), (148, 0.0193092568716752), (1266, 0.0192947223527727), (2442, 0.019284689144901092), (244, 0.019283148586834338), (2227, 0.019278112637981022), (1250, 0.019276006848969), (1135, 0.019242136847259637), (1748, 0.019236355074349135), (3178, 0.01923505689171848), (3275, 0.019203536600449427), (710, 0.019177758896517107), (4075, 0.019171339350963407), (83, 0.01916490439221156), (3540, 0.019163204950673907), (4359, 0.01915522433929222), (582, 0.019142071095003273), (1660, 0.019139676297488566), (2057, 0.019116031186901212), (1913, 0.019091020903369862), (4650, 0.019085366345376505), (3694, 0.019061004136695793), (141, 0.019058331128673785), (3269, 0.019051850813274308), (186, 0.01903919952177433), (1515, 0.019035584437547173), (4105, 0.019027623010776908), (573, 0.019013155444413603), (2469, 0.018996301573166587), (3872, 0.018994475172850068), (892, 0.01897438606034524), (4741, 0.018932646864196018), (970, 0.018926320088714886), (1374, 0.018926024420319872), (4499, 0.01891267165384677), (3355, 0.018902369281228674), (3406, 0.01887415649538554), (1152, 0.01887244032443266), (3235, 0.018861789530240817), (2115, 0.01884653360437376), (1651, 0.01881645763864037), (605, 0.018806316320811187), (830, 0.018799746977805818), (4739, 0.018796727210487363), (1303, 0.018796713667368972), (3188, 0.0187838134179724), (2972, 0.018775412521406097), (2618, 0.018773194944097987), (1149, 0.01876607537786564), (1970, 0.018761062720311177), (2166, 0.01875917280503319), (2503, 0.01875393256383105), (3733, 0.018746686389029522), (2906, 0.018733151579601152), (2035, 0.01870973064416513), (3956, 0.018700511685009146), (2449, 0.018653801046172504), (1655, 0.018644611800844486), (2655, 0.01862768403113071), (2099, 0.018617672254651215), (2165, 0.018605682676555838), (2942, 0.01858704669304702), (174, 0.018585569225251217), (4135, 0.01857826078968245), (2842, 0.0185618806994984), (1729, 0.018540553256736203), (2855, 0.01853833895515014), (255, 0.018527882435850157), (3739, 0.018519823610089556), (153, 0.01851226468938194), (2617, 0.01849823189379232), (3638, 0.018489412964115885), (1346, 0.018477015442393184), (3878, 0.018474259267240622), (536, 0.018465692908256018), (4612, 0.018461719503951424), (347, 0.018434265945250508), (4242, 0.01842347655579359), (1589, 0.01842092024038936), (2801, 0.01841672209123066), (823, 0.018414289236343844), (632, 0.018397903927153802), (871, 0.018375670808185602), (2070, 0.018372758995134346), (1034, 0.018369791638739346), (3905, 0.018353814577883584), (1027, 0.01834248778616536), (113, 0.018341786724898786), (4148, 0.018341606415792175), (3593, 0.018341017974969193), (3575, 0.018315129340003983), (926, 0.018298524407686905), (4660, 0.0182869697486431), (1146, 0.01828637997785777), (376, 0.018250132818188484), (1504, 0.0182373020479555), (1758, 0.018213615832943838), (888, 0.01820959009732255), (1944, 0.01819093485796591), (4394, 0.01817761596471425), (2380, 0.01814922656473528), (1272, 0.01814295081454728), (1695, 0.01813134162523327), (3554, 0.018130395386617607), (2440, 0.018108118466730026), (3725, 0.018096603262176086), (1684, 0.01808269984626775), (3451, 0.018079504575511447), (509, 0.018062184997129183), (3290, 0.018055559899643272), (1355, 0.018036316920246386), (2756, 0.018030109952748844), (3300, 0.018026270923120404), (2761, 0.01801939705121948), (3821, 0.0180140204216586), (419, 0.017992722270555483), (1949, 0.01798837917276554), (2079, 0.01798056932115342), (1740, 0.017966753468209834), (2286, 0.01796331243862624), (2150, 0.01794778006645581), (824, 0.017943774696972517), (3287, 0.017937468189458895), (3813, 0.017927015412933473), (2758, 0.017921178942601517), (4133, 0.017915278037792633), (2636, 0.017902564236413853), (1805, 0.017900977494322446), (2094, 0.01789672537634205), (2134, 0.017869356234725287), (444, 0.01786134569155555), (1639, 0.017851594684148705), (41, 0.017837342766393566), (2935, 0.017814207166960354), (1872, 0.01781385676399824), (3631, 0.01779621208526096), (1299, 0.01779469526885289), (3169, 0.01778779790446679), (2518, 0.017781205799308093), (2101, 0.01778097779661149), (3566, 0.017765006542506914), (2563, 0.017764895301125162), (3683, 0.01776103992569307), (2439, 0.017756401139402016), (367, 0.017754923345125163), (1723, 0.017754106979149555), (2893, 0.01775263738901378), (1401, 0.017728158266204472), (2783, 0.01772492866620622), (3957, 0.017704792764128396), (2605, 0.017695486798908686), (3641, 0.017691558288452154), (958, 0.01768217929049033), (2529, 0.017660255978594254), (1432, 0.017657490995703), (1597, 0.01764595790848212), (4640, 0.01764528530277848), (4108, 0.017624521310518677), (1797, 0.017624293913514246), (3221, 0.017616697745001988), (4438, 0.01761366564132911), (4337, 0.017606694086746554), (2041, 0.01759690891325438), (476, 0.017596662087215338), (1351, 0.017585622787644216), (66, 0.017578356663525835), (520, 0.017565077876095216), (1119, 0.01754194628264909), (3387, 0.017510559906696418), (1877, 0.01748021646378968), (4635, 0.017441512641935473), (3984, 0.017416609890528238), (2092, 0.017413693910714137), (1318, 0.017407844338230654), (3398, 0.017396501139380856), (2580, 0.017356438949983212), (2764, 0.017332753028505565), (4477, 0.017325465410397617), (670, 0.017322740766395762), (1992, 0.017314880560246458), (3514, 0.017288974157357192), (3767, 0.017284486655170447), (3351, 0.017284269701698114), (2216, 0.017261403815596918), (679, 0.017261011232421276), (814, 0.017246154977753468), (3973, 0.017242610507151587), (1023, 0.01722911241623782), (900, 0.017226612168828297), (1300, 0.017212845397263594), (4372, 0.01721109816734903), (507, 0.01720049574956809), (1736, 0.0172000819674392), (4756, 0.017189549505293146), (149, 0.017168416612986556), (2458, 0.01716485436172374), (914, 0.01716416726881062), (2621, 0.01715873443612599), (1507, 0.01715129303134895), (3703, 0.01714807777834965), (142, 0.017131589133699002), (3230, 0.0171208501197933), (294, 0.01709415949242077), (1809, 0.017092007391225062), (3219, 0.017083435911920936), (3899, 0.017079347342093945), (1977, 0.0170787622875497), (816, 0.01707683455751445), (630, 0.017072587333956505), (4605, 0.01702546739271983), (1246, 0.017015697166969573), (614, 0.01701504916203454), (2446, 0.017014079033904006), (1640, 0.0170119761671122), (304, 0.016976408469756437), (1485, 0.016966302225124328), (2714, 0.01696553029892158), (327, 0.01696546581611679), (3651, 0.016964719980791746), (1642, 0.0169539641951682), (3623, 0.016949108887114945), (3137, 0.016912630632955446), (1520, 0.01690826274808964), (2929, 0.016867493844555062), (2024, 0.016865849346690096), (2776, 0.01686035770015883), (1407, 0.016851218637732007), (2608, 0.01685117595785996), (4614, 0.016823271215679884), (3960, 0.01681240264355331), (4057, 0.016810302906457512), (1887, 0.016805705164342075), (1570, 0.016801090403461102), (3390, 0.016781190712286086), (671, 0.016777963193859328), (1061, 0.01675796102489508), (975, 0.016742341842461643), (2954, 0.0167262841590033), (2083, 0.016718694810474014), (157, 0.0167096023372294), (1349, 0.01670941183407961), (3056, 0.016706061665291257), (3587, 0.016705344383534212), (4368, 0.016690209157512875), (2915, 0.01666817042478425), (1677, 0.016664680079625495), (1243, 0.016647724616405297), (818, 0.01663884385524348), (1716, 0.01663151909714069), (735, 0.016612659772709603), (853, 0.01660777436179698), (1116, 0.016596568000261006), (781, 0.016587740342178896), (584, 0.016586994949758693), (3277, 0.01658483622064672), (3311, 0.016570550486683676), (987, 0.01657011133401223), (1336, 0.01653840451063916), (1474, 0.01653838389423706), (3436, 0.01653581147502333), (3836, 0.016532226629079633), (3508, 0.01652222700564583), (4730, 0.01651369256727797), (2675, 0.016511530501091314), (1302, 0.016479887973296335), (518, 0.0164785646960802), (1298, 0.01646910920507446), (3870, 0.016466614713640842), (3378, 0.01643595312011406), (4531, 0.01643494004182364), (2589, 0.01642353886817198), (2241, 0.016378917141311386), (1931, 0.0163785240039226), (3583, 0.016378453458497467), (4642, 0.01635964598323473), (4273, 0.01634805349508694), (1155, 0.0163361577607237), (4222, 0.016316318412171363), (3930, 0.016306547436163263), (912, 0.01629739032910423), (994, 0.016290742975668075), (1934, 0.016280831206972872), (2222, 0.016269169087782517), (1963, 0.016264928560586745), (121, 0.016261691091139684), (3479, 0.016247359323925074), (4738, 0.016241140288941327), (1685, 0.016216684018462456), (193, 0.016205576717940345), (2291, 0.016202888244275338), (3722, 0.01619450132455014), (1839, 0.016188120573588444), (675, 0.016172448275752448), (1726, 0.016162993268578688), (1293, 0.01613694926532649), (4253, 0.01613587050068169), (2020, 0.01613211630737969), (1564, 0.016131533488879343), (3731, 0.016128531103891848), (1207, 0.016114567284384793), (438, 0.016114315328025673), (1833, 0.01611197503619857), (3379, 0.016108279858985122), (3983, 0.016092023398857982), (2826, 0.01606089744112282), (4618, 0.016049518704808512), (2737, 0.016048339921587752), (3706, 0.016034686758071334), (1322, 0.016033937007360687), (1587, 0.01603304402465157), (2132, 0.01602529334882198), (1280, 0.016020770754606155), (3333, 0.016016317609826275), (1475, 0.015978595418776956), (2832, 0.015966022668239186), (4473, 0.015954158697535425), (945, 0.01594873874101766), (3182, 0.015947026254738997), (3145, 0.015930880806407), (2168, 0.01592888809106711), (1279, 0.015923026622569662), (1117, 0.01590926872978704), (1094, 0.015901378005107235), (3288, 0.015897958336113772), (1577, 0.015888373893202308), (3187, 0.015860890514947483), (1437, 0.015856308340268955), (4667, 0.015852433844962308), (4392, 0.01584251834251977), (1629, 0.015821721050075482), (1929, 0.015787838904505636), (792, 0.015774884414337345), (680, 0.01577125509000531), (1860, 0.015762977380777705), (1110, 0.01575684269535786), (931, 0.015740000110070273), (3343, 0.015734943001068806), (436, 0.0157265385803649), (377, 0.015726116073156392), (1687, 0.015723570799563043), (3618, 0.01571940888080148), (308, 0.01571815776350914), (2163, 0.015715559520672363), (531, 0.01571282255067242), (1721, 0.015710085829119314), (1838, 0.015704158507784), (4592, 0.015702099807977793), (1734, 0.01569342889929253), (648, 0.015690098161532873), (2576, 0.015682781832935377), (1022, 0.015678834515372612), (525, 0.015666546246772793), (4641, 0.01565976150605259), (2052, 0.015657200318709076), (406, 0.01563808624088793), (4421, 0.01563455620009252), (797, 0.01563095998631782), (2877, 0.015627615152518714), (3811, 0.015612135618309422), (1989, 0.015610219766346052), (1942, 0.015594070990003235), (2264, 0.015587049473918663), (2762, 0.01558266912169038), (3855, 0.015543419033058156), (1447, 0.01553575384635774), (1044, 0.015528976484376749), (4042, 0.015524890858566705), (1548, 0.015521656275801302), (1634, 0.015515595484662845), (3532, 0.01550046850609755), (3505, 0.015492161859855783), (3735, 0.015484615284260109), (3578, 0.015477291656634059), (3428, 0.01547344134949541), (717, 0.015465021420365984), (2759, 0.015451232179489375), (2076, 0.015449750381103737), (2329, 0.015449333440141058), (1045, 0.015427332655828093), (4356, 0.015401744231851339), (2016, 0.015395209954329235), (329, 0.015392951493181694), (4112, 0.015374328771462437), (1696, 0.015362154133593778), (3920, 0.015360772250844897), (11, 0.015356866206667215), (2267, 0.015350475032460245), (1883, 0.015346552374416187), (2508, 0.015341025427763893), (2053, 0.01531059769132823), (2126, 0.015293797989597801), (4389, 0.015253603489976121), (3430, 0.015247679271576931), (1317, 0.015245272263898657), (1368, 0.015197066476916092), (3787, 0.015176624806414848), (3562, 0.015171503208125896), (1160, 0.015163481235237725), (585, 0.015152159178229447), (3067, 0.01514186402927318), (1611, 0.015135974707847706), (434, 0.015113715352309487), (4237, 0.015091521301374172), (2829, 0.01509059549382537), (1669, 0.015087723182361913), (832, 0.015078712104653802), (437, 0.01505631625576713), (4676, 0.015047041717552063), (498, 0.015016037943613718), (4599, 0.015011761809611116), (1870, 0.015005491249953384), (2496, 0.014991216213450075), (3975, 0.014974819931811816), (3662, 0.01496981606687664), (1574, 0.014965252026330617), (2631, 0.014957835091764357), (4503, 0.01495629846069529), (622, 0.01493596745741825), (4385, 0.014931141351116638), (1724, 0.014926255232982976), (4686, 0.014920226765379074), (3948, 0.014913787930714774), (4437, 0.014910022991423326), (3539, 0.014908224420952479), (3125, 0.014903065773723752), (2797, 0.014891022554862583), (3491, 0.014888035577074946), (4034, 0.01487513411987107), (2488, 0.014868160532331871), (168, 0.014863756505600966), (3859, 0.014857760719439506), (2751, 0.014856108525830216), (3502, 0.014842075764688467), (4330, 0.014838085584712205), (2208, 0.014831195805713883), (205, 0.014817406655384106), (1824, 0.01480556374516609), (1676, 0.014798347781296708), (1670, 0.01479435038585111), (3320, 0.014793543039068716), (3174, 0.014790223771460883), (3421, 0.014786428170274462), (3330, 0.014779311603282365), (3869, 0.014758075367407184), (4225, 0.014755260728147201), (85, 0.01474519328513782), (158, 0.014737951234051465), (3374, 0.014717424522070888), (4223, 0.014712536189433283), (1042, 0.01470985434387337), (1020, 0.014704991073467899), (894, 0.014690505546817426), (2868, 0.014680608235420571), (1509, 0.014673979228010683), (3257, 0.014659396247538602), (1582, 0.014653120552908433), (3413, 0.014612791624062453), (4464, 0.0146078586487126), (1449, 0.01459397591919747), (3742, 0.014592462057867574), (1338, 0.014585802879137702), (1343, 0.014576934303157423), (512, 0.014574373495571585), (3321, 0.014573573156286603), (413, 0.014551613824223271), (4284, 0.014550809335979391), (1603, 0.014547751824528374), (3950, 0.01454772470371137), (3790, 0.014544211000618713), (2434, 0.014544199520316319), (3953, 0.014535536293222916), (1600, 0.014527125222964173), (2491, 0.01452206018589918), (2034, 0.014510639790157149), (1162, 0.014510343738200293), (2910, 0.014509758981290463), (3190, 0.014489839371846898), (4154, 0.014485264094865084), (4100, 0.014480834631828254), (2753, 0.014474369329807554), (3412, 0.014463299555738303), (1653, 0.014461579755897224), (4387, 0.014460170811705276), (3916, 0.014444330501780728), (2466, 0.01443556929914309), (1294, 0.014429733897820887), (2648, 0.014429095193067874), (1049, 0.014426053721878523), (2662, 0.01442389685783634), (14, 0.014412946101960474), (1794, 0.014412550415202218), (1035, 0.014406798336090335), (27, 0.014400126672840538), (2986, 0.014390455388751482), (4449, 0.014387856121216059), (4550, 0.014376612019223965), (968, 0.014373829526230793), (2856, 0.01437289695894181), (804, 0.014368799026953075), (2704, 0.014350229079971247), (431, 0.014347634321983313), (450, 0.014344017653742701), (1921, 0.014326367024684528), (2570, 0.014318975470229407), (1969, 0.014311529364781228), (1187, 0.014293859344872647), (827, 0.014272919294274924), (815, 0.014272505344597603), (1626, 0.01427191656822687), (3917, 0.014265537637466422), (921, 0.014265013168314038), (838, 0.014252384576461167), (4647, 0.014242887855934225), (3312, 0.014242355697764601), (4373, 0.014237000241579895), (3801, 0.014216403291896038), (2262, 0.014190118294042396), (854, 0.014152883716804336), (2514, 0.014150872813454854), (2209, 0.014145809734304165), (2696, 0.01414247319535588), (3086, 0.01412151328083973), (3231, 0.01410476845119359), (3341, 0.014095618846987453), (2190, 0.01409065999615107), (1139, 0.014087391237667566), (380, 0.014086936499429128), (4428, 0.01408167641519369), (1381, 0.014071655152578705), (2726, 0.014071320652773786), (3107, 0.014065194390836418), (252, 0.014055397621234499), (2785, 0.014039610232874289), (1025, 0.014036102388358356), (370, 0.014033487728000185), (4124, 0.014032305291001728), (1404, 0.01401812354193721), (764, 0.014008339543024956), (878, 0.01400695174343218), (2872, 0.014004192073720757), (4495, 0.014001832634210344), (2023, 0.01396516208923056), (2187, 0.013962775399340528), (4453, 0.013961909964046728), (1468, 0.013961384267506146), (3952, 0.013951749539757582), (231, 0.013946922841306442), (2590, 0.013942402678253838), (400, 0.013927199655767483), (1289, 0.01392681715594069), (1932, 0.01392262458872845), (985, 0.013916974891725595), (3057, 0.01391188762258122), (532, 0.013907678316794172), (3570, 0.013905750820908372), (2019, 0.01389732050453986), (317, 0.013894170958127002), (4325, 0.013891964133832454), (4117, 0.013887724283811399), (534, 0.013882848922158117), (1620, 0.013866724850474693), (2552, 0.013864935118771998), (2470, 0.013849273177017066), (2520, 0.013848952252347205), (4634, 0.013837855361111253), (2566, 0.013835801414167955), (2523, 0.0138211835150981), (3411, 0.013819022565538755), (2302, 0.013818409929783077), (902, 0.013810210761368864), (2388, 0.013805503476349335), (666, 0.013798493886822355), (998, 0.013791741313179756), (999, 0.013780453734146221), (572, 0.013745264042902631), (1958, 0.013741794817484082), (3242, 0.013724480119691887), (2317, 0.013721572701580928), (3854, 0.01371383402051979), (4168, 0.013712894473617348), (4402, 0.013712668411645673), (2909, 0.013708824695408985), (4304, 0.013698669760822584), (2125, 0.013698055190421398), (3510, 0.013686464394919549), (4353, 0.013678499862937179), (3684, 0.013669537797412062), (4120, 0.013668334397441792), (3817, 0.01364063550410516), (2567, 0.01363327955924969), (443, 0.013618668368616717), (4211, 0.013607901226612266), (1481, 0.013604529656183605), (4549, 0.013602942363585033), (2891, 0.013596035993456337), (3306, 0.013595700588943889), (4581, 0.01358822626274889), (3728, 0.013587297109487143), (4207, 0.013570831418387587), (2747, 0.013564559542369395), (3773, 0.013558355918682744), (2247, 0.013549303163829535), (2106, 0.013528911896471485), (4067, 0.013521225110517263), (2108, 0.013503307182959173), (1360, 0.013496907199138567), (4364, 0.013475615240689905), (4091, 0.01347351795002123), (1681, 0.01346240833546389), (2233, 0.013456655379208586), (2516, 0.013451620829387455), (1767, 0.013442302764220138), (3009, 0.013440175286051757), (3555, 0.013435595419396793), (4052, 0.013429007665534669), (4508, 0.013395905223506126), (2500, 0.013391884775139725), (4240, 0.013386182784641246), (3099, 0.013382292198449747), (1178, 0.013380308033040855), (2871, 0.013377651593232592), (2375, 0.013365511741090972), (2204, 0.013352117015466361), (3986, 0.013343247348852942), (1056, 0.013341486425535882), (1000, 0.01333852360424155), (3571, 0.013327425292655702), (3183, 0.013322316266072467), (753, 0.0133177286751037), (750, 0.013317677132649655), (3617, 0.0133132347384257), (3674, 0.0132957181362434), (1905, 0.013263720667362155), (704, 0.013258912254099869), (3481, 0.013256166639437236), (2601, 0.013251341511252486), (906, 0.01324462673192512), (3310, 0.013244040055003986), (4659, 0.013232420221936648), (2296, 0.013231250284189153), (2748, 0.013229478385685793), (3258, 0.013229202144398128), (1150, 0.013225922099518528), (2865, 0.013221963231789927), (4076, 0.01321022986171572), (420, 0.013185636858915668), (2263, 0.013160643029536765), (3972, 0.013158810359919183), (1406, 0.013157738174028042), (4039, 0.013123706577324428), (4558, 0.013122993978806742), (3131, 0.013118998300698825), (495, 0.013116410412239016), (665, 0.013116247677264027), (2585, 0.01310744317023729), (3276, 0.01309882090191861), (2963, 0.013092717518539626), (3438, 0.013090706839748613), (10, 0.01306760331485426), (2661, 0.013060204785603937), (3496, 0.013059011893899627), (603, 0.013042407300877292), (1031, 0.013037507188500537), (4329, 0.013035532778303174), (2719, 0.013013063967349697), (3309, 0.013012774777091111), (3101, 0.013008353818400854), (3894, 0.013006068922048511), (3724, 0.013002014202955136), (3897, 0.01300101896443167), (2391, 0.012993914237536031), (1426, 0.012991434158377032), (4613, 0.012980962805061145), (2183, 0.01297622114544605), (1436, 0.01297431805689586), (4404, 0.012970467183606072), (4357, 0.012968444332327623), (1811, 0.01296711720770569), (4440, 0.012965998827543658), (2330, 0.012964855944018097), (765, 0.012959507726107725), (1301, 0.01295605570992215), (89, 0.012953723418909357), (1085, 0.012942436871014266), (3102, 0.01293906492685445), (961, 0.012937733998721678), (4726, 0.012932731602431628), (1380, 0.012932180864476561), (1859, 0.012929997972548353), (654, 0.0129240240267141), (1185, 0.012918872146713683), (3925, 0.012916017283927704), (1104, 0.012906598655336667), (2641, 0.01290083076510017), (599, 0.012900399854825526), (2315, 0.012897930904226806), (910, 0.012867060699388033), (3881, 0.01283864753510004), (2973, 0.01283573161473812), (1434, 0.012833328089839793), (4621, 0.012813671968691084), (298, 0.012809269950070411), (3882, 0.012804184420462744), (1828, 0.012796089745317183), (2663, 0.012794431561990612), (4518, 0.012752071005846632), (3493, 0.012733616296398449), (219, 0.012722888892989913), (2477, 0.012721324524543338), (3507, 0.012711614902259073), (879, 0.012692569270392482), (4198, 0.01267400576773788), (676, 0.01267323248342889), (1133, 0.012668146736725583), (3376, 0.012663594342416401), (3800, 0.012663418940113268), (3697, 0.01265672879775803), (1021, 0.012656505821860392), (791, 0.012648897748357073), (2162, 0.012644262756485596), (1352, 0.012597007846741639), (2994, 0.012585687314884162), (4422, 0.012572289332745833), (4376, 0.012571868648761624), (4287, 0.012568969851160282), (3198, 0.012567929311204448), (1431, 0.012556356166968326), (3668, 0.012552265547556929), (3771, 0.012546441707773987), (1657, 0.012520104407220456), (2734, 0.012518855325831003), (1704, 0.012499686009235242), (3810, 0.012495042498691926), (2788, 0.012483741098531266), (1854, 0.012480936564645159), (1623, 0.012466602570052757), (2767, 0.01246371999510398), (2196, 0.012451373874465085), (4493, 0.012442130473890284), (4029, 0.012441447395461425), (2278, 0.012440050653469968), (2087, 0.012427628560367094), (2965, 0.012417675161984358), (4197, 0.012402541732403394), (4166, 0.012391675933180222), (3217, 0.012369035688211474), (2360, 0.012366931183345758), (4178, 0.012363338158268726), (2414, 0.012360530327857411), (1154, 0.012356164310967907), (379, 0.012347817758613823), (578, 0.012337516692718048), (4755, 0.012336650106010722), (3078, 0.012333980372409323), (382, 0.01233226176852341), (845, 0.012326695398924937), (1476, 0.012325769347527774), (2501, 0.012321234157515213), (270, 0.012314111743431774), (1705, 0.012302497480834203), (442, 0.012296481902554635), (1410, 0.012295993293215842), (31, 0.01229406482493402), (4082, 0.012258292243670154), (305, 0.012250356481831651), (2630, 0.012236175007759132), (2135, 0.012227067509748425), (447, 0.012226180058517295), (366, 0.012214089754354316), (2614, 0.012209925806890771), (610, 0.012191798240697606), (439, 0.012190092218942133), (1180, 0.01218995608465117), (421, 0.012181537796565504), (114, 0.012177546936732956), (1545, 0.012174111805628867), (3048, 0.012169911108481344), (2337, 0.012163388732011343), (2526, 0.012133636166609322), (4241, 0.01212728448617033), (1328, 0.012115264880868445), (2983, 0.012113928921178014), (2220, 0.012110276332723142), (997, 0.012108012698320953), (339, 0.01210087425825274), (2999, 0.012096989208651595), (1857, 0.012071715627199851), (3000, 0.012055424284236192), (2543, 0.012043779339256369), (1233, 0.012037500656578192), (3239, 0.01203377139724684), (2349, 0.012014578940975584), (2713, 0.012012671381159407), (2308, 0.0120121191329351), (1588, 0.012004143266573784), (150, 0.012003499844017933), (1145, 0.011999130467789285), (1800, 0.011997691334896017), (2407, 0.011994790033902442), (4445, 0.011993030548238035), (1008, 0.011990685000018715), (1462, 0.011990130792594679), (1313, 0.0119884348619955), (624, 0.011956836374723534), (863, 0.011949115251767072), (1084, 0.01192107029967455), (3994, 0.011916342147608418), (2945, 0.011908945767877377), (1356, 0.011897049164910592), (296, 0.011892541110747123), (72, 0.011892313793560311), (3098, 0.01188883346906245), (790, 0.01188497370818766), (4603, 0.011852402383088528), (4517, 0.011845609128415627), (2245, 0.01184371585004111), (2271, 0.011834066381306975), (3720, 0.01183338347306629), (2432, 0.01181954982267956), (3256, 0.011818691214514742), (223, 0.011807937402167618), (2154, 0.01180685399079482), (1801, 0.011804594890711537), (915, 0.011799424370315195), (2775, 0.011780049809383748), (486, 0.011775708374723706), (3158, 0.011773707666512364), (3053, 0.011767376861768241), (4427, 0.011761172789937442), (1632, 0.011756892261520345), (3030, 0.011755210741824156), (3567, 0.011748364849384458), (4678, 0.011742176790392357), (2467, 0.011737754382440867), (4279, 0.011726145965578505), (2853, 0.011715394811516676), (3807, 0.011712651718074403), (1218, 0.011697947077720735), (284, 0.01169426420191805), (658, 0.011666271404767246), (2306, 0.011662115681155999), (3291, 0.01166086811582503), (3832, 0.011652195719590653), (4441, 0.011648317097069259), (3465, 0.011647181343917647), (1274, 0.011645268618814163), (1831, 0.011641927295194678), (2991, 0.01164169104342521), (3891, 0.011612262144041176), (4514, 0.011609959559540056), (3361, 0.011607717032172699), (2242, 0.011563723686350188), (4016, 0.01155166730849304), (4020, 0.01155120904887176), (3604, 0.011537868183961382), (4383, 0.011528824478482682), (4408, 0.011524057029240241), (3006, 0.01152394028997632), (2139, 0.011508561846669107), (661, 0.011503104396674842), (548, 0.01149886228716483), (325, 0.011496443473382682), (4548, 0.011494692824742305), (1483, 0.011493712794595034), (3695, 0.011489992417885337), (4247, 0.01148950131772074), (3194, 0.011483102684279173), (3758, 0.011479848795747547), (2938, 0.011479369659768009), (480, 0.011470864026860761), (492, 0.011448526637770393), (2682, 0.01144055515759309), (3966, 0.011436239811050807), (2333, 0.01142611811614998), (1693, 0.011422815442862957), (3280, 0.011416344546486124), (1372, 0.011412425319720858), (3686, 0.011410746743631652), (2559, 0.011406974264652736), (3017, 0.011404076603003752), (303, 0.011399036368139529), (1030, 0.011397501320528889), (621, 0.01139072343678193), (40, 0.011373128624278899), (3718, 0.011370519495820445), (2075, 0.011369943153092695), (471, 0.01136126518039714), (795, 0.011344738652705463), (1573, 0.011318163756629415), (2542, 0.011318152660250845), (2201, 0.011317352114071793), (831, 0.011316771681272389), (1978, 0.011315223437844692), (3500, 0.011287101907693182), (1937, 0.01128486540514782), (589, 0.011275075347442404), (1057, 0.011271590830664039), (94, 0.011260722059021715), (2843, 0.011258688359862556), (861, 0.011256835827734048), (4653, 0.01125657586330306), (80, 0.011235534728400427), (2399, 0.011230145651720033), (2643, 0.011222461037545437), (1543, 0.011208690679117827), (567, 0.011203322101928528), (4339, 0.011201147937358361), (4615, 0.011191418665206348), (167, 0.011190398838041102), (1568, 0.011190032656738742), (1607, 0.011188075453445278), (2749, 0.01115986631602938), (3050, 0.011146317204700423), (337, 0.011129457717533856), (1063, 0.011100386901223783), (363, 0.011078819362217896), (3588, 0.011077451068470143), (3334, 0.011052385557198492), (1271, 0.011021524048955705), (2402, 0.011017777964880203), (760, 0.01101111475407908), (3015, 0.010995880278821623), (3851, 0.010989640490222236), (213, 0.010958683762208807), (1424, 0.010958279698880365), (4554, 0.010957015938934358), (2982, 0.010923352118639582), (3140, 0.01092042499724378), (4556, 0.010916308073339657), (2355, 0.010898268167817825), (2186, 0.010879535406997647), (4450, 0.01086992935267837), (882, 0.010869692331138072), (2347, 0.01082382733420675), (3363, 0.010822049416268017), (2417, 0.010792506939875764), (4104, 0.010783784923930548), (2420, 0.010751421243227564), (1099, 0.010750836276397594), (4306, 0.010728006242940858), (3964, 0.010719824600183978), (2524, 0.010717233858055189), (4580, 0.010710856641184001), (1616, 0.010691346107298223), (2266, 0.010684600214584977), (3999, 0.01068456749587456), (3852, 0.010684406264940265), (3371, 0.010632689648391997), (326, 0.010626742269998057), (385, 0.010625511059573618), (4752, 0.010622696313157428), (3993, 0.010614745372877247), (4277, 0.010610021702766384), (3302, 0.010572561186979551), (1786, 0.010556642103326259), (3117, 0.01055462881040203), (234, 0.010553498918422426), (3967, 0.01055137784633649), (1546, 0.01054894550033806), (2966, 0.0105486359951403), (3423, 0.010547065018967731), (3167, 0.010544582703354448), (103, 0.01053748093904321), (2415, 0.010529366534699082), (2, 0.010521591718659169), (3776, 0.01050188265272554), (1752, 0.010496398260974014), (779, 0.010481881749439367), (1806, 0.01047889221112856), (278, 0.010478110496030433), (3365, 0.010458041625200396), (3937, 0.010367361093710767), (3632, 0.010363168252151021), (893, 0.010359652156046225), (1910, 0.010359154976092477), (639, 0.010354470935881417), (146, 0.010353519576594954), (4458, 0.010349097636796884), (1441, 0.010347262915655391), (2880, 0.010345002353677912), (647, 0.010330860169068246), (1731, 0.010290615216960317), (405, 0.010289958645934943), (754, 0.01028325161535737), (58, 0.010281750778967707), (2505, 0.010236842407161807), (4632, 0.010230118489870672), (3109, 0.010222507755225365), (4315, 0.01022159133497488), (1053, 0.010206260691190117), (4145, 0.010193074297112897), (2040, 0.010183335782195822), (2151, 0.010176537168865673), (715, 0.01017160751128082), (1885, 0.01016725408301761), (2710, 0.010137350450785053), (4027, 0.010135389098127685), (390, 0.010110472495720288), (875, 0.01010492777790639), (3359, 0.010098451539370702), (1167, 0.010086637850707845), (474, 0.010085533303733291), (3072, 0.010085410884993448), (3189, 0.01008442482361166), (1955, 0.010082178972616112), (3802, 0.010081300244381603), (70, 0.010070020451863346), (3513, 0.010056512503864858), (4713, 0.010045037683218943), (2249, 0.010037843186410022), (3061, 0.010035535720993975), (4468, 0.010030991471712358), (3105, 0.010030871259595406), (257, 0.010030676426110167), (1445, 0.010028743584971805), (1829, 0.010021668544078547), (381, 0.0100152584038519), (3165, 0.009966610264196155), (364, 0.00996539590445927), (1015, 0.009964028362485583), (784, 0.009952307888386693), (3092, 0.009946335999622333), (2794, 0.00993699829877201), (1708, 0.00990021939539724), (1184, 0.009899388564496285), (3095, 0.009896042529052816), (2148, 0.009893120692671793), (3944, 0.009884489968140609), (4311, 0.009884198770683944), (4243, 0.00987849322590461), (1395, 0.009870429064499767), (3296, 0.009869340852827629), (1712, 0.0098527416674644), (1141, 0.009850650942242857), (1909, 0.009849116544457125), (4367, 0.009825061720245871), (2096, 0.009824822935377736), (3148, 0.009824635012143828), (3163, 0.009813329860850265), (3013, 0.009788758877106717), (2120, 0.009788606699656668), (208, 0.009786043005873556), (576, 0.009781856303288528), (3274, 0.009776984832697622), (3483, 0.009759539903689746), (2078, 0.00975225781237556), (3560, 0.009749815775117467), (4702, 0.009746690469446317), (2974, 0.009742337825434214), (4303, 0.009735858570197315), (4718, 0.009731936538922415), (4045, 0.00972665531187645), (1956, 0.009708660291608537), (976, 0.009703992595401351), (1871, 0.009683091533970163), (3804, 0.009679686177143418), (3248, 0.009677489448527195), (398, 0.009665162762812618), (3273, 0.009660512517474048), (1327, 0.009641166779762492), (2472, 0.009628875141861991), (2326, 0.009628689019340367), (4571, 0.009623401353332534), (482, 0.009621119195480962), (4138, 0.009618231856927825), (2545, 0.009603367679968207), (4164, 0.009593382685573986), (2085, 0.00959236974802901), (2026, 0.009590787393204165), (185, 0.009585139492964228), (2890, 0.009575070532483907), (1488, 0.009568790920353018), (517, 0.00956777582335929), (3417, 0.009557101211164879), (946, 0.009551644735107005), (4275, 0.00954606442630761), (2596, 0.00954544072773795), (587, 0.009543201857072659), (3847, 0.00953557137555845), (3116, 0.00953537353710276), (2836, 0.009523799168856033), (2390, 0.009512569360709508), (1040, 0.009502149526047445), (1126, 0.009478034253474816), (1866, 0.009475007315034813), (3565, 0.009446218226744959), (8, 0.009423750708816837), (3597, 0.009422566866019264), (3871, 0.009410255405600284), (1182, 0.009404506617978647), (2705, 0.00939567610110276), (3400, 0.009386762168846128), (3893, 0.009374144410545588), (3471, 0.009361859320931911), (4073, 0.0093553328608004), (2677, 0.009351965943167753), (3495, 0.009340913553166626), (4657, 0.00933252135719067), (2475, 0.009331731867616587), (3879, 0.009305665708840623), (4583, 0.009302220382040274), (1618, 0.009294025614805343), (4414, 0.00929328848016689), (3244, 0.009287629487116993), (3904, 0.009281350352856727), (2693, 0.009278694050975114), (2664, 0.009250946057923615), (3356, 0.009248590048418272), (2105, 0.009240104513246417), (4175, 0.009239778381867713), (4683, 0.009237835703671246), (3434, 0.009231552235335366), (3835, 0.009231290606726655), (1385, 0.009229247697441243), (2831, 0.009228245248831025), (3490, 0.009217417213201328), (612, 0.00921298045967105), (3346, 0.009193151857383008), (3326, 0.009190472175305817), (4566, 0.009147371489327228), (2426, 0.009138434168723071), (3553, 0.009135537804852071), (51, 0.009129600006610623), (4134, 0.009126246334734398), (1073, 0.009125376781846991), (3596, 0.009122414626348338), (1363, 0.009109301703327698), (375, 0.009098917850533786), (649, 0.009096717080010966), (564, 0.009090826384045257), (2185, 0.009082780211305616), (859, 0.009073009973942137), (2980, 0.009040171461673002), (1419, 0.009026743534564147), (2904, 0.009025399564872966), (2405, 0.009024991808697978), (4625, 0.00900981607989966), (4079, 0.008995331492573293), (446, 0.008991893032308044), (774, 0.00899101524159373), (2594, 0.00899037544368587), (2170, 0.008976133911677103), (2008, 0.008964117383574645), (1017, 0.008959378222919917), (2866, 0.008931694406040873), (2048, 0.008931215834139639), (817, 0.008920084967195896), (2230, 0.00891152004643166), (2847, 0.008901631700385026), (651, 0.008899197098531254), (71, 0.008889664217753803), (1610, 0.008886762402712965), (2489, 0.008843077154469768), (3753, 0.00884223836971856), (4035, 0.008821812947228651), (3929, 0.008810746612177171), (2313, 0.008809871147401914), (3985, 0.008801369490944407), (3509, 0.008796353537258769), (2473, 0.008778606181937116), (2121, 0.008775349804003355), (4587, 0.00877481603195297), (2736, 0.00876657573884005), (1038, 0.008766212101051978), (2379, 0.008740200490419132), (2572, 0.008731632600853429), (3645, 0.008731032374098328), (2490, 0.008728851337496308), (1428, 0.008727505310911867), (1200, 0.008724360921336615), (2344, 0.008695395254050796), (2098, 0.008672521652881873), (1378, 0.008669989021618248), (3466, 0.008667381854764324), (3418, 0.008662024664669716), (2943, 0.008646172074028808), (4060, 0.00862110748193031), (2578, 0.00860581060238678), (1438, 0.008593541722076728), (490, 0.00859258709863078), (2858, 0.008584046945624327), (3139, 0.008574404400898265), (1276, 0.008569188356527625), (2827, 0.008564520529511267), (3933, 0.008555720907640257), (880, 0.008552753781218333), (3794, 0.008539578331295173), (1514, 0.008530642641126004), (1519, 0.008523843550272645), (1920, 0.008522767771017428), (3021, 0.008509098217715763), (3559, 0.008498085190978841), (4063, 0.00849669867937055), (3528, 0.008481108355675757), (4177, 0.008462337231750255), (3040, 0.008457561074264833), (183, 0.008453651242103054), (1350, 0.008452504733448872), (693, 0.008445609127716025), (3075, 0.00842749131417983), (3738, 0.008421202067685799), (4381, 0.008412360088198116), (199, 0.008404799077386088), (2803, 0.008388445014523883), (4139, 0.008379343599879244), (1538, 0.00836677419834242), (1795, 0.008324885329068204), (2537, 0.008307891162406216), (3268, 0.008281956259009573), (2886, 0.008278684886560674), (3170, 0.008255114194558476), (2404, 0.008237254924303874), (3898, 0.008234503635423615), (732, 0.008228599338346257), (2995, 0.008223970709488488), (4582, 0.008212382889320696), (698, 0.00820986683972422), (2006, 0.00818571579921315), (4044, 0.008180586404642776), (1009, 0.008177223763826104), (3247, 0.008154262140073159), (519, 0.008138701376925718), (3830, 0.008111330213549013), (2149, 0.008107663870938201), (3721, 0.008105165089602802), (4484, 0.008074596603368532), (1558, 0.00806628903616085), (2907, 0.008047696127221657), (3880, 0.00804186825963317), (786, 0.008039192129034317), (709, 0.00803743779580528), (3913, 0.008010929019622779), (2692, 0.00800429043895183), (355, 0.008001350373298065), (2453, 0.007975253638948274), (147, 0.00797476476621098), (2362, 0.007954233756378158), (1628, 0.00793974144932931), (2113, 0.007933884727185928), (1065, 0.007931066451228288), (3958, 0.007895386159888041), (1237, 0.007876947295075275), (2331, 0.007875368906199236), (3892, 0.007872816162508536), (1869, 0.007856479205895738), (3065, 0.007829430590387718), (3392, 0.007823494302254989), (2457, 0.007805643583022449), (2852, 0.007791700579806615), (1219, 0.007784495737092436), (4080, 0.007780361525639879), (3806, 0.00776710431842658), (3795, 0.007762140356623995), (3192, 0.00770797028860569), (1014, 0.007704566737756501), (1423, 0.007701079418002733), (132, 0.007693090523471573), (4102, 0.007689495259025436), (1342, 0.007688169190271922), (4026, 0.007687293838335718), (2423, 0.007632280249134312), (1458, 0.0076309043420585), (125, 0.0076131062338095), (1563, 0.007580281023969661), (3249, 0.007574535438527678), (1713, 0.00755137068639517), (3537, 0.007511762962210417), (2328, 0.0074989686004222796), (1037, 0.007498226266135557), (3945, 0.007476467467475138), (3922, 0.007476190255283036), (3008, 0.007434443160645767), (1763, 0.007430820459286161), (3074, 0.007430271952237092), (2499, 0.007418397183847449), (1296, 0.007410263051449298), (3934, 0.007409207877910957), (4233, 0.007389991744417912), (4147, 0.007374178824979934), (3544, 0.007371917562256631), (3669, 0.007353658252471289), (3020, 0.007352137849230718), (2253, 0.007281138712944293), (4196, 0.0072409928683551585), (1861, 0.007234867530344258), (796, 0.007204129695422064), (1417, 0.007195254087244732), (4023, 0.0071520184344456145), (1770, 0.007150625552347913), (3763, 0.007137375796081695), (3621, 0.007126351097360739), (4633, 0.007117339306118834), (1415, 0.007109432923537225), (3254, 0.00709499619759092), (1774, 0.007038072901115376), (1947, 0.007030412509018289), (3754, 0.007023413489290644), (3337, 0.006987889802728121), (925, 0.006963586913833484), (194, 0.006962055309102449), (2478, 0.006952310695385118), (2796, 0.006930725885145737), (3764, 0.00689451249841502), (2967, 0.006891895686981155), (313, 0.006891828685235902), (2223, 0.006885918555690158), (2411, 0.0068576340067199), (2914, 0.006849131858377144), (3992, 0.006845762248290867), (3761, 0.006832484438435143), (3373, 0.006816351787966543), (3962, 0.006801704981952154), (3585, 0.006800372750960735), (3180, 0.006797386789541942), (1761, 0.006795850374953151), (2708, 0.006778440903629558), (3146, 0.0067741300068564995), (2806, 0.006766467221489128), (283, 0.00674550058882685), (2782, 0.006741519181846575), (3003, 0.006727638858193902), (3062, 0.0067142466640784226), (2592, 0.006704576308418159), (1945, 0.006700577621584208), (3416, 0.0066438731281111855), (4446, 0.006643527051432443), (3202, 0.0066429312653991535), (2464, 0.0066420082329746374), (4308, 0.0066414546514392886), (224, 0.006639037752791262), (2324, 0.006625489151875197), (2823, 0.006605908592541822), (641, 0.006600745592053667), (4522, 0.0065998681277512315), (834, 0.006595953389109691), (350, 0.006593118643439805), (1012, 0.006587812065109098), (2882, 0.006581016364004705), (2507, 0.00657881674361916), (4734, 0.006544857937348274), (3622, 0.006539947736743012), (3834, 0.006537261587879132), (3319, 0.00652354339755862), (1773, 0.0065155029498070605), (2044, 0.006489862949956917), (2786, 0.006485487214972409), (4111, 0.006483252997776636), (1683, 0.006480658096304432), (1409, 0.006479033822759687), (2260, 0.006478551495531033), (230, 0.006476190556561405), (2970, 0.006455228236788815), (321, 0.006454634165240066), (273, 0.006453313371934726), (3084, 0.006423242619234794), (4489, 0.006423139892633755), (4054, 0.006421667466404324), (1822, 0.0063930277752912625), (3037, 0.006392631561347199), (2394, 0.006381411571667113), (1007, 0.0063756465111116396), (1902, 0.006365668866064181), (1536, 0.006353450788424322), (3798, 0.006337526620449949), (300, 0.006335563884437864), (2926, 0.006333638719825025), (2517, 0.006321726678899236), (3382, 0.006319405873934266), (2561, 0.006318269595302322), (1513, 0.006308734858283201), (3224, 0.006305225543573333), (884, 0.006300884504030145), (812, 0.006287906133017346), (835, 0.006287658751295124), (3349, 0.006283167161644718), (3517, 0.00627061076994967), (1765, 0.006263682348263755), (833, 0.006223662986701521), (933, 0.00618503004195905), (1337, 0.006180363972313739), (3113, 0.006176988295800584), (238, 0.006176871448531914), (3606, 0.006174889614857916), (2742, 0.006174310729541743), (2119, 0.00616905852227435), (4236, 0.006150145499600694), (3114, 0.006147717322189112), (4049, 0.0061463639152542285), (2396, 0.00611121806766922), (2554, 0.006109517410812332), (2110, 0.006101549283945299), (2192, 0.006098895908644847), (3155, 0.006097603604212068), (2284, 0.006088851547357135), (2495, 0.006055640257178536), (1159, 0.006046551269144908), (2387, 0.006043005863827144), (3673, 0.006031648464541056), (3630, 0.006022062086009503), (2060, 0.005994680023729684), (3888, 0.005992273195685006), (2569, 0.005984225218055285), (1598, 0.005978321929019923), (1309, 0.00597148183606435), (1541, 0.005961722117991836), (1100, 0.005955945830070409), (4530, 0.005922897698191142), (4036, 0.005917428782722266), (4229, 0.00590646927563975), (3402, 0.005901617078929449), (755, 0.005885560478849423), (2912, 0.005864149238391229), (2555, 0.0058394658811455405), (3503, 0.005807276177700741), (819, 0.005790991209543668), (984, 0.005760669741355915), (505, 0.005753249812554399), (4206, 0.005752667340392845), (4246, 0.00573417075003441), (1663, 0.005705358282021504), (4254, 0.0056864663054909705), (1203, 0.005686238026077052), (903, 0.005676865448227027), (2197, 0.005624532703843468), (4322, 0.005594185129400258), (1079, 0.005569220094488125), (3215, 0.0055615725327747235), (1236, 0.0055564334021790856), (759, 0.005513968465809031), (2728, 0.005512493712823769), (3267, 0.005495220130848591), (3940, 0.005482812071396973), (473, 0.00547907149081869), (2741, 0.005452911905050289), (1980, 0.005431959816404082), (3115, 0.0054309120989593776), (2976, 0.005425153837385227), (2703, 0.005400456094349439), (672, 0.005400298183478752), (1830, 0.0053661575827636775), (1954, 0.0053647234284525305), (1251, 0.005359081059916707), (475, 0.00535831952313296), (3755, 0.005352409966693618), (712, 0.005350591141527782), (4066, 0.005318480185887004), (851, 0.00530542942744069), (1943, 0.00527132801624758), (2721, 0.0052623003832576055), (1397, 0.005237167419271481), (2270, 0.005232643913193653), (1370, 0.005221916480128512), (4627, 0.005196593774854886), (3088, 0.00518764696723464), (1088, 0.005177059246237447), (2146, 0.005175572495882271), (2669, 0.005159200578081965), (3946, 0.00515708114508551), (4144, 0.005137227336910412), (2657, 0.00511009796514866), (4636, 0.0051071683770033145), (2157, 0.0050924078860472375), (2684, 0.005052098023369989), (1078, 0.0050434789078881645), (2659, 0.005025162960785076), (2312, 0.005022564055897633), (155, 0.0049623996769662705), (996, 0.004922768133654968), (4744, 0.004909464381220757), (2925, 0.004862479586693029), (3266, 0.004825889390712457), (2395, 0.004825666529654838), (3796, 0.004825020543954763), (4239, 0.004819730196110723), (3949, 0.004795542057490237), (2667, 0.004753732768599824), (2922, 0.004746785096920403), (4700, 0.004723656423518958), (4115, 0.004707180010605428), (2990, 0.004696289322098666), (1939, 0.004629794221025117), (2483, 0.0046007694559153725), (2715, 0.00459265118343413), (2536, 0.00455717924832661), (2948, 0.004543075449583067), (4537, 0.004541170376423789), (3439, 0.004524905752087829), (2228, 0.004515178760661971), (4040, 0.004501678571169247), (3715, 0.00450166234420082), (2941, 0.0044832502774479885), (2282, 0.0044821971242810605), (2875, 0.004433942368724535), (2455, 0.004427973402391203), (3740, 0.004415078954140407), (4151, 0.00441141787371689), (2600, 0.004401344631387965), (3087, 0.004401255036176391), (3988, 0.004391134500472014), (3844, 0.004371654246968737), (2939, 0.004344981595306327), (4058, 0.004339269722535139), (4562, 0.004333876731005506), (2515, 0.004331171448120786), (842, 0.004265706615715706), (4725, 0.00425867002556522), (2077, 0.004254577603792459), (4631, 0.004236438965345717), (4127, 0.004234621827934647), (4720, 0.00423428592230233), (2781, 0.0042042440530675705), (3203, 0.004201469061177678), (2727, 0.004195994393531954), (3054, 0.004191911053650201), (1941, 0.004175452766155056), (4570, 0.004170264048281613), (4204, 0.00415221930686253), (461, 0.004131274958824263), (611, 0.004125153089544757), (4711, 0.004117452596871878), (2299, 0.0041058031573623375), (3324, 0.004099934346631184), (711, 0.004097795798865603), (4285, 0.004093960272380541), (2635, 0.0040876980619043235), (2468, 0.004076125427270541), (740, 0.004062729635641237), (4346, 0.00404737337034369), (2261, 0.00404375871716943), (905, 0.004035579715534411), (2676, 0.00400035879451228), (4496, 0.003993089181461662), (2305, 0.003989985819632776), (3791, 0.003980700690767977), (2357, 0.0039604682363408965), (3649, 0.00395764500771297), (4317, 0.003955943708558948), (4737, 0.003955591903992869), (2138, 0.003953970800242707), (3383, 0.0039501987266219556), (3820, 0.0039439566806393775), (839, 0.003941491090939392), (1999, 0.003940743665355635), (1560, 0.003931246298805621), (2757, 0.003929839981912327), (139, 0.003914149239360486), (1311, 0.00391371870630477), (2810, 0.003909844385582716), (2164, 0.003904791716469544), (2479, 0.0038956408234864983), (1260, 0.0038915272892273986), (3080, 0.003888523497674348), (2384, 0.0038854024764240986), (1371, 0.003875252330017308), (1836, 0.003873438115239867), (3688, 0.00386554316672567), (3572, 0.003862382473984863), (3652, 0.0038547268884257836), (2998, 0.003854574304286893), (1766, 0.003849709001641312), (3519, 0.0038408399771833364), (2930, 0.0038356636963996476), (1089, 0.0038354946206320827), (3581, 0.0038350026666651867), (3207, 0.003833699680578421), (990, 0.0038323110150085666), (841, 0.0038306157610582753), (1844, 0.0038301124861501888), (3837, 0.003829353496079162), (2452, 0.0038272635980086795), (2811, 0.0038203595437278767), (3628, 0.0038149219537830913), (2575, 0.003813003410688895), (678, 0.0038031775853366507), (4258, 0.0038010937481373374), (2604, 0.003796556534012764), (2979, 0.0037901730409747765), (2082, 0.003784645988235491), (4413, 0.0037826696680463997), (2021, 0.0037762012793071194), (771, 0.0037584638124951654), (3943, 0.003749850940149428), (2124, 0.003738717124817686), (4131, 0.003733265208936915), (4173, 0.0037325505432793888), (1732, 0.00372860237837879), (4607, 0.003728382880654233), (4370, 0.003725879534632733), (1609, 0.0037228020271861985), (1333, 0.003720230604200566), (1791, 0.0037139654200339742), (1205, 0.0037119485209434486), (3236, 0.0037104054357828303), (1856, 0.003710035648720326), (4560, 0.0037100033712843786), (1926, 0.0037069876026032235), (1596, 0.0037057561371593296), (4622, 0.0037031045756513266), (4256, 0.00370207677470138), (3442, 0.0037004420376753507), (4655, 0.0036926287993959243), (4260, 0.0036872589438846624), (2937, 0.0036869075568376464), (4180, 0.003686612933015661), (3041, 0.003682338469209067), (3422, 0.0036797022853710492), (4323, 0.0036746339044144084), (4705, 0.003670942889091675), (667, 0.0036677757478249724), (3051, 0.003662459127861687), (2754, 0.0036574650704667634), (1193, 0.0036556253782147317), (1142, 0.003654749442981261), (2217, 0.0036521596802156935), (2002, 0.0036513121311020132), (3415, 0.0036510743131836347), (2768, 0.0036497635517120197), (3038, 0.0036493522450065504), (3672, 0.0036484453232115237), (3591, 0.003641031837925203), (2090, 0.0036409654939805807), (2042, 0.003640339183461632), (4433, 0.003639710878285099), (3162, 0.0036377868930058963), (1024, 0.0036335069266729626), (793, 0.003623053808968971), (2325, 0.003621632002041271), (2194, 0.0036182223185039835), (4552, 0.0036160541644217263), (1165, 0.0036136889238741828), (4648, 0.0036079133257014328), (2189, 0.0036041725538701838), (1847, 0.0036018812667059155), (2456, 0.0036006539604129793), (1244, 0.0035984439355493175), (1735, 0.003597693336603813), (59, 0.0035942955282870603), (730, 0.003592133855954383), (1697, 0.003590948554497153), (4202, 0.0035901798893290425), (1777, 0.0035840487370100904), (1917, 0.003581078785864437), (245, 0.0035784128206092676), (2307, 0.0035783845647175297), (2989, 0.0035776694907155493), (2251, 0.0035724226946598036), (42, 0.0035683829065658195), (3209, 0.003567884161923895), (2200, 0.0035650118592196233), (134, 0.0035637670768959265), (2290, 0.0035599976385465573), (1166, 0.0035561135875218828), (3060, 0.003546158568732321), (2551, 0.00354467492622263), (3990, 0.003543969893639032), (2896, 0.0035426729853500847), (1889, 0.003541806299734815), (2685, 0.0035404742271445107), (2586, 0.0035346674699839814), (2889, 0.0035345093900077383), (4214, 0.0035336697414484653), (3462, 0.0035319355781344435), (3332, 0.0035303940711673516), (1879, 0.003529360428414588), (3676, 0.0035254350155720852), (3245, 0.003524789790299145), (3119, 0.0035199782069782757), (4617, 0.0035116125385265076), (2153, 0.003507685375836461), (4704, 0.0035075995085875546), (3052, 0.0035070178258466748), (1388, 0.003503807655342903), (822, 0.0035033780648896454), (4184, 0.0035028534240796653), (943, 0.003496980210860301), (3055, 0.0034937929605188722), (2081, 0.0034923074158195494), (2709, 0.0034901342185756665), (2804, 0.0034896842497929236), (4195, 0.003486497298731074), (849, 0.003486316101361592), (1227, 0.003485077325829125), (4291, 0.0034837265909414784), (965, 0.003480988361355605), (3561, 0.0034805872557089096), (3104, 0.0034804470619334525), (3805, 0.003478471524660853), (3106, 0.003477570401991413), (627, 0.003476687206632144), (4457, 0.0034757584531682865), (4675, 0.003475500931626074), (1444, 0.0034714173624978005), (3635, 0.0034713598956133663), (2336, 0.0034690360940050884), (1196, 0.0034658452930053773), (947, 0.0034634578375828846), (3545, 0.003462684793088033), (1834, 0.0034585022908279295), (1837, 0.0034543768229619337), (1198, 0.003453265708291346), (2825, 0.0034463359709202657), (4749, 0.0034457548487290875), (2435, 0.00344490902553523), (4529, 0.003442571359992003), (2298, 0.003442555547694238), (535, 0.0034422352376151906), (3350, 0.003441684094601336), (3443, 0.0034409801803242214), (1757, 0.003436654067579663), (2484, 0.0034330010445119525), (2310, 0.003432892771556264), (4221, 0.0034328235819963923), (3090, 0.0034305428714776045), (1330, 0.0034246046442550668), (2639, 0.003422838069055644), (3685, 0.003422468325622956), (4611, 0.003422336817209793), (2694, 0.0034201300091713806), (3939, 0.003419693316958212), (459, 0.003417757621793038), (1842, 0.003413345101952608), (4234, 0.0034032572762698002), (2861, 0.0034032442924553613), (2932, 0.003394725446066156), (4172, 0.003394353627754002), (503, 0.0033936064071479186), (1235, 0.003388147099508202), (404, 0.0033855308556482904), (662, 0.003382445930866816), (3366, 0.003369241122525992), (3896, 0.0033639572305247264), (4696, 0.0033637123465138224), (2628, 0.0033611503171847965), (3582, 0.0033607593266317412), (1900, 0.00335871902015474), (4407, 0.0033584322706539708), (720, 0.003355253522139953), (2392, 0.003352410705697558), (3292, 0.003351737365527885), (1544, 0.003348875728857715), (3762, 0.003344995445965624), (4434, 0.003341902760093196), (1912, 0.003340037920251774), (3595, 0.003337794683024227), (3824, 0.003329675290681045), (4423, 0.003329416871112062), (2620, 0.003328941300915575), (4019, 0.003328389422933002), (2425, 0.003327648976842877), (2050, 0.0033264879540629627), (2644, 0.0033194842532798734), (2787, 0.0033172667007418414), (2140, 0.0033171407106845126), (2690, 0.0033127738499320585), (2255, 0.003312581966926684), (2257, 0.003305686432774029), (1211, 0.003305654419906419), (4037, 0.003304833194818481), (3322, 0.0033044799336646286), (889, 0.0033043634644788966), (3262, 0.0033036977825020362), (1785, 0.0033010870842627243), (2901, 0.0032965128980957242), (4230, 0.0032898293307341824), (1783, 0.0032824909372117287), (2179, 0.003277281598319317), (311, 0.0032744513254385032), (4400, 0.003273059753037216), (3250, 0.0032718739998328773), (4690, 0.003271632135948079), (1898, 0.0032620571303536997), (3848, 0.003257433468817413), (1899, 0.003252246386038096), (4606, 0.0032505224074999236), (3732, 0.0032502086005379246), (1673, 0.003247756786711349), (3828, 0.003247186560041735), (4710, 0.003245453711143474), (2450, 0.003243068710493472), (3543, 0.0032429898537821803), (2795, 0.0032424920751367775), (4305, 0.0032408980934613917), (2272, 0.003240400220470139), (3354, 0.003232588376215085), (526, 0.0032286621690680696), (2093, 0.0032264607445797538), (745, 0.003225501511874376), (770, 0.0032222178283398007), (2445, 0.0032109061529900012), (4469, 0.003207999408256552), (3687, 0.0032069063854457455), (4692, 0.003205011723756482), (4521, 0.003204789337454257), (4577, 0.0032031782609754176), (920, 0.0032026074078659096), (1331, 0.0031975912030140544), (2225, 0.0031953315049412243), (4186, 0.003193463296515215), (1242, 0.003191418986222084), (2557, 0.003184357889287052), (2438, 0.0031803001440962523), (3159, 0.0031777393007090472), (3885, 0.0031736039757171404), (2033, 0.0031732783918466175), (4107, 0.0031703925513062053), (3613, 0.0031669130389094533), (4447, 0.003165048276445465), (4724, 0.0031650450111872174), (3521, 0.003163110392995015), (2063, 0.0031627496651200604), (2424, 0.0031620923623887063), (4572, 0.003151146522092972), (4209, 0.0031462369806758116), (4443, 0.0031453157238586957), (3874, 0.0031397054288208057), (4723, 0.0031392699352190767), (3031, 0.003136409161155946), (3123, 0.003131790889758528), (2879, 0.0031268873377528743), (3620, 0.0031264969894710098), (3358, 0.0031171131477998716), (1593, 0.003111561362809301), (1064, 0.003110684355864439), (2833, 0.0031096155847286245), (383, 0.0031091833139591384), (3206, 0.0031064844674343842), (2778, 0.0031046260952520945), (2454, 0.00310040186793442), (3485, 0.003100033827654883), (1694, 0.003097413887788432), (2993, 0.0030968820701490958), (3901, 0.0030964765098094728), (2366, 0.0030938216272731593), (1264, 0.003092816572312311), (393, 0.0030893927598550116), (3861, 0.0030890836436865497), (1429, 0.0030866570911655864), (777, 0.0030859183293524784), (4358, 0.0030779401411482814), (836, 0.003075482217329023), (1213, 0.0030645355209141948), (3766, 0.0030618944180653414), (3675, 0.0030606403254711916), (4701, 0.0030601072626378492), (2433, 0.0030550123096653374), (4637, 0.0030466656917921614), (4490, 0.0030449284810767203), (2059, 0.0030425485179658572), (2772, 0.003041467189453554), (1348, 0.003038755052430979), (4735, 0.0030382733636199572), (2971, 0.003035479691473113), (3935, 0.003025482888734399), (2613, 0.003024798485872238), (4416, 0.003022267517858308), (3081, 0.003021665681702312), (2378, 0.0030216285988902665), (4584, 0.003018538597338425), (2089, 0.00301699481848416), (4694, 0.0030168068591010923), (2406, 0.003015909527861921), (2707, 0.0030134354892906653), (4426, 0.0030101287307512884), (1212, 0.0030095924036250216), (4412, 0.0030076802376807947), (4030, 0.0030052356512168124), (1323, 0.002997387936183654), (2142, 0.002994506500627788), (1547, 0.0029904130261238157), (4126, 0.002987716596223677), (3884, 0.0029873078165225096), (1070, 0.0029817178302954913), (4163, 0.002976783809210096), (3729, 0.0029755712154636263), (860, 0.0029748737248781352), (4398, 0.002966872647642806), (2987, 0.0029641461477261963), (3419, 0.002963043929490368), (3396, 0.0029615460841336256), (721, 0.0029418768934066624), (4244, 0.002941445555066705), (3639, 0.0029384945300156935), (1497, 0.0029302755076130523), (4753, 0.0029277273909282847), (3883, 0.0029267187209265624), (1062, 0.0029169812295178612), (2437, 0.002914303358806625), (4187, 0.0029133122516117357), (3186, 0.0029112640086928513), (2373, 0.0029093826423240462), (964, 0.002908271341206503), (2881, 0.002907926034449604), (2623, 0.002906666447581011), (3043, 0.0029065809471695847), (478, 0.0029058199348062723), (4092, 0.0029056071578545243), (2400, 0.0029040446871637566), (3680, 0.0029034070340634827), (4494, 0.002900590983513234), (1148, 0.002898943301383189), (281, 0.0028985121875174133), (1383, 0.0028983331157595876), (3212, 0.0028920480711014575), (533, 0.002887857744066844), (2770, 0.0028848577898046954), (922, 0.002880635013329894), (2903, 0.002879342164522563), (3196, 0.0028791342377305885), (4160, 0.0028787177661896216), (3012, 0.002878620696905427), (2025, 0.002877809893062724), (596, 0.0028768240358485967), (2916, 0.0028759506931457517), (1862, 0.0028755606255627527), (1499, 0.0028741901447297447), (3032, 0.002873933719226336), (4396, 0.002872604550324879), (2356, 0.002870244030504274), (4401, 0.002868652800255299), (3737, 0.0028669958883273104), (458, 0.0028648964399279617), (3640, 0.002863422354053355), (2913, 0.0028614482373820723), (4397, 0.002857504689708214), (4593, 0.0028550443760641535), (1498, 0.0028544831636394606), (1890, 0.0028489895009385716), (1326, 0.0028478728440111734), (2018, 0.0028455196531734198), (1960, 0.0028427787305023103), (2428, 0.002833520518760182), (1754, 0.0028283979775857297), (3971, 0.0028133701001136057), (4048, 0.0028108049271270375), (4601, 0.0028103069573981185), (1646, 0.002806969788023495), (3714, 0.002806426327732497), (3497, 0.002805327527568606), (2364, 0.0028049168615095154), (896, 0.0028048700114107956), (2646, 0.0028031119207795135), (673, 0.0028018780424018475), (3749, 0.002799492244756144), (4116, 0.0027992219314583707), (4519, 0.002798785295302266), (2293, 0.002798692882288357), (499, 0.002794189681797705), (2097, 0.002794014506773948), (3064, 0.002793812053808232), (1268, 0.0027928756719184126), (4087, 0.0027911241200862095), (4528, 0.0027883703373417544), (3642, 0.002784233377657123), (1325, 0.0027829287351889324), (2888, 0.002781269467212432), (4545, 0.0027784993354809037), (3704, 0.0027746401597837176), (4024, 0.0027727019203893266), (3757, 0.0027696589766224794), (4579, 0.0027675073537301205), (210, 0.002767183106811638), (3692, 0.002764504801338569), (430, 0.002763533643331422), (4161, 0.002762185146225127), (3112, 0.0027609233908254343), (1995, 0.0027608499082624302), (4540, 0.002758840285854317), (4245, 0.0027586136028960166), (991, 0.0027560853766519997), (2254, 0.0027552358896113243), (2723, 0.002753649027080345), (3781, 0.002751021171224845), (21, 0.002745710121787687), (3007, 0.00274294826515274), (2393, 0.0027400387457451455), (4231, 0.002738899606350925), (1320, 0.00273857031273354), (826, 0.002738278571358697), (4355, 0.002735314726198712), (3987, 0.002734630736912732), (3590, 0.0027273887645554184), (2361, 0.0027234099584662794), (68, 0.0027230275148088295), (4505, 0.0027177533036265686), (1853, 0.0027177258864078744), (2953, 0.002717702865086251), (2288, 0.0027158056481297447), (2849, 0.00271440086263496), (4318, 0.002713108656774517), (1918, 0.0027120591836363684), (4123, 0.0027110108307738406), (4, 0.0027090731075112796), (1225, 0.0027086271883950126), (1400, 0.002706490949405887), (1916, 0.0027056802137589357), (2419, 0.002697482596919026), (3372, 0.00269654424476201), (716, 0.002692436382485364), (429, 0.002690870328435228), (4430, 0.002688213239479675), (4497, 0.002688111471322725), (20, 0.002685576464944684), (3770, 0.0026849426704264132), (580, 0.0026829949230014203), (837, 0.002681722921396708), (3862, 0.002681545825042861), (4083, 0.0026805608083912075), (3574, 0.002679345832755416), (972, 0.0026721549742290377), (1083, 0.0026714376837206873), (4361, 0.0026712781187189704), (3353, 0.002669323523384969), (3666, 0.0026659276006368885), (637, 0.0026588193348926863), (2123, 0.002657587560801298), (1703, 0.0026565452338557297), (4340, 0.0026555103313794927), (3527, 0.0026540675631114567), (980, 0.002653638124603261), (2919, 0.0026524225417041804), (806, 0.0026496589741944894), (4249, 0.0026491846731177835), (120, 0.002647992825624751), (3636, 0.0026459735289108984), (1717, 0.002644302008857815), (743, 0.002638401046272076), (176, 0.002638272616218978), (1334, 0.002635736369489646), (4098, 0.002631861300229384), (3542, 0.002626995297534829), (652, 0.002626218119552039), (1174, 0.0026248160105236803), (3699, 0.0026224924911344735), (1176, 0.0026208823440973705), (593, 0.0026188278447565544), (3653, 0.002617282865327252), (2073, 0.002616769448681376), (3707, 0.0026131909796918294), (3501, 0.002609902859139853), (2295, 0.0026083799209309397), (1440, 0.00260719554067078), (4004, 0.002603857186571113), (2091, 0.0026032951268627254), (2374, 0.0026021250940181095), (2887, 0.0026016071633610835), (4014, 0.0025978545509224315), (1138, 0.0025972647182662075), (4677, 0.0025951101021629273), (1335, 0.0025931239562290843), (636, 0.0025930296894296585), (1922, 0.002591886239570072), (1706, 0.002590943160797851), (4266, 0.0025908441288846474), (3210, 0.0025898673662248664), (848, 0.002589388322498215), (628, 0.002588670010958905), (2934, 0.0025862649295021354), (2606, 0.0025852908824086735), (2067, 0.002582995281645686), (2533, 0.0025823827945743124), (4081, 0.0025817693445174586), (378, 0.00257855474415651), (4715, 0.0025741823468749116), (2695, 0.0025707256823931475), (761, 0.0025679397218543146), (226, 0.0025672064123432848), (986, 0.0025655984809659135), (1163, 0.0025630330773349043), (4268, 0.0025571887647834668), (3216, 0.002555034228919758), (4409, 0.0025523695603765955), (2289, 0.0025497786108600105), (1102, 0.002548250456791159), (4000, 0.0025467482134510014), (3441, 0.0025464699985619263), (3727, 0.0025457111871679977), (1891, 0.0025452805076877916), (3624, 0.0025437662615897466), (1072, 0.002543046684565979), (4520, 0.002541717692165005), (247, 0.0025386734428399227), (466, 0.002538405848396342), (3381, 0.002536899810601746), (4228, 0.0025366098726402526), (1621, 0.002531155713354134), (4668, 0.0025299071585638015), (2173, 0.002528310211493384), (2961, 0.0025272959213918987), (3093, 0.0025268373637394935), (2946, 0.002526807729021891), (3195, 0.0025267213405505942), (3647, 0.0025261473046874284), (989, 0.0025253868126055273), (4349, 0.002524709506031552), (3827, 0.002517431092361562), (1882, 0.002515658822457969), (4362, 0.0025140351053724594), (26, 0.002512220809421148), (3069, 0.0025073493557691375), (3719, 0.002506080817955044), (4743, 0.0025052183906450706), (799, 0.002502977927671527), (2279, 0.0025016914089013935), (2401, 0.0024953237037601684), (1967, 0.002494309083778729), (4693, 0.0024940531673991735), (1813, 0.0024927058546281027), (3370, 0.00249224823291987), (4573, 0.002489032223729645), (4673, 0.0024868002684820057), (1671, 0.0024858328625788004), (4129, 0.002485216551494507), (2080, 0.002480722768721594), (87, 0.002478586304632202), (3660, 0.0024759857422820965), (2716, 0.0024731244243392744), (4461, 0.002471758335283455), (646, 0.0024690989901126853), (3900, 0.0024689431988957878), (4729, 0.0024662756111315737), (1478, 0.0024586847395749517), (487, 0.0024578682311527664), (2752, 0.0024557440718128046), (2141, 0.002454112307943326), (4567, 0.0024539192295525755), (1416, 0.0024535926078609097), (3978, 0.0024489905603263342), (3035, 0.002444295391009515), (3691, 0.0024431509359045755), (3171, 0.002442370485799847), (3036, 0.0024410858323495052), (1123, 0.0024401831882674883), (3799, 0.0024338406429663543), (2679, 0.002429598123266619), (2997, 0.0024268172840958974), (2800, 0.0024257814369661205), (1032, 0.002425076048243319), (3734, 0.002421654495921017), (1036, 0.0024215885944733886), (276, 0.0024209220267167823), (3615, 0.002417844288619788), (236, 0.002411747953056569), (140, 0.0024051062369709057), (1665, 0.002404027410329793), (1884, 0.0023998167684586616), (3452, 0.0023941957831137804), (229, 0.00239371757346028), (598, 0.0023922517853804427), (868, 0.002383878071192109), (1183, 0.0023832058412547224), (1641, 0.002380949818887078), (2556, 0.0023807922270369214), (3120, 0.0023771083498562023), (3627, 0.0023756450874387923), (1760, 0.0023738735066298395), (4616, 0.0023717938170820093), (136, 0.002371029075369922), (2735, 0.002370624806843818), (2593, 0.0023688799443255908), (3369, 0.0023683222070753564), (558, 0.0023675916681274774), (1667, 0.0023662808441448366), (1357, 0.002366126179973335), (1814, 0.0023640862802216268), (2674, 0.0023635020657851555), (3455, 0.002357519312717271), (359, 0.002356263089180655), (4326, 0.00235399189157236), (1672, 0.002350446273543772), (4620, 0.002345940773789624), (4502, 0.002345023085828114), (1796, 0.0023426586428496117), (4638, 0.0023421307007931266), (3278, 0.002334639773412711), (1680, 0.002331847429700665), (1892, 0.002331460538715762), (4053, 0.002329783565238166), (1826, 0.00232174581197081), (1161, 0.0023177137116782726), (581, 0.002313781244132261), (3974, 0.002310953235459554), (4475, 0.0023088730584602665), (1625, 0.002308780402711706), (1739, 0.0023086183376153833), (2248, 0.0023082895397874125), (3863, 0.0023072041115708196), (2191, 0.0023026423655587496), (917, 0.0022982024143152254), (3556, 0.002295733515144554), (268, 0.002290009772016618), (4608, 0.0022784623067922064), (4661, 0.0022759219772733163), (4343, 0.002271047637175282), (4220, 0.002265038200649952), (92, 0.002259551288043234), (4432, 0.0022473153260005427), (4296, 0.0022364526240754084), (4232, 0.0022321335137623134), (4429, 0.0022293060203486966), (4386, 0.0022144082924310435), (286, 0.0022032704605936633), (2743, 0.002201329964249209), (1050, 0.0021873666811585194), (626, 0.0021758895045688453), (267, 0.0021758579021435953), (3347, 0.0021549874122373594), (2359, 0.002143025960532098), (3331, 0.0021402928427931914), (16, 0.0021400279730206234), (1209, 0.0021396109651385313), (3252, 0.002139431592753199), (2602, 0.0021304303695665727), (3024, 0.002123962586934128), (3548, 0.002111426940620883), (2697, 0.0021019563506102226), (3756, 0.0021002132280067026), (645, 0.002097032048809993), (1098, 0.002093693097860578), (942, 0.00208733901899014), (4626, 0.002075849870375647), (953, 0.0020672844980084946), (3431, 0.0020618254577210444), (2010, 0.0020276379715676494), (3301, 0.002010612909025888), (571, 0.001979627461439198), (453, 0.0019633277883869754), (4301, 0.0019049273876737942), (2902, 0.0018883697174450697), (542, 0.0018004905652402468), (858, 0.0017336094808185721), (24, 0.0016769415048338069), (3608, 0.001672378225401687), (2538, 0.0015362489224331523), (1, 0.0), (17, 0.0), (30, 0.0), (47, 0.0), (54, 0.0), (69, 0.0), (77, 0.0), (93, 0.0), (95, 0.0), (118, 0.0), (133, 0.0), (143, 0.0), (151, 0.0), (163, 0.0), (180, 0.0), (181, 0.0), (187, 0.0), (207, 0.0), (265, 0.0), (289, 0.0), (290, 0.0), (295, 0.0), (314, 0.0), (315, 0.0), (316, 0.0), (320, 0.0), (323, 0.0), (333, 0.0), (360, 0.0), (394, 0.0), (423, 0.0), (435, 0.0), (462, 0.0), (501, 0.0), (513, 0.0), (516, 0.0), (539, 0.0), (550, 0.0), (552, 0.0), (554, 0.0), (556, 0.0), (557, 0.0), (559, 0.0), (570, 0.0), (574, 0.0), (592, 0.0), (595, 0.0), (601, 0.0), (602, 0.0), (625, 0.0), (650, 0.0), (674, 0.0), (682, 0.0), (695, 0.0), (713, 0.0), (718, 0.0), (801, 0.0), (811, 0.0), (825, 0.0), (855, 0.0), (932, 0.0), (954, 0.0), (977, 0.0), (992, 0.0), (1003, 0.0), (1051, 0.0), (1055, 0.0), (1058, 0.0), (1076, 0.0), (1081, 0.0), (1082, 0.0), (1091, 0.0), (1097, 0.0), (1127, 0.0), (1134, 0.0), (1137, 0.0), (1147, 0.0), (1151, 0.0), (1158, 0.0), (1164, 0.0), (1181, 0.0), (1189, 0.0), (1228, 0.0), (1230, 0.0), (1240, 0.0), (1258, 0.0), (1265, 0.0), (1269, 0.0), (1283, 0.0), (1285, 0.0), (1287, 0.0), (1315, 0.0), (1332, 0.0), (1386, 0.0), (1391, 0.0), (1399, 0.0), (1435, 0.0), (1452, 0.0), (1455, 0.0), (1460, 0.0), (1466, 0.0), (1470, 0.0), (1529, 0.0), (1531, 0.0), (1540, 0.0), (1554, 0.0), (1556, 0.0), (1576, 0.0), (1591, 0.0), (1604, 0.0), (1631, 0.0), (1633, 0.0), (1661, 0.0), (1674, 0.0), (1686, 0.0), (1745, 0.0), (1749, 0.0), (1753, 0.0), (1789, 0.0), (1815, 0.0), (1820, 0.0), (1832, 0.0), (1835, 0.0), (1840, 0.0), (1846, 0.0), (1894, 0.0), (1901, 0.0), (1904, 0.0), (1927, 0.0), (1930, 0.0), (1933, 0.0), (1940, 0.0), (1953, 0.0), (1962, 0.0), (1966, 0.0), (1972, 0.0), (1975, 0.0), (1976, 0.0), (1979, 0.0), (2028, 0.0), (2030, 0.0), (2038, 0.0), (2054, 0.0), (2066, 0.0), (2130, 0.0), (2136, 0.0), (2171, 0.0), (2172, 0.0), (2181, 0.0), (2184, 0.0), (2206, 0.0), (2232, 0.0), (2235, 0.0), (2238, 0.0), (2243, 0.0), (2275, 0.0), (2314, 0.0), (2341, 0.0), (2342, 0.0), (2343, 0.0), (2345, 0.0), (2358, 0.0), (2365, 0.0), (2369, 0.0), (2372, 0.0), (2383, 0.0), (2413, 0.0), (2429, 0.0), (2451, 0.0), (2462, 0.0), (2471, 0.0), (2476, 0.0), (2506, 0.0), (2521, 0.0), (2541, 0.0), (2549, 0.0), (2573, 0.0), (2577, 0.0), (2583, 0.0), (2599, 0.0), (2658, 0.0), (2670, 0.0), (2683, 0.0), (2686, 0.0), (2700, 0.0), (2717, 0.0), (2733, 0.0), (2750, 0.0), (2773, 0.0), (2815, 0.0), (2824, 0.0), (2828, 0.0), (2837, 0.0), (2851, 0.0), (2860, 0.0), (2864, 0.0), (2869, 0.0), (2885, 0.0), (2905, 0.0), (2918, 0.0), (2921, 0.0), (2927, 0.0), (2947, 0.0), (2950, 0.0), (2952, 0.0), (2956, 0.0), (2959, 0.0), (2960, 0.0), (3002, 0.0), (3025, 0.0), (3029, 0.0), (3047, 0.0), (3049, 0.0), (3058, 0.0), (3059, 0.0), (3068, 0.0), (3079, 0.0), (3100, 0.0), (3110, 0.0), (3126, 0.0), (3136, 0.0), (3138, 0.0), (3156, 0.0), (3160, 0.0), (3176, 0.0), (3185, 0.0), (3191, 0.0), (3208, 0.0), (3213, 0.0), (3223, 0.0), (3251, 0.0), (3255, 0.0), (3263, 0.0), (3281, 0.0), (3305, 0.0), (3338, 0.0), (3339, 0.0), (3340, 0.0), (3385, 0.0), (3404, 0.0), (3405, 0.0), (3427, 0.0), (3429, 0.0), (3432, 0.0), (3440, 0.0), (3453, 0.0), (3468, 0.0), (3472, 0.0), (3473, 0.0), (3476, 0.0), (3480, 0.0), (3482, 0.0), (3488, 0.0), (3520, 0.0), (3522, 0.0), (3530, 0.0), (3535, 0.0), (3550, 0.0), (3573, 0.0), (3576, 0.0), (3600, 0.0), (3602, 0.0), (3605, 0.0), (3607, 0.0), (3609, 0.0), (3625, 0.0), (3663, 0.0), (3664, 0.0), (3679, 0.0), (3682, 0.0), (3693, 0.0), (3700, 0.0), (3702, 0.0), (3710, 0.0), (3717, 0.0), (3723, 0.0), (3726, 0.0), (3744, 0.0), (3750, 0.0), (3760, 0.0), (3768, 0.0), (3769, 0.0), (3775, 0.0), (3782, 0.0), (3785, 0.0), (3788, 0.0), (3793, 0.0), (3816, 0.0), (3838, 0.0), (3843, 0.0), (3849, 0.0), (3850, 0.0), (3860, 0.0), (3887, 0.0), (3908, 0.0), (3918, 0.0), (3942, 0.0), (3947, 0.0), (3981, 0.0), (3995, 0.0), (3997, 0.0), (4021, 0.0), (4041, 0.0), (4043, 0.0), (4047, 0.0), (4065, 0.0), (4072, 0.0), (4078, 0.0), (4088, 0.0), (4090, 0.0), (4096, 0.0), (4103, 0.0), (4122, 0.0), (4128, 0.0), (4165, 0.0), (4167, 0.0), (4170, 0.0), (4179, 0.0), (4181, 0.0), (4185, 0.0), (4208, 0.0), (4212, 0.0), (4215, 0.0), (4219, 0.0), (4224, 0.0), (4227, 0.0), (4235, 0.0), (4238, 0.0), (4248, 0.0), (4250, 0.0), (4251, 0.0), (4261, 0.0), (4276, 0.0), (4278, 0.0), (4302, 0.0), (4307, 0.0), (4310, 0.0), (4316, 0.0), (4331, 0.0), (4352, 0.0), (4365, 0.0), (4366, 0.0), (4375, 0.0), (4377, 0.0), (4380, 0.0), (4384, 0.0), (4390, 0.0), (4393, 0.0), (4405, 0.0), (4410, 0.0), (4415, 0.0), (4417, 0.0), (4424, 0.0), (4425, 0.0), (4439, 0.0), (4455, 0.0), (4456, 0.0), (4485, 0.0), (4491, 0.0), (4500, 0.0), (4509, 0.0), (4512, 0.0), (4513, 0.0), (4526, 0.0), (4527, 0.0), (4532, 0.0), (4538, 0.0), (4547, 0.0), (4553, 0.0), (4559, 0.0), (4561, 0.0), (4569, 0.0), (4578, 0.0), (4585, 0.0), (4586, 0.0), (4595, 0.0), (4623, 0.0), (4639, 0.0), (4644, 0.0), (4645, 0.0), (4651, 0.0), (4654, 0.0), (4656, 0.0), (4662, 0.0), (4664, 0.0), (4665, 0.0), (4666, 0.0), (4671, 0.0), (4672, 0.0), (4681, 0.0), (4691, 0.0), (4697, 0.0), (4698, 0.0), (4703, 0.0), (4707, 0.0), (4709, 0.0), (4714, 0.0), (4716, 0.0), (4728, 0.0), (4736, 0.0), (4740, 0.0), (4742, 0.0), (4745, 0.0), (4747, 0.0), (4750, 0.0), (4751, 0.0), (4754, 0.0), (4758, 0.0), (4759, 0.0)]\n"
          ]
        }
      ]
    },
    {
      "cell_type": "code",
      "source": [
        "#print the names of similiar movies based on index\n",
        "print('Movies suggested for you : \\n')\n",
        "\n",
        "i=1\n",
        "for movie in sorted_similar_movies:\n",
        "  index= movie[0]\n",
        "  title_from_index= df[df.index==index]['Movie_Title'].values[0]\n",
        "  if(i<30):\n",
        "    print(i,'.',title_from_index)\n",
        "    i+=1"
      ],
      "metadata": {
        "colab": {
          "base_uri": "https://localhost:8080/"
        },
        "id": "VWVsUl0J7WX0",
        "outputId": "d8a0b63c-321d-4fb9-acb8-8829d75daefa"
      },
      "execution_count": 38,
      "outputs": [
        {
          "output_type": "stream",
          "name": "stdout",
          "text": [
            "Movies suggested for you : \n",
            "\n",
            "1 . Forrest Gump\n",
            "2 . The Green Mile\n",
            "3 . A Home at the End of the World\n",
            "4 . The Deer Hunter\n",
            "5 . Rain Man\n",
            "6 . Cast Away\n",
            "7 . The Big Bounce\n",
            "8 . Letters from Iwo Jima\n",
            "9 . Silver Linings Playbook\n",
            "10 . Say It Isn't So\n",
            "11 . What's Eating Gilbert Grape\n",
            "12 . Apollo 13\n",
            "13 . Larry Crowne\n",
            "14 . Contact\n",
            "15 . Apocalypse Now\n",
            "16 . A Christmas Carol\n",
            "17 . You've Got Mail\n",
            "18 . The Purge: Election Year\n",
            "19 . Impostor\n",
            "20 . Robin and Marian\n",
            "21 . Dangerous Liaisons\n",
            "22 . Saving Private Ryan\n",
            "23 . Days of Heaven\n",
            "24 . Memoirs of an Invisible Man\n",
            "25 . Gigli\n",
            "26 . The Musketeer\n",
            "27 . Last Orders\n",
            "28 . Moneyball\n",
            "29 . Dancin' It's On\n"
          ]
        }
      ]
    },
    {
      "cell_type": "markdown",
      "source": [
        "#Top 10 movie recommendations"
      ],
      "metadata": {
        "id": "Xh-DKIbi8eHu"
      }
    },
    {
      "cell_type": "code",
      "source": [
        "movie_name= input('Enter your favourite movie name : ')\n",
        "list_of_all_titles= df['Movie_Title'].tolist()\n",
        "find_close_match= difflib.get_close_matches(movie_name, list_of_all_titles)\n",
        "close_match= find_close_match[0]\n",
        "index_of_movie= df[df.Movie_Title==close_match]['Movie_ID'].values[0]\n",
        "Recommendation_score= list(enumerate(similarity_score[index_of_movie]))\n",
        "sorted_similar_movies= sorted(Recommendation_score, key= lambda x:x[1], reverse= True)\n",
        "print('Movies suggested for you : \\n')\n",
        "i=1\n",
        "for movie in sorted_similar_movies:\n",
        "  index=movie[0]\n",
        "  title_from_index= df[df.Movie_ID==index]['Movie_Title'].values\n",
        "  if(i<10):\n",
        "    print(i,'.',title_from_index)\n",
        "    i+=1"
      ],
      "metadata": {
        "colab": {
          "base_uri": "https://localhost:8080/"
        },
        "id": "JY8Fji8T7Wc_",
        "outputId": "03819d81-ddc9-4ebe-c1d6-880cf69725a5"
      },
      "execution_count": 40,
      "outputs": [
        {
          "output_type": "stream",
          "name": "stdout",
          "text": [
            "Enter your favourite movie name : finding nemo\n",
            "Movies suggested for you : \n",
            "\n",
            "1 . ['Finding Nemo']\n",
            "2 . ['Borat: Cultural Learnings of America for Make Benefit Glorious Nation of Kazakhstan']\n",
            "3 . ['In Cold Blood']\n",
            "4 . ['Intolerable Cruelty']\n",
            "5 . ['A Nightmare on Elm Street']\n",
            "6 . ['What the #$*! Do We (K)now!?']\n",
            "7 . ['Hamlet 2']\n",
            "8 . ['Ghost Rider']\n",
            "9 . ['Chasing Mavericks']\n"
          ]
        }
      ]
    }
  ]
}